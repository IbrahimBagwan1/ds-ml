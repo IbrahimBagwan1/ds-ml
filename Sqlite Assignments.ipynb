{
 "cells": [
  {
   "cell_type": "code",
   "execution_count": 2,
   "id": "5146eeed-2240-413d-874b-438aa01f56b6",
   "metadata": {},
   "outputs": [],
   "source": [
    "import pandas \n",
    "import sqlite3"
   ]
  },
  {
   "cell_type": "code",
   "execution_count": 3,
   "id": "8e77fe92-b9cb-4859-8ac1-a8840a686e0f",
   "metadata": {},
   "outputs": [],
   "source": [
    "db = sqlite3.connect('IMDB.sqlite')"
   ]
  },
  {
   "cell_type": "code",
   "execution_count": 4,
   "id": "ed4b44c3-d8b5-4a15-9377-c17a443e0d39",
   "metadata": {},
   "outputs": [],
   "source": [
    "cur = db.cursor()"
   ]
  },
  {
   "cell_type": "code",
   "execution_count": 7,
   "id": "7d5d05af-0565-4923-b5fa-eeb68a84aebe",
   "metadata": {},
   "outputs": [
    {
     "name": "stdout",
     "output_type": "stream",
     "text": [
      "(0, 'Movie_id', 'TEXT', 0, None, 0)\n",
      "(1, 'Title', 'TEXT', 0, None, 0)\n",
      "(2, 'Rating', 'DECIMAL', 0, None, 0)\n",
      "(3, 'TotalVotes', 'INTEGER', 0, None, 0)\n",
      "(4, 'MetaCritic', 'DECIMAL', 0, None, 0)\n",
      "(5, 'Budget', 'DOUBLE', 0, None, 0)\n",
      "(6, 'Runtime', 'TEXT', 0, None, 0)\n",
      "(7, 'CVotes10', 'TEXT', 0, None, 0)\n",
      "(8, 'CVotes09', 'TEXT', 0, None, 0)\n",
      "(9, 'CVotes08', 'TEXT', 0, None, 0)\n",
      "(10, 'CVotes07', 'TEXT', 0, None, 0)\n",
      "(11, 'CVotes06', 'TEXT', 0, None, 0)\n",
      "(12, 'CVotes05', 'TEXT', 0, None, 0)\n",
      "(13, 'CVotes04', 'TEXT', 0, None, 0)\n",
      "(14, 'CVotes03', 'TEXT', 0, None, 0)\n",
      "(15, 'CVotes02', 'TEXT', 0, None, 0)\n",
      "(16, 'CVotes01', 'TEXT', 0, None, 0)\n",
      "(17, 'CVotesMale', 'TEXT', 0, None, 0)\n",
      "(18, 'CVotesFemale', 'TEXT', 0, None, 0)\n",
      "(19, 'CVotesU18', 'TEXT', 0, None, 0)\n",
      "(20, 'CVotesU18M', 'TEXT', 0, None, 0)\n",
      "(21, 'CVotesU18F', 'TEXT', 0, None, 0)\n",
      "(22, 'CVotes1829', 'TEXT', 0, None, 0)\n",
      "(23, 'CVotes1829M', 'TEXT', 0, None, 0)\n",
      "(24, 'CVotes1829F', 'TEXT', 0, None, 0)\n",
      "(25, 'CVotes3044', 'TEXT', 0, None, 0)\n",
      "(26, 'CVotes3044M', 'TEXT', 0, None, 0)\n",
      "(27, 'CVotes3044F', 'TEXT', 0, None, 0)\n",
      "(28, 'CVotes45A', 'TEXT', 0, None, 0)\n",
      "(29, 'CVotes45AM', 'TEXT', 0, None, 0)\n",
      "(30, 'CVotes45AF', 'TEXT', 0, None, 0)\n",
      "(31, 'CVotes1000', 'TEXT', 0, None, 0)\n",
      "(32, 'CVotesUS', 'TEXT', 0, None, 0)\n",
      "(33, 'CVotesnUS', 'TEXT', 0, None, 0)\n",
      "(34, 'VotesM', 'TEXT', 0, None, 0)\n",
      "(35, 'VotesF', 'TEXT', 0, None, 0)\n",
      "(36, 'VotesU18', 'TEXT', 0, None, 0)\n",
      "(37, 'VotesU18M', 'TEXT', 0, None, 0)\n",
      "(38, 'VotesU18F', 'TEXT', 0, None, 0)\n",
      "(39, 'Votes1829', 'TEXT', 0, None, 0)\n",
      "(40, 'Votes1829M', 'TEXT', 0, None, 0)\n",
      "(41, 'Votes1829F', 'TEXT', 0, None, 0)\n",
      "(42, 'Votes3044', 'TEXT', 0, None, 0)\n",
      "(43, 'Votes3044M', 'TEXT', 0, None, 0)\n",
      "(44, 'Votes3044F', 'TEXT', 0, None, 0)\n",
      "(45, 'Votes45A', 'TEXT', 0, None, 0)\n",
      "(46, 'Votes45AM', 'TEXT', 0, None, 0)\n",
      "(47, 'Votes45AF', 'TEXT', 0, None, 0)\n",
      "(48, 'VotesIMDB', 'TEXT', 0, None, 0)\n",
      "(49, 'Votes1000', 'TEXT', 0, None, 0)\n",
      "(50, 'VotesUS', 'TEXT', 0, None, 0)\n",
      "(51, 'VotesnUS', 'TEXT', 0, None, 0)\n"
     ]
    }
   ],
   "source": [
    "import sqlite3\n",
    "\n",
    "conn = sqlite3.connect('IMDB.sqlite')\n",
    "cursor = conn.cursor()\n",
    "\n",
    "# Show table schema\n",
    "cursor.execute(\"PRAGMA table_info(IMDB);\")\n",
    "for row in cursor.fetchall():\n",
    "    print(row)\n",
    "\n",
    "conn.close()\n"
   ]
  },
  {
   "cell_type": "code",
   "execution_count": 9,
   "id": "0794dc75-948e-4c20-b25d-cc6df9e5cd1a",
   "metadata": {},
   "outputs": [
    {
     "name": "stdout",
     "output_type": "stream",
     "text": [
      "Inception (2010) 8.8\n"
     ]
    }
   ],
   "source": [
    "import sqlite3\n",
    "import pandas as pd\n",
    "\n",
    "# Connect to the database\n",
    "conn = sqlite3.connect('IMDB.sqlite')\n",
    "\n",
    "# Query to get the most voted movie\n",
    "query = \"\"\"\n",
    "SELECT Title, Rating\n",
    "FROM IMDB\n",
    "ORDER BY TotalVotes DESC\n",
    "LIMIT 1;\n",
    "\"\"\"\n",
    "\n",
    "# Execute and load into DataFrame\n",
    "df = pd.read_sql_query(query, conn)\n",
    "\n",
    "# Display result\n",
    "if not df.empty:\n",
    "    print(f\"{df.loc[0, 'Title']} {df.loc[0, 'Rating']}\")\n",
    "else:\n",
    "    print(\"No data found.\")\n",
    "\n",
    "# Close the connection\n",
    "conn.close()\n"
   ]
  },
  {
   "cell_type": "code",
   "execution_count": 10,
   "id": "9d5f5247-3808-4fbe-874c-c42b601302e4",
   "metadata": {},
   "outputs": [
    {
     "name": "stdout",
     "output_type": "stream",
     "text": [
      "The Wolf of Wall Street (2013) 180\n"
     ]
    }
   ],
   "source": [
    "import sqlite3\n",
    "import pandas as pd\n",
    "\n",
    "# 📝 Problem Statement:\n",
    "# Find the movie with the longest running time from the IMDB table.\n",
    "# Print its name and runtime (as an integer), without the word \"min\".\n",
    "\n",
    "# Connect to the database\n",
    "conn = sqlite3.connect('IMDB.sqlite')\n",
    "\n",
    "# Query to extract runtime as integer and get the longest one\n",
    "query = \"\"\"\n",
    "SELECT Title, \n",
    "       CAST(REPLACE(Runtime, ' min', '') AS INTEGER) AS RunTimeInt\n",
    "FROM IMDB\n",
    "ORDER BY RunTimeInt DESC\n",
    "LIMIT 1;\n",
    "\"\"\"\n",
    "\n",
    "# Execute and load into DataFrame\n",
    "df = pd.read_sql_query(query, conn)\n",
    "\n",
    "# Print result in required format\n",
    "if not df.empty:\n",
    "    print(f\"{df.loc[0, 'Title']} {df.loc[0, 'RunTimeInt']}\")\n",
    "else:\n",
    "    print(\"No data found.\")\n",
    "\n",
    "# Close the connection\n",
    "conn.close()\n"
   ]
  },
  {
   "cell_type": "code",
   "execution_count": 12,
   "id": "314c29e4-3be8-4ac6-ae17-8a021133edd5",
   "metadata": {},
   "outputs": [
    {
     "name": "stdout",
     "output_type": "stream",
     "text": [
      "Star Wars: The Force Awakens (2015)\n"
     ]
    }
   ],
   "source": [
    "import sqlite3\n",
    "import pandas as pd\n",
    "\n",
    "# 📝 Problem Statement:\n",
    "# Find the movie with the maximum net profit.\n",
    "# Net Profit = (Domestic + Worldwide earning) - Budget\n",
    "# Print only the movie name.\n",
    "\n",
    "# Connect to the database\n",
    "conn = sqlite3.connect('IMDB.sqlite')\n",
    "\n",
    "# SQL query to calculate net profit and get the top movie\n",
    "query = \"\"\"\n",
    "SELECT IMDB.Title,\n",
    "       (CAST(earning.Domestic AS REAL) + CAST(earning.Worldwide AS REAL) - IMDB.Budget) AS NetProfit\n",
    "FROM IMDB\n",
    "JOIN earning ON IMDB.Movie_id = earning.Movie_id\n",
    "ORDER BY NetProfit DESC\n",
    "LIMIT 1;\n",
    "\"\"\"\n",
    "\n",
    "# Run the query and load result into a DataFrame\n",
    "df = pd.read_sql_query(query, conn)\n",
    "\n",
    "# Print the movie name with highest net profit\n",
    "if not df.empty:\n",
    "    print(df.loc[0, 'Title'])\n",
    "else:\n",
    "    print(\"No data found.\")\n",
    "\n",
    "# Close the connection\n",
    "conn.close()\n"
   ]
  },
  {
   "cell_type": "code",
   "execution_count": 16,
   "id": "84e851a0-fb29-4c1d-8c93-80fefd310d33",
   "metadata": {},
   "outputs": [
    {
     "name": "stdout",
     "output_type": "stream",
     "text": [
      "(0, 'Movie_id', 'TEXT', 0, None, 0)\n",
      "(1, 'Domestic', 'INTEGER', 0, None, 0)\n",
      "(2, 'Worldwide', 'DOUBLE', 0, None, 0)\n"
     ]
    }
   ],
   "source": [
    "cursor = conn.cursor()\n",
    "cursor.execute(\"PRAGMA table_info(earning);\")\n",
    "for row in cursor.fetchall():\n",
    "    print(row)\n"
   ]
  },
  {
   "cell_type": "code",
   "execution_count": 21,
   "id": "1fd49c06-9a79-49cd-9e2f-3e60f951b589",
   "metadata": {},
   "outputs": [
    {
     "name": "stdout",
     "output_type": "stream",
     "text": [
      "Star Wars: The Force Awakens (2015)\n"
     ]
    }
   ],
   "source": [
    "import sqlite3\n",
    "import pandas as pd\n",
    "\n",
    "# 📝 Problem Statement:\n",
    "# Find the movie with the highest gross earnings.\n",
    "# Gross earnings = Domestic + Worldwide\n",
    "# Print only the movie name.\n",
    "\n",
    "# Connect to the database\n",
    "conn = sqlite3.connect('IMDB.sqlite')\n",
    "\n",
    "# SQL query to calculate gross earnings and get top movie\n",
    "query = \"\"\"\n",
    "SELECT i.Title\n",
    "FROM IMDB i\n",
    "JOIN earning e ON i.Movie_id = e.Movie_id\n",
    "ORDER BY (e.Domestic + e.Worldwide) DESC\n",
    "LIMIT 2;\n",
    "\"\"\"\n",
    "\n",
    "# Execute and load into DataFrame\n",
    "df = pd.read_sql_query(query, conn)\n",
    "\n",
    "# Print the movie name with highest gross earnings\n",
    "if not df.empty:\n",
    "    print(df.loc[0, 'Title'])\n",
    "else:\n",
    "    print(\"No data found.\")\n",
    "\n",
    "# Close the connection\n",
    "conn.close()\n"
   ]
  },
  {
   "cell_type": "code",
   "execution_count": 26,
   "id": "d63be39e-7f3e-4aeb-be65-706d1efbbfca",
   "metadata": {},
   "outputs": [
    {
     "name": "stdout",
     "output_type": "stream",
     "text": [
      "Arrival (2016)\n"
     ]
    }
   ],
   "source": [
    "import sqlite3\n",
    "import pandas as pd\n",
    "\n",
    "# 📝 Problem Statement:\n",
    "# Find the movie which has both 'Sci-Fi' and 'Mystery' genres\n",
    "# and has a rating greater than or equal to 8.\n",
    "# Print only the movie name.\n",
    "\n",
    "# Connect to the database\n",
    "conn = sqlite3.connect('IMDB.sqlite')\n",
    "\n",
    "# SQL query to find movies with both genres and rating >= 8\n",
    "query = \"\"\"\n",
    "SELECT i.Title\n",
    "FROM IMDB i\n",
    "JOIN genre g1 ON i.Movie_id = g1.Movie_id\n",
    "JOIN genre g2 ON i.Movie_id = g2.Movie_id\n",
    "WHERE g1.Genre = 'Sci-Fi' AND g2.Genre = 'Mystery'\n",
    "AND i.Rating >= 8;\n",
    "\"\"\"\n",
    "\n",
    "# Execute and load into DataFrame\n",
    "df = pd.read_sql_query(query, conn)\n",
    "\n",
    "# Print movie name(s)\n",
    "for title in df['Title']:\n",
    "    print(title)\n",
    "\n",
    "conn.close()\n"
   ]
  }
 ],
 "metadata": {
  "kernelspec": {
   "display_name": "Python [conda env:base] *",
   "language": "python",
   "name": "conda-base-py"
  },
  "language_info": {
   "codemirror_mode": {
    "name": "ipython",
    "version": 3
   },
   "file_extension": ".py",
   "mimetype": "text/x-python",
   "name": "python",
   "nbconvert_exporter": "python",
   "pygments_lexer": "ipython3",
   "version": "3.13.5"
  }
 },
 "nbformat": 4,
 "nbformat_minor": 5
}
