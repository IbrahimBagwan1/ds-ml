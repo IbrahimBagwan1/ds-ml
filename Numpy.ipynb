{
 "cells": [
  {
   "cell_type": "code",
   "execution_count": 1,
   "id": "9e2fe79c-3fb1-4ebc-b802-d29e1feaf10e",
   "metadata": {},
   "outputs": [
    {
     "name": "stdout",
     "output_type": "stream",
     "text": [
      "[3 4 1 3]\n"
     ]
    }
   ],
   "source": [
    "import numpy as np\n",
    "\n",
    "a = [3,4,1.2, '3']\n",
    "b = np.array(a, dtype=int)\n",
    "print(b)"
   ]
  },
  {
   "cell_type": "code",
   "execution_count": 2,
   "id": "f55bab0f-2c6d-48d0-bb50-0561e5993a6d",
   "metadata": {},
   "outputs": [
    {
     "name": "stdout",
     "output_type": "stream",
     "text": [
      "[1 1 1 1 1 1 1 1 1 1 1]\n",
      "[0 0 0 0 0 0 0 0 0 0 0]\n",
      "[[1 1 1 1]\n",
      " [1 1 1 1]\n",
      " [1 1 1 1]\n",
      " [1 1 1 1]]\n",
      "[nan  0.  0.  0.  0.  0.  0.  0.  0.  0.]\n",
      "[[4 4 4]\n",
      " [4 4 4]\n",
      " [4 4 4]]\n"
     ]
    }
   ],
   "source": [
    "# \n",
    "c = np.ones(11, dtype= int)\n",
    "d = np.zeros(11, dtype = int)\n",
    "e = np.ones((4,4), dtype= int)\n",
    "print(c)\n",
    "print(d)\n",
    "print(e)\n",
    "\n",
    "c =np.empty(10) # creates empty none items of size given\n",
    "f = np.full((3,3),4)\n",
    "\n",
    "print(c)\n",
    "print(f)"
   ]
  },
  {
   "cell_type": "code",
   "execution_count": 3,
   "id": "df1c1e63-f948-4e83-92a1-5ae70c55f86e",
   "metadata": {},
   "outputs": [
    {
     "data": {
      "text/plain": [
       "array([0, 1, 2, 3, 4, 5, 6, 7, 8, 9])"
      ]
     },
     "execution_count": 3,
     "metadata": {},
     "output_type": "execute_result"
    }
   ],
   "source": [
    "b = np.arange(10)\n",
    "b"
   ]
  },
  {
   "cell_type": "code",
   "execution_count": 4,
   "id": "7f8fa49b-a773-4bdf-8515-32cbc3e9cf12",
   "metadata": {},
   "outputs": [
    {
     "data": {
      "text/plain": [
       "array([ 2,  4,  6,  8, 10, 12, 14, 16, 18, 20])"
      ]
     },
     "execution_count": 4,
     "metadata": {},
     "output_type": "execute_result"
    }
   ],
   "source": [
    "b = np.arange(2,21,2)\n",
    "b"
   ]
  },
  {
   "cell_type": "code",
   "execution_count": 5,
   "id": "6c51a1d6-5e33-4136-8c7e-346bf1b59d48",
   "metadata": {},
   "outputs": [
    {
     "name": "stdout",
     "output_type": "stream",
     "text": [
      "[ 2  4  6  8 10]\n"
     ]
    }
   ],
   "source": [
    "z = np.linspace(2,20)\n",
    "z\n",
    "\n",
    "a = np.linspace(2,10,5, dtype=int)\n",
    "print(a)"
   ]
  },
  {
   "cell_type": "code",
   "execution_count": 6,
   "id": "e15e294d-fb1a-409e-b537-b2ecf87fcda2",
   "metadata": {},
   "outputs": [
    {
     "name": "stdout",
     "output_type": "stream",
     "text": [
      "[[1. 0. 0.]\n",
      " [0. 1. 0.]\n",
      " [0. 0. 1.]]\n"
     ]
    }
   ],
   "source": [
    " d  = np.identity(3)\n",
    "print(d) # identity Matrix"
   ]
  },
  {
   "cell_type": "code",
   "execution_count": 7,
   "id": "ff6a769a-bb97-4bad-aaf9-e1e9696d8a4e",
   "metadata": {},
   "outputs": [
    {
     "name": "stdout",
     "output_type": "stream",
     "text": [
      "[[1. 0. 0. 0.]\n",
      " [0. 1. 0. 0.]\n",
      " [0. 0. 1. 0.]]\n"
     ]
    }
   ],
   "source": [
    "a = np.eye(3,4)\n",
    "print(a)"
   ]
  },
  {
   "cell_type": "code",
   "execution_count": 8,
   "id": "22ed26dd-02ed-4087-8478-db0db7e73774",
   "metadata": {},
   "outputs": [
    {
     "name": "stdout",
     "output_type": "stream",
     "text": [
      "[0.8701649  0.23571323 0.31164913 0.47160583]\n"
     ]
    }
   ],
   "source": [
    "b = np.random.rand(4)\n",
    "print(b)"
   ]
  },
  {
   "cell_type": "code",
   "execution_count": 9,
   "id": "b3d395fd-5a4e-4b82-97c6-7d3658a8d584",
   "metadata": {},
   "outputs": [
    {
     "name": "stdout",
     "output_type": "stream",
     "text": [
      "[[0.53915352 0.64923611 0.07671029]\n",
      " [0.95267953 0.74851015 0.86186333]]\n",
      "\n",
      "[[7.12614337 1.68577128 2.02143024]\n",
      " [2.60502618 3.04127346 7.02535659]]\n"
     ]
    }
   ],
   "source": [
    "print(np.random.rand(2,3))\n",
    "print()\n",
    "print(np.random.rand(2,3)*10)"
   ]
  },
  {
   "cell_type": "raw",
   "id": "e7abaf5f-f784-4521-926e-d3ea8c3a4849",
   "metadata": {},
   "source": [
    "a = np.random.randint(10, (4,4))\n",
    "print(a)"
   ]
  },
  {
   "cell_type": "code",
   "execution_count": 11,
   "id": "4324a3fb-b4a0-40cf-8807-bb0b429dd42b",
   "metadata": {},
   "outputs": [
    {
     "name": "stdout",
     "output_type": "stream",
     "text": [
      "[ 0  1  2  3  4  5  6  7  8  9 10]\n"
     ]
    }
   ],
   "source": [
    "import numpy as np\n",
    "\n",
    "arr = np.arange(11)\n",
    "print(arr)"
   ]
  },
  {
   "cell_type": "code",
   "execution_count": 14,
   "id": "e7ab541b-f0ef-4d32-bdbc-0924148b4406",
   "metadata": {},
   "outputs": [
    {
     "name": "stdout",
     "output_type": "stream",
     "text": [
      "<memory at 0x000001FFC8B0AA40>\n",
      "(11,)\n",
      "(8,)\n",
      "int64\n"
     ]
    }
   ],
   "source": [
    "print(arr.data)\n",
    "print(arr.shape)\n",
    "print(arr.strides) # 8 bytes one element\n",
    "print(arr.dtype)"
   ]
  },
  {
   "cell_type": "code",
   "execution_count": 18,
   "id": "a0799b51-1611-4302-9f43-b7dd36b481b2",
   "metadata": {},
   "outputs": [
    {
     "name": "stdout",
     "output_type": "stream",
     "text": [
      "[[1 1 1]\n",
      " [1 1 1]\n",
      " [1 1 1]]\n"
     ]
    }
   ],
   "source": [
    "arr = np.ones((3,3), dtype=int)\n",
    "print(arr)"
   ]
  },
  {
   "cell_type": "code",
   "execution_count": 20,
   "id": "21a5349e-28ec-4e74-a6f5-f4cd432939eb",
   "metadata": {},
   "outputs": [
    {
     "name": "stdout",
     "output_type": "stream",
     "text": [
      "<memory at 0x000001FFC8D6FB90>\n",
      "(3, 3)\n",
      "(24, 8)\n",
      "int64\n"
     ]
    }
   ],
   "source": [
    "print(arr.data)\n",
    "print(arr.shape)\n",
    "print(arr.strides) #  bytes one element here is it is different.\n",
    "print(arr.dtype)"
   ]
  },
  {
   "cell_type": "code",
   "execution_count": 27,
   "id": "7ce6ba55-71ff-42d1-b091-e8895df3d660",
   "metadata": {},
   "outputs": [],
   "source": [
    "# we cannot have list slicing for 2D arrays\n",
    "# but for NP 2D arrays we can do the slicings"
   ]
  },
  {
   "cell_type": "code",
   "execution_count": 32,
   "id": "a03d88db-43d7-489c-b78e-8f3a52d87aa5",
   "metadata": {},
   "outputs": [
    {
     "name": "stdout",
     "output_type": "stream",
     "text": [
      "[12  7 11  1  8]\n",
      "[13  8 12  2  9]\n"
     ]
    }
   ],
   "source": [
    "a = np.random.randint(1,20,5)\n",
    "print(a)\n",
    "\n",
    "b = np.random.randint(2,22,5)\n",
    "\n",
    "\n",
    "a = a+1\n",
    "print (a)"
   ]
  },
  {
   "cell_type": "code",
   "execution_count": 35,
   "id": "aa74a059-5cc6-4246-8e0a-f15c809dfd75",
   "metadata": {},
   "outputs": [
    {
     "name": "stdout",
     "output_type": "stream",
     "text": [
      "[0, 1, 2, 3, 4, 5, 6, 7, 8, 9]\n",
      "[1, 2, 3, 4, 5, 6, 7, 8, 9, 10]\n"
     ]
    }
   ],
   "source": [
    "li = [i for i in range(10)]\n",
    "print(li)\n",
    "li = [i+1 for i in li]\n",
    "print(li)\n"
   ]
  },
  {
   "cell_type": "code",
   "execution_count": 38,
   "id": "c9041b1d-440a-40c3-894f-dda5296b4d83",
   "metadata": {},
   "outputs": [
    {
     "name": "stdout",
     "output_type": "stream",
     "text": [
      "[ 9  0 -5 -8 -8]\n",
      "[17 16 29 12 26]\n",
      "[3.25       1.         0.70588235 0.2        0.52941176]\n",
      "[ 52  64 204  20 153]\n",
      "[3 1 0 0 0]\n",
      "[     28561   16777216          0       1024 -217042295]\n"
     ]
    }
   ],
   "source": [
    "# we can directly do \n",
    "print(a-b)\n",
    "print(a+b)\n",
    "print(a/b)\n",
    "print(a*b)\n",
    "print(a//b)\n",
    "print(a**b)\n",
    "# for np arrays\n"
   ]
  },
  {
   "cell_type": "code",
   "execution_count": 41,
   "id": "038da4e2-0d99-408d-a6c5-bbfac0ef8cfe",
   "metadata": {},
   "outputs": [
    {
     "name": "stdout",
     "output_type": "stream",
     "text": [
      "3\n",
      "0\n",
      "8.8\n"
     ]
    }
   ],
   "source": [
    "print(a.argmin()) # gives index of min element\n",
    "print(a.argmax()) # gives index of max element\n",
    "print(a.mean())   # gives the average"
   ]
  },
  {
   "cell_type": "code",
   "execution_count": 44,
   "id": "ef01fce6-6f9e-4ff9-a45d-35b5c0fc57a4",
   "metadata": {},
   "outputs": [],
   "source": [
    "# we can do even relational and logical operations on NP arrays directly "
   ]
  },
  {
   "cell_type": "code",
   "execution_count": 49,
   "id": "0e4d7eb4-022a-4992-9075-8a33efa2e56c",
   "metadata": {},
   "outputs": [
    {
     "name": "stdout",
     "output_type": "stream",
     "text": [
      "[ True  True  True  True  True]\n",
      "[False False False False False]\n",
      "[0 0 0 0 0]\n"
     ]
    }
   ],
   "source": [
    "print(np.logical_or(a,b))\n",
    "print(np.logical_and(a,b))\n",
    "print(np.logical_not(a,b))"
   ]
  },
  {
   "cell_type": "code",
   "execution_count": 74,
   "id": "c95686ac-5b7c-4c18-a43b-37686140067d",
   "metadata": {},
   "outputs": [
    {
     "name": "stdout",
     "output_type": "stream",
     "text": [
      "[ True False  True  True False False  True False]\n",
      "[19 17 19 16]\n",
      "[19 17 19 16]\n"
     ]
    }
   ],
   "source": [
    "# using bool indexing\n",
    "\n",
    "ar = np.random.randint(1,20,8)\n",
    "\n",
    "bool_arr = ar > 10\n",
    "print(bool_arr)\n",
    "final_arr = ar[bool_arr]\n",
    "print(final_arr)\n",
    "\n",
    "bool_fi = ar[ar>10] # we can write the same thing like this\n",
    "print(bool_fi)"
   ]
  },
  {
   "cell_type": "code",
   "execution_count": 90,
   "id": "bf9cb26c-2b29-45d2-bfe6-3824f1e469e2",
   "metadata": {},
   "outputs": [
    {
     "name": "stdout",
     "output_type": "stream",
     "text": [
      "(array([3, 4, 5, 6]),)\n"
     ]
    }
   ],
   "source": [
    "abc = np.array([1,2,3,10,10,10,10])\n",
    "idx = (np.where(abc==10))\n",
    "print(idx)"
   ]
  },
  {
   "cell_type": "code",
   "execution_count": 93,
   "id": "e5b9c0e7-7fe2-4a66-b90f-fb8336575d00",
   "metadata": {},
   "outputs": [
    {
     "name": "stdout",
     "output_type": "stream",
     "text": [
      "[[12  8 27 13  7 17]\n",
      " [ 2  4 26 24 11  4]\n",
      " [18  8 25  8  7 22]\n",
      " [ 4 23 23 14 23 15]\n",
      " [23 18 21 14 20 21]]\n"
     ]
    }
   ],
   "source": [
    "a = np.random.randint(1,30, (5,6))\n",
    "print(a)"
   ]
  },
  {
   "cell_type": "code",
   "execution_count": 101,
   "id": "ed48bbd7-3767-4bcd-a3e1-1156b924617d",
   "metadata": {},
   "outputs": [],
   "source": [
    "dd_array = a>20"
   ]
  },
  {
   "cell_type": "code",
   "execution_count": 103,
   "id": "c4c7547e-09ac-4363-b4f9-6022667a343c",
   "metadata": {},
   "outputs": [
    {
     "name": "stdout",
     "output_type": "stream",
     "text": [
      "[[ 12   8 100  13   7  17]\n",
      " [  2   4 100 100  11   4]\n",
      " [ 18   8 100   8   7 100]\n",
      " [  4 100 100  14 100  15]\n",
      " [100  18 100  14  20 100]]\n"
     ]
    }
   ],
   "source": [
    "a[dd_array] = 100\n",
    "print(a)"
   ]
  },
  {
   "cell_type": "code",
   "execution_count": null,
   "id": "bf4d9c2a-1c85-42ff-a66a-14bd87140038",
   "metadata": {},
   "outputs": [],
   "source": []
  },
  {
   "cell_type": "code",
   "execution_count": null,
   "id": "8832ec47-b2be-4e7d-ac9d-bbb5d85c153a",
   "metadata": {},
   "outputs": [],
   "source": []
  },
  {
   "cell_type": "code",
   "execution_count": 105,
   "id": "9a362dc0-9319-4bd7-bd43-3b8ef9efda97",
   "metadata": {},
   "outputs": [
    {
     "name": "stdout",
     "output_type": "stream",
     "text": [
      "[[19 24 18]\n",
      " [ 6 14  4]\n",
      " [23 19 14]]\n"
     ]
    }
   ],
   "source": [
    "## BroadCasting\n",
    "abb = np.random.randint(1,10,(3,3))\n",
    "bbb = np.random.randint(1,20,(3,3))\n",
    "print(abb + bbb)  "
   ]
  },
  {
   "cell_type": "code",
   "execution_count": 109,
   "id": "1d1a6fae-3baa-42ac-a168-2a08649c14ce",
   "metadata": {},
   "outputs": [
    {
     "name": "stdout",
     "output_type": "stream",
     "text": [
      "[[2 1 1]\n",
      " [1 7 8]\n",
      " [4 6 2]]\n",
      "[3 9 3]\n",
      "[[ 5 10  4]\n",
      " [ 4 16 11]\n",
      " [ 7 15  5]]\n"
     ]
    }
   ],
   "source": [
    "\n",
    "abb = np.random.randint(1,10,(3,3))\n",
    "print(abb)\n",
    "bbb = np.random.randint(1,20,(3))\n",
    "print(bbb)\n",
    "print(abb + bbb) # broadcasting is hapening internally, "
   ]
  },
  {
   "cell_type": "code",
   "execution_count": 120,
   "id": "058e0e49-e7cd-4a9a-be0d-3c32a229ebfb",
   "metadata": {},
   "outputs": [
    {
     "name": "stdout",
     "output_type": "stream",
     "text": [
      "[[2 1 4]\n",
      " [1 7 6]\n",
      " [1 8 2]]\n",
      "[[2 7 2 1]\n",
      " [1 6 2 7]\n",
      " [4 1 1 6]\n",
      " [1 8 4 1]]\n"
     ]
    }
   ],
   "source": [
    "# other methods\n",
    "print(abb)\n",
    "abb=np.resize(abb,(4,4))\n",
    "abb =np.transpose(abb)\n",
    "# np.reshape(abb, (4,4))\n",
    "print(abb)"
   ]
  }
 ],
 "metadata": {
  "kernelspec": {
   "display_name": "Python [conda env:base] *",
   "language": "python",
   "name": "conda-base-py"
  },
  "language_info": {
   "codemirror_mode": {
    "name": "ipython",
    "version": 3
   },
   "file_extension": ".py",
   "mimetype": "text/x-python",
   "name": "python",
   "nbconvert_exporter": "python",
   "pygments_lexer": "ipython3",
   "version": "3.13.5"
  }
 },
 "nbformat": 4,
 "nbformat_minor": 5
}
