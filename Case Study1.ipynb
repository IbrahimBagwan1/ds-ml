{
 "cells": [
  {
   "cell_type": "code",
   "execution_count": 7,
   "id": "6a88bfb0-c77a-4ebe-aab7-b5d25a130bc9",
   "metadata": {},
   "outputs": [],
   "source": [
    "import pandas as pd\n",
    "import numpy as np\n",
    "import matplotlib.pyplot as plt"
   ]
  },
  {
   "cell_type": "code",
   "execution_count": 29,
   "id": "e3f4a056-1b48-46ce-8579-fee716ef5202",
   "metadata": {},
   "outputs": [
    {
     "data": {
      "text/html": [
       "<div>\n",
       "<style scoped>\n",
       "    .dataframe tbody tr th:only-of-type {\n",
       "        vertical-align: middle;\n",
       "    }\n",
       "\n",
       "    .dataframe tbody tr th {\n",
       "        vertical-align: top;\n",
       "    }\n",
       "\n",
       "    .dataframe thead th {\n",
       "        text-align: right;\n",
       "    }\n",
       "</style>\n",
       "<table border=\"1\" class=\"dataframe\">\n",
       "  <thead>\n",
       "    <tr style=\"text-align: right;\">\n",
       "      <th></th>\n",
       "      <th>SNo</th>\n",
       "      <th>Date</th>\n",
       "      <th>StartupName</th>\n",
       "      <th>IndustryVertical</th>\n",
       "      <th>SubVertical</th>\n",
       "      <th>CityLocation</th>\n",
       "      <th>InvestorsName</th>\n",
       "      <th>InvestmentType</th>\n",
       "      <th>AmountInUSD</th>\n",
       "      <th>Remarks</th>\n",
       "    </tr>\n",
       "  </thead>\n",
       "  <tbody>\n",
       "    <tr>\n",
       "      <th>0</th>\n",
       "      <td>0</td>\n",
       "      <td>01-08-2017</td>\n",
       "      <td>TouchKin</td>\n",
       "      <td>Technology</td>\n",
       "      <td>Predictive Care Platform</td>\n",
       "      <td>Bangalore</td>\n",
       "      <td>Kae Capital</td>\n",
       "      <td>Private Equity</td>\n",
       "      <td>13,00,000</td>\n",
       "      <td>NaN</td>\n",
       "    </tr>\n",
       "    <tr>\n",
       "      <th>1</th>\n",
       "      <td>1</td>\n",
       "      <td>02-08-2017</td>\n",
       "      <td>Ethinos</td>\n",
       "      <td>Technology</td>\n",
       "      <td>Digital Marketing Agency</td>\n",
       "      <td>Mumbai</td>\n",
       "      <td>Triton Investment Advisors</td>\n",
       "      <td>Private Equity</td>\n",
       "      <td>NaN</td>\n",
       "      <td>NaN</td>\n",
       "    </tr>\n",
       "    <tr>\n",
       "      <th>2</th>\n",
       "      <td>2</td>\n",
       "      <td>02-08-2017</td>\n",
       "      <td>Leverage Edu</td>\n",
       "      <td>Consumer Internet</td>\n",
       "      <td>Online platform for Higher Education Services</td>\n",
       "      <td>New Delhi</td>\n",
       "      <td>Kashyap Deorah, Anand Sankeshwar, Deepak Jain,...</td>\n",
       "      <td>Seed Funding</td>\n",
       "      <td>NaN</td>\n",
       "      <td>NaN</td>\n",
       "    </tr>\n",
       "    <tr>\n",
       "      <th>3</th>\n",
       "      <td>3</td>\n",
       "      <td>02-08-2017</td>\n",
       "      <td>Zepo</td>\n",
       "      <td>Consumer Internet</td>\n",
       "      <td>DIY Ecommerce platform</td>\n",
       "      <td>Mumbai</td>\n",
       "      <td>Kunal Shah, LetsVenture, Anupam Mittal, Hetal ...</td>\n",
       "      <td>Seed Funding</td>\n",
       "      <td>5,00,000</td>\n",
       "      <td>NaN</td>\n",
       "    </tr>\n",
       "    <tr>\n",
       "      <th>4</th>\n",
       "      <td>4</td>\n",
       "      <td>02-08-2017</td>\n",
       "      <td>Click2Clinic</td>\n",
       "      <td>Consumer Internet</td>\n",
       "      <td>healthcare service aggregator</td>\n",
       "      <td>Hyderabad</td>\n",
       "      <td>Narottam Thudi, Shireesh Palle</td>\n",
       "      <td>Seed Funding</td>\n",
       "      <td>8,50,000</td>\n",
       "      <td>NaN</td>\n",
       "    </tr>\n",
       "  </tbody>\n",
       "</table>\n",
       "</div>"
      ],
      "text/plain": [
       "   SNo        Date   StartupName   IndustryVertical  \\\n",
       "0    0  01-08-2017      TouchKin         Technology   \n",
       "1    1  02-08-2017       Ethinos         Technology   \n",
       "2    2  02-08-2017  Leverage Edu  Consumer Internet   \n",
       "3    3  02-08-2017          Zepo  Consumer Internet   \n",
       "4    4  02-08-2017  Click2Clinic  Consumer Internet   \n",
       "\n",
       "                                     SubVertical CityLocation  \\\n",
       "0                       Predictive Care Platform    Bangalore   \n",
       "1                       Digital Marketing Agency       Mumbai   \n",
       "2  Online platform for Higher Education Services    New Delhi   \n",
       "3                         DIY Ecommerce platform       Mumbai   \n",
       "4                  healthcare service aggregator    Hyderabad   \n",
       "\n",
       "                                       InvestorsName  InvestmentType  \\\n",
       "0                                        Kae Capital  Private Equity   \n",
       "1                         Triton Investment Advisors  Private Equity   \n",
       "2  Kashyap Deorah, Anand Sankeshwar, Deepak Jain,...    Seed Funding   \n",
       "3  Kunal Shah, LetsVenture, Anupam Mittal, Hetal ...    Seed Funding   \n",
       "4                     Narottam Thudi, Shireesh Palle    Seed Funding   \n",
       "\n",
       "  AmountInUSD Remarks  \n",
       "0   13,00,000     NaN  \n",
       "1         NaN     NaN  \n",
       "2         NaN     NaN  \n",
       "3    5,00,000     NaN  \n",
       "4    8,50,000     NaN  "
      ]
     },
     "execution_count": 29,
     "metadata": {},
     "output_type": "execute_result"
    }
   ],
   "source": [
    "data = pd.read_csv(\"Datasets/startup_funding.csv\")\n",
    "df = data\n",
    "df.head()"
   ]
  },
  {
   "cell_type": "code",
   "execution_count": 10,
   "id": "c6e78919-5af6-4756-9947-bcb58f533d0d",
   "metadata": {},
   "outputs": [
    {
     "data": {
      "text/html": [
       "<div>\n",
       "<style scoped>\n",
       "    .dataframe tbody tr th:only-of-type {\n",
       "        vertical-align: middle;\n",
       "    }\n",
       "\n",
       "    .dataframe tbody tr th {\n",
       "        vertical-align: top;\n",
       "    }\n",
       "\n",
       "    .dataframe thead th {\n",
       "        text-align: right;\n",
       "    }\n",
       "</style>\n",
       "<table border=\"1\" class=\"dataframe\">\n",
       "  <thead>\n",
       "    <tr style=\"text-align: right;\">\n",
       "      <th></th>\n",
       "      <th>SNo</th>\n",
       "    </tr>\n",
       "  </thead>\n",
       "  <tbody>\n",
       "    <tr>\n",
       "      <th>count</th>\n",
       "      <td>2372.000000</td>\n",
       "    </tr>\n",
       "    <tr>\n",
       "      <th>mean</th>\n",
       "      <td>1185.500000</td>\n",
       "    </tr>\n",
       "    <tr>\n",
       "      <th>std</th>\n",
       "      <td>684.881742</td>\n",
       "    </tr>\n",
       "    <tr>\n",
       "      <th>min</th>\n",
       "      <td>0.000000</td>\n",
       "    </tr>\n",
       "    <tr>\n",
       "      <th>25%</th>\n",
       "      <td>592.750000</td>\n",
       "    </tr>\n",
       "    <tr>\n",
       "      <th>50%</th>\n",
       "      <td>1185.500000</td>\n",
       "    </tr>\n",
       "    <tr>\n",
       "      <th>75%</th>\n",
       "      <td>1778.250000</td>\n",
       "    </tr>\n",
       "    <tr>\n",
       "      <th>max</th>\n",
       "      <td>2371.000000</td>\n",
       "    </tr>\n",
       "  </tbody>\n",
       "</table>\n",
       "</div>"
      ],
      "text/plain": [
       "               SNo\n",
       "count  2372.000000\n",
       "mean   1185.500000\n",
       "std     684.881742\n",
       "min       0.000000\n",
       "25%     592.750000\n",
       "50%    1185.500000\n",
       "75%    1778.250000\n",
       "max    2371.000000"
      ]
     },
     "execution_count": 10,
     "metadata": {},
     "output_type": "execute_result"
    }
   ],
   "source": [
    "df.describe()"
   ]
  },
  {
   "cell_type": "code",
   "execution_count": 12,
   "id": "26e0d910-f495-41be-8887-a39779412e87",
   "metadata": {},
   "outputs": [
    {
     "data": {
      "text/plain": [
       "SNo                 2372\n",
       "Date                2372\n",
       "StartupName         2372\n",
       "IndustryVertical    2372\n",
       "SubVertical         2372\n",
       "CityLocation        2372\n",
       "InvestorsName       2372\n",
       "InvestmentType      2372\n",
       "AmountInUSD         2372\n",
       "Remarks             2372\n",
       "dtype: int64"
      ]
     },
     "execution_count": 12,
     "metadata": {},
     "output_type": "execute_result"
    }
   ],
   "source": [
    "df.isnull().count()"
   ]
  },
  {
   "cell_type": "code",
   "execution_count": 30,
   "id": "c87c61d9-25d4-4674-810e-a47df1b81015",
   "metadata": {},
   "outputs": [],
   "source": [
    "# Find out what type of startups are getting funded in last few years\n",
    "startup_type = {}\n",
    "\n",
    "for startup in df['IndustryVertical']:\n",
    "    if startup in startup_type:\n",
    "        startup_type[startup] +=1\n",
    "    else :\n",
    "        startup_type[startup] =1\n",
    "        "
   ]
  },
  {
   "cell_type": "code",
   "execution_count": 52,
   "id": "a7d36629-61d6-4165-8c27-d3fae136368b",
   "metadata": {},
   "outputs": [
    {
     "name": "stdout",
     "output_type": "stream",
     "text": [
      "The Top Tech Startups Domain: Consumer Internet With Total Number: 772\n",
      "The Top Tech Startups Domain: Technology With Total Number: 313\n",
      "The Top Tech Startups Domain: eCommerce With Total Number: 171\n",
      "The Top Tech Startups Domain: nan With Total Number: 171\n",
      "The Top Tech Startups Domain: ECommerce With Total Number: 53\n",
      "The Top Tech Startups Domain: Healthcare With Total Number: 30\n"
     ]
    }
   ],
   "source": [
    "# print(startup_type)\n",
    "# print(max(startup_type.values()))\n",
    "\n",
    "top_10 = sorted(startup_type.items(), key = lambda x:x[1], reverse=True)[:6]\n",
    "\n",
    "top_10 = [item for item in top_10 if item[0] != 'nan']\n",
    "\n",
    "for key,values in top_10:\n",
    "    print(\"The Top Tech Startups Domain:\",key, \"With Total Number:\",values)\n"
   ]
  },
  {
   "cell_type": "code",
   "execution_count": 49,
   "id": "6e17f6a9-c167-4e8d-a989-c88d6912f1ca",
   "metadata": {},
   "outputs": [
    {
     "data": {
      "image/png": "[encoded data removed]",
      "text/plain": [
       "<Figure size 640x480 with 1 Axes>"
      ]
     },
     "metadata": {},
     "output_type": "display_data"
    }
   ],
   "source": [
    "keys = [key for key,value in top_10]\n",
    "values = [value for key,value in top_10]\n",
    "plt.figsize=(8,8)\n",
    "plt.pie(values, labels = keys, autopct='%1.1f%%', startangle=140)\n",
    "plt.title(\"Top 10 Tech Startups According to our Data\")\n",
    "plt.axis('equal')\n",
    "plt.show()"
   ]
  },
  {
   "cell_type": "code",
   "execution_count": null,
   "id": "b5a9183e-9e7e-40d5-ab07-a643ff77fc97",
   "metadata": {},
   "outputs": [],
   "source": []
  },
  {
   "cell_type": "code",
   "execution_count": 55,
   "id": "daf37f38-74cc-4997-9695-57d87cd0ee19",
   "metadata": {},
   "outputs": [
    {
     "name": "stdout",
     "output_type": "stream",
     "text": [
      "0\n"
     ]
    }
   ],
   "source": [
    "# total number of funding done in each year\n",
    "# from 2015 to 2017\n",
    "\n",
    "df.head()\n",
    "print(df['Date'].isnull().sum())\n"
   ]
  },
  {
   "cell_type": "code",
   "execution_count": 57,
   "id": "d6cbb056-4347-4edd-80bd-4b72e848150d",
   "metadata": {},
   "outputs": [
    {
     "name": "stdout",
     "output_type": "stream",
     "text": [
      "   SNo        Date   StartupName   IndustryVertical  \\\n",
      "0    0  01-08-2017      TouchKin         Technology   \n",
      "1    1  02-08-2017       Ethinos         Technology   \n",
      "2    2  02-08-2017  Leverage Edu  Consumer Internet   \n",
      "3    3  02-08-2017          Zepo  Consumer Internet   \n",
      "4    4  02-08-2017  Click2Clinic  Consumer Internet   \n",
      "\n",
      "                                     SubVertical CityLocation  \\\n",
      "0                       Predictive Care Platform    Bangalore   \n",
      "1                       Digital Marketing Agency       Mumbai   \n",
      "2  Online platform for Higher Education Services    New Delhi   \n",
      "3                         DIY Ecommerce platform       Mumbai   \n",
      "4                  healthcare service aggregator    Hyderabad   \n",
      "\n",
      "                                       InvestorsName  InvestmentType  \\\n",
      "0                                        Kae Capital  Private Equity   \n",
      "1                         Triton Investment Advisors  Private Equity   \n",
      "2  Kashyap Deorah, Anand Sankeshwar, Deepak Jain,...    Seed Funding   \n",
      "3  Kunal Shah, LetsVenture, Anupam Mittal, Hetal ...    Seed Funding   \n",
      "4                     Narottam Thudi, Shireesh Palle    Seed Funding   \n",
      "\n",
      "  AmountInUSD Remarks  \n",
      "0   13,00,000     NaN  \n",
      "1         NaN     NaN  \n",
      "2         NaN     NaN  \n",
      "3    5,00,000     NaN  \n",
      "4    8,50,000     NaN  \n"
     ]
    }
   ],
   "source": [
    "print(df.head())"
   ]
  },
  {
   "cell_type": "code",
   "execution_count": 64,
   "id": "a3cab7df-3d85-42cd-8dec-ff2ed349a9ab",
   "metadata": {},
   "outputs": [
    {
     "name": "stdout",
     "output_type": "stream",
     "text": [
      "{'2017': 443, '2016': 993, '2015': 931}\n"
     ]
    }
   ],
   "source": [
    "year = {}\n",
    "\n",
    "for row in df['Date']:\n",
    "    try:\n",
    "        if pd.isna(row):\n",
    "            continue\n",
    "        day, month, yr = row.strip().split('-')\n",
    "    \n",
    "        if yr in year:\n",
    "            year[yr]+=1\n",
    "        else:\n",
    "            year[yr]=1\n",
    "    except Exception as e:\n",
    "        continue\n",
    "print(year)"
   ]
  },
  {
   "cell_type": "code",
   "execution_count": 70,
   "id": "c7717ebb-50fc-4529-ac9a-ddcb553ce1e7",
   "metadata": {},
   "outputs": [
    {
     "name": "stdout",
     "output_type": "stream",
     "text": [
      "The Top Year of Getting Most Startups is: 2016 With Total Number: 993\n",
      "The Top Year of Getting Most Startups is: 2015 With Total Number: 931\n",
      "The Top Year of Getting Most Startups is: 2017 With Total Number: 443\n"
     ]
    }
   ],
   "source": [
    "top = sorted(year.items(), key = lambda x:x[1], reverse=True)\n",
    "\n",
    "# top = [item for item in top if item[0] != 'nan']\n",
    "\n",
    "for key,values in top:\n",
    "    print(\"The Top Year of Getting Most Startups is:\",key, \"With Total Number:\",values)\n"
   ]
  },
  {
   "cell_type": "code",
   "execution_count": null,
   "id": "bdd15983-2e02-474e-bd6b-741d40bd7928",
   "metadata": {},
   "outputs": [],
   "source": []
  },
  {
   "cell_type": "code",
   "execution_count": 72,
   "id": "a6d9c056-7877-4325-a1a2-6f4a48ccdf8d",
   "metadata": {},
   "outputs": [
    {
     "data": {
      "text/html": [
       "<div>\n",
       "<style scoped>\n",
       "    .dataframe tbody tr th:only-of-type {\n",
       "        vertical-align: middle;\n",
       "    }\n",
       "\n",
       "    .dataframe tbody tr th {\n",
       "        vertical-align: top;\n",
       "    }\n",
       "\n",
       "    .dataframe thead th {\n",
       "        text-align: right;\n",
       "    }\n",
       "</style>\n",
       "<table border=\"1\" class=\"dataframe\">\n",
       "  <thead>\n",
       "    <tr style=\"text-align: right;\">\n",
       "      <th></th>\n",
       "      <th>SNo</th>\n",
       "      <th>Date</th>\n",
       "      <th>StartupName</th>\n",
       "      <th>IndustryVertical</th>\n",
       "      <th>SubVertical</th>\n",
       "      <th>CityLocation</th>\n",
       "      <th>InvestorsName</th>\n",
       "      <th>InvestmentType</th>\n",
       "      <th>AmountInUSD</th>\n",
       "      <th>Remarks</th>\n",
       "    </tr>\n",
       "  </thead>\n",
       "  <tbody>\n",
       "    <tr>\n",
       "      <th>0</th>\n",
       "      <td>0</td>\n",
       "      <td>01-08-2017</td>\n",
       "      <td>TouchKin</td>\n",
       "      <td>Technology</td>\n",
       "      <td>Predictive Care Platform</td>\n",
       "      <td>Bangalore</td>\n",
       "      <td>Kae Capital</td>\n",
       "      <td>Private Equity</td>\n",
       "      <td>13,00,000</td>\n",
       "      <td>NaN</td>\n",
       "    </tr>\n",
       "    <tr>\n",
       "      <th>1</th>\n",
       "      <td>1</td>\n",
       "      <td>02-08-2017</td>\n",
       "      <td>Ethinos</td>\n",
       "      <td>Technology</td>\n",
       "      <td>Digital Marketing Agency</td>\n",
       "      <td>Mumbai</td>\n",
       "      <td>Triton Investment Advisors</td>\n",
       "      <td>Private Equity</td>\n",
       "      <td>NaN</td>\n",
       "      <td>NaN</td>\n",
       "    </tr>\n",
       "    <tr>\n",
       "      <th>2</th>\n",
       "      <td>2</td>\n",
       "      <td>02-08-2017</td>\n",
       "      <td>Leverage Edu</td>\n",
       "      <td>Consumer Internet</td>\n",
       "      <td>Online platform for Higher Education Services</td>\n",
       "      <td>New Delhi</td>\n",
       "      <td>Kashyap Deorah, Anand Sankeshwar, Deepak Jain,...</td>\n",
       "      <td>Seed Funding</td>\n",
       "      <td>NaN</td>\n",
       "      <td>NaN</td>\n",
       "    </tr>\n",
       "    <tr>\n",
       "      <th>3</th>\n",
       "      <td>3</td>\n",
       "      <td>02-08-2017</td>\n",
       "      <td>Zepo</td>\n",
       "      <td>Consumer Internet</td>\n",
       "      <td>DIY Ecommerce platform</td>\n",
       "      <td>Mumbai</td>\n",
       "      <td>Kunal Shah, LetsVenture, Anupam Mittal, Hetal ...</td>\n",
       "      <td>Seed Funding</td>\n",
       "      <td>5,00,000</td>\n",
       "      <td>NaN</td>\n",
       "    </tr>\n",
       "    <tr>\n",
       "      <th>4</th>\n",
       "      <td>4</td>\n",
       "      <td>02-08-2017</td>\n",
       "      <td>Click2Clinic</td>\n",
       "      <td>Consumer Internet</td>\n",
       "      <td>healthcare service aggregator</td>\n",
       "      <td>Hyderabad</td>\n",
       "      <td>Narottam Thudi, Shireesh Palle</td>\n",
       "      <td>Seed Funding</td>\n",
       "      <td>8,50,000</td>\n",
       "      <td>NaN</td>\n",
       "    </tr>\n",
       "  </tbody>\n",
       "</table>\n",
       "</div>"
      ],
      "text/plain": [
       "   SNo        Date   StartupName   IndustryVertical  \\\n",
       "0    0  01-08-2017      TouchKin         Technology   \n",
       "1    1  02-08-2017       Ethinos         Technology   \n",
       "2    2  02-08-2017  Leverage Edu  Consumer Internet   \n",
       "3    3  02-08-2017          Zepo  Consumer Internet   \n",
       "4    4  02-08-2017  Click2Clinic  Consumer Internet   \n",
       "\n",
       "                                     SubVertical CityLocation  \\\n",
       "0                       Predictive Care Platform    Bangalore   \n",
       "1                       Digital Marketing Agency       Mumbai   \n",
       "2  Online platform for Higher Education Services    New Delhi   \n",
       "3                         DIY Ecommerce platform       Mumbai   \n",
       "4                  healthcare service aggregator    Hyderabad   \n",
       "\n",
       "                                       InvestorsName  InvestmentType  \\\n",
       "0                                        Kae Capital  Private Equity   \n",
       "1                         Triton Investment Advisors  Private Equity   \n",
       "2  Kashyap Deorah, Anand Sankeshwar, Deepak Jain,...    Seed Funding   \n",
       "3  Kunal Shah, LetsVenture, Anupam Mittal, Hetal ...    Seed Funding   \n",
       "4                     Narottam Thudi, Shireesh Palle    Seed Funding   \n",
       "\n",
       "  AmountInUSD Remarks  \n",
       "0   13,00,000     NaN  \n",
       "1         NaN     NaN  \n",
       "2         NaN     NaN  \n",
       "3    5,00,000     NaN  \n",
       "4    8,50,000     NaN  "
      ]
     },
     "execution_count": 72,
     "metadata": {},
     "output_type": "execute_result"
    }
   ],
   "source": [
    "# next Question:\n",
    "# find top 5 Startups with most amount of Total funding\n",
    "\n",
    "df.head()"
   ]
  },
  {
   "cell_type": "code",
   "execution_count": 82,
   "id": "1f11d1ba-3b3a-4b68-8054-9d803a628557",
   "metadata": {},
   "outputs": [
    {
     "name": "stdout",
     "output_type": "stream",
     "text": [
      "<class 'pandas.core.frame.DataFrame'>\n",
      "['SNo', 'Date', 'StartupName', 'IndustryVertical', 'SubVertical', 'CityLocation', 'InvestorsName', 'InvestmentType', 'AmountInUSD', 'Remarks']\n"
     ]
    }
   ],
   "source": [
    "print(type(df))\n",
    "li = list(df)\n",
    "print(li)"
   ]
  },
  {
   "cell_type": "code",
   "execution_count": 83,
   "id": "0d305145-9124-4fee-ad83-eae2d349d317",
   "metadata": {},
   "outputs": [
    {
     "name": "stdout",
     "output_type": "stream",
     "text": [
      "Startup: Paytm → Total Funding: $2,140,000,000.00\n",
      "Startup: Flipkart → Total Funding: $1,559,700,000.00\n",
      "Startup: Ola → Total Funding: $984,500,000.00\n",
      "Startup: Snapdeal → Total Funding: $700,000,000.00\n",
      "Startup: Flipkart.com → Total Funding: $700,000,000.00\n"
     ]
    }
   ],
   "source": [
    "# Step 1: Clean the 'AmountInUSD' column\n",
    "df['AmountInUSD'] = df['AmountInUSD'].replace('', np.nan)\n",
    "df['AmountInUSD'] = df['AmountInUSD'].str.replace(',', '').astype(float)\n",
    "\n",
    "# Step 2: Create a dictionary to accumulate funding per startup\n",
    "startup_funding = {}\n",
    "\n",
    "for i in range(len(df)):\n",
    "    name = df['StartupName'][i]\n",
    "    amount = df['AmountInUSD'][i]\n",
    "\n",
    "    if pd.isna(amount):\n",
    "        continue  # Skip if funding amount is missing\n",
    "\n",
    "    if name in startup_funding:\n",
    "        startup_funding[name] += amount\n",
    "    else:\n",
    "        startup_funding[name] = amount\n",
    "\n",
    "# Step 3: Sort and get top 5\n",
    "top_5 = sorted(startup_funding.items(), key=lambda x: x[1], reverse=True)[:5]\n",
    "\n",
    "# Step 4: Print results\n",
    "for name, total in top_5:\n",
    "    print(f\"Startup: {name} → Total Funding: ${total:,.2f}\")\n"
   ]
  }
 ],
 "metadata": {
  "kernelspec": {
   "display_name": "Python [conda env:base] *",
   "language": "python",
   "name": "conda-base-py"
  },
  "language_info": {
   "codemirror_mode": {
    "name": "ipython",
    "version": 3
   },
   "file_extension": ".py",
   "mimetype": "text/x-python",
   "name": "python",
   "nbconvert_exporter": "python",
   "pygments_lexer": "ipython3",
   "version": "3.13.5"
  }
 },
 "nbformat": 4,
 "nbformat_minor": 5
}
