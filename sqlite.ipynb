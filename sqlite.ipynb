{
 "cells": [
  {
   "cell_type": "code",
   "execution_count": 2,
   "id": "e082384b-ce3e-433b-9431-8997a59977f3",
   "metadata": {},
   "outputs": [],
   "source": [
    "import sqlite3"
   ]
  },
  {
   "cell_type": "code",
   "execution_count": 4,
   "id": "26bfa234-6c2f-40aa-8423-12b3628c9b0d",
   "metadata": {},
   "outputs": [
    {
     "data": {
      "text/plain": [
       "<sqlite3.Connection at 0x29eb0f8fc40>"
      ]
     },
     "execution_count": 4,
     "metadata": {},
     "output_type": "execute_result"
    }
   ],
   "source": [
    "db = sqlite3.connect('IMDB.sqlite')\n",
    "db"
   ]
  },
  {
   "cell_type": "code",
   "execution_count": 6,
   "id": "483cb666-8253-40d3-943c-a045e129ce3b",
   "metadata": {},
   "outputs": [
    {
     "data": {
      "text/plain": [
       "<sqlite3.Connection at 0x29eb0f8fb50>"
      ]
     },
     "execution_count": 6,
     "metadata": {},
     "output_type": "execute_result"
    }
   ],
   "source": [
    "db = sqlite3.connect('school.sqlite')\n",
    "db"
   ]
  },
  {
   "cell_type": "code",
   "execution_count": 8,
   "id": "3ed701db-40f9-4d25-8aa7-394fd65ace77",
   "metadata": {},
   "outputs": [
    {
     "data": {
      "text/plain": [
       "<sqlite3.Cursor at 0x29eb1012740>"
      ]
     },
     "execution_count": 8,
     "metadata": {},
     "output_type": "execute_result"
    }
   ],
   "source": [
    "cur = db.cursor()\n",
    "cur"
   ]
  },
  {
   "cell_type": "code",
   "execution_count": 9,
   "id": "e1ffccf4-2642-4e5a-bd49-7fc44504d0a5",
   "metadata": {},
   "outputs": [
    {
     "data": {
      "text/plain": [
       "<sqlite3.Cursor at 0x29eb1012740>"
      ]
     },
     "execution_count": 9,
     "metadata": {},
     "output_type": "execute_result"
    }
   ],
   "source": [
    "sql_query = 'Create table Student (RollNumber int Primary key, Name Text, Age int)'\n",
    "cur.execute(sql_query)"
   ]
  },
  {
   "cell_type": "code",
   "execution_count": 10,
   "id": "650da905-92ec-4878-9155-063e3de3a54e",
   "metadata": {},
   "outputs": [
    {
     "data": {
      "text/plain": [
       "<sqlite3.Cursor at 0x29eb1012740>"
      ]
     },
     "execution_count": 10,
     "metadata": {},
     "output_type": "execute_result"
    }
   ],
   "source": [
    "cur.execute('insert into Student values(11, \"Ibrahim\", 20)')"
   ]
  },
  {
   "cell_type": "code",
   "execution_count": 11,
   "id": "c228cb1b-f298-4758-afd1-32fda480b402",
   "metadata": {},
   "outputs": [],
   "source": [
    "db.commit()"
   ]
  },
  {
   "cell_type": "code",
   "execution_count": 12,
   "id": "9f93ae53-5cba-4a43-a0b1-4441d9f36d0d",
   "metadata": {},
   "outputs": [
    {
     "data": {
      "text/plain": [
       "<sqlite3.Cursor at 0x29eb1012740>"
      ]
     },
     "execution_count": 12,
     "metadata": {},
     "output_type": "execute_result"
    }
   ],
   "source": [
    "cur.execute('insert into Student values(12, \"Muhammed\", 22)')"
   ]
  },
  {
   "cell_type": "code",
   "execution_count": 13,
   "id": "4fe9f4f8-353f-4d0e-841f-1307c287f1a6",
   "metadata": {},
   "outputs": [],
   "source": [
    "db.commit()"
   ]
  },
  {
   "cell_type": "code",
   "execution_count": 14,
   "id": "2dd6f31b-6e8c-46e0-9a7e-28c587668f9c",
   "metadata": {},
   "outputs": [],
   "source": [
    "db.close()"
   ]
  },
  {
   "cell_type": "code",
   "execution_count": 2,
   "id": "5605665e-25ec-4c5f-a04e-a5612ba76c07",
   "metadata": {},
   "outputs": [
    {
     "data": {
      "text/plain": [
       "<sqlite3.Connection at 0x22eacf54d60>"
      ]
     },
     "execution_count": 2,
     "metadata": {},
     "output_type": "execute_result"
    }
   ],
   "source": [
    "import sqlite3\n",
    "db = sqlite3.connect('school.sqlite')\n",
    "db"
   ]
  },
  {
   "cell_type": "code",
   "execution_count": 3,
   "id": "1598025a-8d0e-4704-a3d1-e3aabb85bbf2",
   "metadata": {},
   "outputs": [],
   "source": [
    "rollNumber = 16\n",
    "Name = \"Yasin\"\n",
    "Age = 22"
   ]
  },
  {
   "cell_type": "code",
   "execution_count": 6,
   "id": "3bf7e77e-e5cb-48de-b9a0-4042dedf3645",
   "metadata": {},
   "outputs": [],
   "source": [
    "cur = db.cursor()"
   ]
  },
  {
   "cell_type": "code",
   "execution_count": 8,
   "id": "c901d1be-566f-4b43-af6f-1dc2b000253c",
   "metadata": {},
   "outputs": [
    {
     "data": {
      "text/plain": [
       "<sqlite3.Cursor at 0x22eb0cf5cc0>"
      ]
     },
     "execution_count": 8,
     "metadata": {},
     "output_type": "execute_result"
    }
   ],
   "source": [
    "cur.execute('Insert into Student values(?,?,?)', (rollNumber, Name, Age))"
   ]
  },
  {
   "cell_type": "code",
   "execution_count": 9,
   "id": "2652de99-2288-4657-b6b5-975a69982354",
   "metadata": {},
   "outputs": [],
   "source": [
    "db.commit()"
   ]
  },
  {
   "cell_type": "code",
   "execution_count": 10,
   "id": "be5aea00-136f-4ccc-9b1d-35af57ad3a82",
   "metadata": {},
   "outputs": [],
   "source": [
    "values = [\n",
    "    (101, \"Zayd\", 27), (102, \"Yusuf\", 15), (103, \"Amina\", 22), (104, \"Fatima\", 19), (105, \"Ali\", 25),\n",
    "    (106, \"Hassan\", 21), (107, \"Khadija\", 18), (108, \"Omar\", 24), (109, \"Maryam\", 20), (110, \"Bilal\", 23),\n",
    "    (111, \"Salma\", 17), (112, \"Ibrahim\", 26), (113, \"Sara\", 22), (114, \"Nuh\", 16), (115, \"Musa\", 28),\n",
    "    (116, \"Ismail\", 19), (117, \"Sumayya\", 20), (118, \"Hamza\", 25), (119, \"Zainab\", 21), (120, \"Abdullah\", 23),\n",
    "    (121, \"Yasin\", 22), (122, \"Rayyan\", 18), (123, \"Huda\", 24), (124, \"Tariq\", 27), (125, \"Lina\", 20),\n",
    "    (126, \"Farah\", 19), (127, \"Jamal\", 26), (128, \"Nadia\", 17), (129, \"Rami\", 22), (130, \"Iman\", 21),\n",
    "    (131, \"Samir\", 23), (132, \"Layla\", 20), (133, \"Zara\", 18), (134, \"Kamil\", 25), (135, \"Noor\", 19),\n",
    "    (136, \"Adil\", 24), (137, \"Hana\", 22), (138, \"Faisal\", 20), (139, \"Lubna\", 21), (140, \"Taha\", 23),\n",
    "    (141, \"Samiya\", 26), (142, \"Ayaan\", 17), (143, \"Rania\", 19), (144, \"Zubair\", 22), (145, \"Nabeel\", 20),\n",
    "    (146, \"Asma\", 18), (147, \"Harun\", 25), (148, \"Mariam\", 21), (149, \"Sulaiman\", 24), (150, \"Nawal\", 23)\n",
    "]"
   ]
  },
  {
   "cell_type": "code",
   "execution_count": 11,
   "id": "54c6940b-f377-4ee2-b5d2-b391741de9c9",
   "metadata": {},
   "outputs": [
    {
     "data": {
      "text/plain": [
       "<sqlite3.Cursor at 0x22eb0cf5cc0>"
      ]
     },
     "execution_count": 11,
     "metadata": {},
     "output_type": "execute_result"
    }
   ],
   "source": [
    "cur.executemany('Insert into Student values(?,?,?)', values)"
   ]
  },
  {
   "cell_type": "code",
   "execution_count": 12,
   "id": "395ebf19-27c2-45f4-8963-52d34dbe5406",
   "metadata": {},
   "outputs": [],
   "source": [
    "db.commit()"
   ]
  },
  {
   "cell_type": "code",
   "execution_count": 13,
   "id": "c06abe59-ae43-4ccb-bc5a-cebcd48b51ed",
   "metadata": {},
   "outputs": [],
   "source": [
    "cur.execute('Update Student set RollNumber=100 where RollNumber=16')\n",
    "db.commit()"
   ]
  },
  {
   "cell_type": "code",
   "execution_count": 14,
   "id": "c454d81c-5f4b-445e-9e77-16cc11b75268",
   "metadata": {},
   "outputs": [],
   "source": [
    "new_age = 21\n",
    "cur.execute('Update Student set Age=? where RollNumber=104', (new_age,))\n",
    "db.commit()"
   ]
  },
  {
   "cell_type": "code",
   "execution_count": 15,
   "id": "b02f0350-fb70-4399-85c7-9c036da30f9e",
   "metadata": {},
   "outputs": [
    {
     "name": "stdout",
     "output_type": "stream",
     "text": [
      "[(11, 'Ibrahim', 20), (12, 'Muhammed', 22), (100, 'Yasin', 22), (101, 'Zayd', 27), (102, 'Yusuf', 15), (103, 'Amina', 22), (104, 'Fatima', 21), (105, 'Ali', 25), (106, 'Hassan', 21), (107, 'Khadija', 18), (108, 'Omar', 24), (109, 'Maryam', 20), (110, 'Bilal', 23), (111, 'Salma', 17), (112, 'Ibrahim', 26), (113, 'Sara', 22), (114, 'Nuh', 16), (115, 'Musa', 28), (116, 'Ismail', 19), (117, 'Sumayya', 20), (118, 'Hamza', 25), (119, 'Zainab', 21), (120, 'Abdullah', 23), (121, 'Yasin', 22), (122, 'Rayyan', 18), (123, 'Huda', 24), (124, 'Tariq', 27), (125, 'Lina', 20), (126, 'Farah', 19), (127, 'Jamal', 26), (128, 'Nadia', 17), (129, 'Rami', 22), (130, 'Iman', 21), (131, 'Samir', 23), (132, 'Layla', 20), (133, 'Zara', 18), (134, 'Kamil', 25), (135, 'Noor', 19), (136, 'Adil', 24), (137, 'Hana', 22), (138, 'Faisal', 20), (139, 'Lubna', 21), (140, 'Taha', 23), (141, 'Samiya', 26), (142, 'Ayaan', 17), (143, 'Rania', 19), (144, 'Zubair', 22), (145, 'Nabeel', 20), (146, 'Asma', 18), (147, 'Harun', 25), (148, 'Mariam', 21), (149, 'Sulaiman', 24), (150, 'Nawal', 23)]\n"
     ]
    }
   ],
   "source": [
    " cur.execute(\"SELECT * FROM Student\")\n",
    "print(cur.fetchall())"
   ]
  },
  {
   "cell_type": "code",
   "execution_count": 16,
   "id": "ffb6864c-1bd4-48d3-a46c-67b8afbf2393",
   "metadata": {},
   "outputs": [
    {
     "name": "stdout",
     "output_type": "stream",
     "text": [
      "[('Ibrahim', 20), ('Muhammed', 22), ('Yasin', 22), ('Zayd', 27), ('Yusuf', 15), ('Amina', 22), ('Fatima', 21), ('Ali', 25), ('Hassan', 21), ('Khadija', 18), ('Omar', 24), ('Maryam', 20), ('Bilal', 23), ('Salma', 17), ('Ibrahim', 26), ('Sara', 22), ('Nuh', 16), ('Musa', 28), ('Ismail', 19), ('Sumayya', 20), ('Hamza', 25), ('Zainab', 21), ('Abdullah', 23), ('Yasin', 22), ('Rayyan', 18), ('Huda', 24), ('Tariq', 27), ('Lina', 20), ('Farah', 19), ('Jamal', 26), ('Nadia', 17), ('Rami', 22), ('Iman', 21), ('Samir', 23), ('Layla', 20), ('Zara', 18), ('Kamil', 25), ('Noor', 19), ('Adil', 24), ('Hana', 22), ('Faisal', 20), ('Lubna', 21), ('Taha', 23), ('Samiya', 26), ('Ayaan', 17), ('Rania', 19), ('Zubair', 22), ('Nabeel', 20), ('Asma', 18), ('Harun', 25), ('Mariam', 21), ('Sulaiman', 24), ('Nawal', 23)]\n"
     ]
    }
   ],
   "source": [
    "cur.execute(\"SELECT Name, Age FROM Student\")\n",
    "print(cur.fetchall())"
   ]
  },
  {
   "cell_type": "code",
   "execution_count": 17,
   "id": "20b528f6-88e6-43f2-88f6-5723671f624b",
   "metadata": {},
   "outputs": [
    {
     "name": "stdout",
     "output_type": "stream",
     "text": [
      "[(12, 'Muhammed', 22), (100, 'Yasin', 22), (101, 'Zayd', 27), (103, 'Amina', 22), (104, 'Fatima', 21), (105, 'Ali', 25), (106, 'Hassan', 21), (108, 'Omar', 24), (110, 'Bilal', 23), (112, 'Ibrahim', 26), (113, 'Sara', 22), (115, 'Musa', 28), (118, 'Hamza', 25), (119, 'Zainab', 21), (120, 'Abdullah', 23), (121, 'Yasin', 22), (123, 'Huda', 24), (124, 'Tariq', 27), (127, 'Jamal', 26), (129, 'Rami', 22), (130, 'Iman', 21), (131, 'Samir', 23), (134, 'Kamil', 25), (136, 'Adil', 24), (137, 'Hana', 22), (139, 'Lubna', 21), (140, 'Taha', 23), (141, 'Samiya', 26), (144, 'Zubair', 22), (147, 'Harun', 25), (148, 'Mariam', 21), (149, 'Sulaiman', 24), (150, 'Nawal', 23)]\n"
     ]
    }
   ],
   "source": [
    "# Filtering\n",
    "cur.execute(\"SELECT * FROM Student WHERE Age > 20\")\n",
    "print(cur.fetchall())\n"
   ]
  },
  {
   "cell_type": "code",
   "execution_count": 18,
   "id": "c8d805f6-c86f-4462-bf1a-0b09785f0d95",
   "metadata": {},
   "outputs": [
    {
     "name": "stdout",
     "output_type": "stream",
     "text": [
      "[(115, 'Musa', 28), (101, 'Zayd', 27), (124, 'Tariq', 27), (112, 'Ibrahim', 26), (127, 'Jamal', 26), (141, 'Samiya', 26), (105, 'Ali', 25), (118, 'Hamza', 25), (134, 'Kamil', 25), (147, 'Harun', 25), (108, 'Omar', 24), (123, 'Huda', 24), (136, 'Adil', 24), (149, 'Sulaiman', 24), (110, 'Bilal', 23), (120, 'Abdullah', 23), (131, 'Samir', 23), (140, 'Taha', 23), (150, 'Nawal', 23), (12, 'Muhammed', 22), (100, 'Yasin', 22), (103, 'Amina', 22), (113, 'Sara', 22), (121, 'Yasin', 22), (129, 'Rami', 22), (137, 'Hana', 22), (144, 'Zubair', 22), (104, 'Fatima', 21), (106, 'Hassan', 21), (119, 'Zainab', 21), (130, 'Iman', 21), (139, 'Lubna', 21), (148, 'Mariam', 21), (11, 'Ibrahim', 20), (109, 'Maryam', 20), (117, 'Sumayya', 20), (125, 'Lina', 20), (132, 'Layla', 20), (138, 'Faisal', 20), (145, 'Nabeel', 20), (116, 'Ismail', 19), (126, 'Farah', 19), (135, 'Noor', 19), (143, 'Rania', 19), (107, 'Khadija', 18), (122, 'Rayyan', 18), (133, 'Zara', 18), (146, 'Asma', 18), (111, 'Salma', 17), (128, 'Nadia', 17), (142, 'Ayaan', 17), (114, 'Nuh', 16), (102, 'Yusuf', 15)]\n"
     ]
    }
   ],
   "source": [
    "# Sorting\n",
    "cur.execute(\"SELECT * FROM Student ORDER BY Age DESC\")\n",
    "print(cur.fetchall())"
   ]
  },
  {
   "cell_type": "code",
   "execution_count": 19,
   "id": "a914d3b6-f7a4-444c-af71-3521b1fb1eed",
   "metadata": {},
   "outputs": [],
   "source": [
    "# Insert one row\n",
    "cur.execute(\"INSERT INTO Student VALUES (?, ?, ?)\", (151, \"Rehan\", 22))\n",
    "db.commit()"
   ]
  },
  {
   "cell_type": "code",
   "execution_count": 20,
   "id": "1d134149-eb3f-47db-8687-0d2500b7af3a",
   "metadata": {},
   "outputs": [],
   "source": [
    "# Insert multiple rows\n",
    "students = [\n",
    "    (152, \"Areeba\", 20),\n",
    "    (153, \"Furqan\", 23)\n",
    "]\n",
    "cur.executemany(\"INSERT INTO Student VALUES (?, ?, ?)\", students)\n",
    "db.commit()"
   ]
  },
  {
   "cell_type": "code",
   "execution_count": 21,
   "id": "bec79d73-f8a9-4658-aeff-a4f43225f6aa",
   "metadata": {},
   "outputs": [],
   "source": [
    "# Update one student’s age\n",
    "cur.execute(\"UPDATE Student SET Age = ? WHERE RollNumber = ?\", (23, 151))\n",
    "db.commit()"
   ]
  },
  {
   "cell_type": "code",
   "execution_count": 22,
   "id": "0ee7aaf9-0257-473b-b023-5b88ca52266f",
   "metadata": {},
   "outputs": [],
   "source": [
    "# Delete a student by RollNumber\n",
    "cur.execute(\"DELETE FROM Student WHERE RollNumber = ?\", (153,))\n",
    "db.commit()"
   ]
  },
  {
   "cell_type": "code",
   "execution_count": 23,
   "id": "07fdecda-dcbd-4033-9ecb-55db925bc4bc",
   "metadata": {},
   "outputs": [
    {
     "name": "stdout",
     "output_type": "stream",
     "text": [
      "(55,)\n",
      "(21.563636363636363,)\n",
      "(28, 15)\n"
     ]
    }
   ],
   "source": [
    "# Count total students\n",
    "cur.execute(\"SELECT COUNT(*) FROM Student\")\n",
    "print(cur.fetchone())\n",
    "\n",
    "# Average age\n",
    "cur.execute(\"SELECT AVG(Age) FROM Student\")\n",
    "print(cur.fetchone())\n",
    "\n",
    "# Oldest & youngest student\n",
    "cur.execute(\"SELECT MAX(Age), MIN(Age) FROM Student\")\n",
    "print(cur.fetchone())"
   ]
  },
  {
   "cell_type": "code",
   "execution_count": 24,
   "id": "21c504c0-1f34-43db-a31e-7c76dc9bfb1f",
   "metadata": {},
   "outputs": [
    {
     "name": "stdout",
     "output_type": "stream",
     "text": [
      "None\n"
     ]
    }
   ],
   "source": [
    "print(cur.fetchone())"
   ]
  },
  {
   "cell_type": "code",
   "execution_count": 25,
   "id": "a8bebad9-994b-444b-a1fc-04c0392a9080",
   "metadata": {},
   "outputs": [
    {
     "name": "stdout",
     "output_type": "stream",
     "text": [
      "[(22, 8), (20, 8), (23, 6), (21, 6), (25, 4), (24, 4), (19, 4), (18, 4), (26, 3), (17, 3), (27, 2), (28, 1), (16, 1), (15, 1)]\n"
     ]
    }
   ],
   "source": [
    "# Group students by age\n",
    "cur.execute(\"SELECT Age, COUNT(*) FROM Student GROUP BY Age ORDER BY COUNT(*) DESC\")\n",
    "print(cur.fetchall())"
   ]
  },
  {
   "cell_type": "code",
   "execution_count": 29,
   "id": "8a1fd3ed-2540-4983-9699-6dc2cf764b3e",
   "metadata": {},
   "outputs": [
    {
     "name": "stdout",
     "output_type": "stream",
     "text": [
      "[(12, 'Muhammed', 22), (109, 'Maryam', 20), (115, 'Musa', 28), (148, 'Mariam', 21)]\n",
      "[(105, 'Ali', 25), (129, 'Rami', 22)]\n"
     ]
    }
   ],
   "source": [
    "# Names starting with 'A'\n",
    "cur.execute(\"SELECT * FROM Student WHERE Name LIKE 'M%'\")\n",
    "print(cur.fetchall())\n",
    "\n",
    "# Names ending with 'a'\n",
    "cur.execute(\"SELECT * FROM Student WHERE Name LIKE '%i'\")\n",
    "print(cur.fetchall())"
   ]
  },
  {
   "cell_type": "code",
   "execution_count": 30,
   "id": "c68464c9-ce05-4650-bd5e-e67a1a22dbd9",
   "metadata": {},
   "outputs": [
    {
     "name": "stdout",
     "output_type": "stream",
     "text": [
      "[(12, 'Muhammed', 22), (100, 'Yasin', 22), (101, 'Zayd', 27), (103, 'Amina', 22), (105, 'Ali', 25), (108, 'Omar', 24), (110, 'Bilal', 23), (112, 'Ibrahim', 26), (113, 'Sara', 22), (115, 'Musa', 28), (118, 'Hamza', 25), (120, 'Abdullah', 23), (121, 'Yasin', 22), (123, 'Huda', 24), (124, 'Tariq', 27), (127, 'Jamal', 26), (129, 'Rami', 22), (131, 'Samir', 23), (134, 'Kamil', 25), (136, 'Adil', 24), (137, 'Hana', 22), (140, 'Taha', 23), (141, 'Samiya', 26), (144, 'Zubair', 22), (147, 'Harun', 25), (149, 'Sulaiman', 24), (150, 'Nawal', 23), (151, 'Rehan', 23)]\n"
     ]
    }
   ],
   "source": [
    "# Students older than the average age\n",
    "cur.execute(\"SELECT * FROM Student WHERE Age > (SELECT AVG(Age) FROM Student)\")\n",
    "print(cur.fetchall())"
   ]
  },
  {
   "cell_type": "code",
   "execution_count": null,
   "id": "af6b8d6c-ff24-4dea-9b35-ce144850b0f3",
   "metadata": {},
   "outputs": [],
   "source": []
  }
 ],
 "metadata": {
  "kernelspec": {
   "display_name": "Python [conda env:base] *",
   "language": "python",
   "name": "conda-base-py"
  },
  "language_info": {
   "codemirror_mode": {
    "name": "ipython",
    "version": 3
   },
   "file_extension": ".py",
   "mimetype": "text/x-python",
   "name": "python",
   "nbconvert_exporter": "python",
   "pygments_lexer": "ipython3",
   "version": "3.13.5"
  }
 },
 "nbformat": 4,
 "nbformat_minor": 5
}
