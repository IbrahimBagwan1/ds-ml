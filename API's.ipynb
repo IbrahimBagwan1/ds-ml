{
 "cells": [
  {
   "cell_type": "code",
   "execution_count": 1,
   "id": "1ff21368-5966-4cbb-9078-42a93fd8b05e",
   "metadata": {},
   "outputs": [],
   "source": [
    "import requests"
   ]
  },
  {
   "cell_type": "code",
   "execution_count": 2,
   "id": "5c957374-3d27-4ee7-893a-f5f7372a5462",
   "metadata": {},
   "outputs": [
    {
     "name": "stdout",
     "output_type": "stream",
     "text": [
      "200\n",
      "ISO-8859-1\n",
      "https://www.codingninjas.com:443/api/v3/courses\n",
      "Current Query Date & Time:  Wed, 20 Aug 2025 13:40:44 GMT\n",
      "Last Modified Date:  Tue, 19 Aug 2025 10:29:56 GMT\n"
     ]
    }
   ],
   "source": [
    "## https://codingninjas.in/api/v3/courses\n",
    "## https://api.github.com/events\n",
    "## https://dog.ceo/api/breeds/list/all\n",
    "\n",
    "response = requests.get('https://codingninjas.in/api/v3/courses')\n",
    "print(response.status_code)\n",
    "print(response.encoding)\n",
    "print(response.url)\n",
    "\n",
    "header_info = response.headers\n",
    "print(\"Current Query Date & Time: \",header_info['Date'])\n",
    "print(\"Last Modified Date: \",header_info['Last-Modified'])"
   ]
  },
  {
   "cell_type": "code",
   "execution_count": 3,
   "id": "ee89f5f5-3dfe-4233-baef-403f852a7daa",
   "metadata": {},
   "outputs": [
    {
     "name": "stdout",
     "output_type": "stream",
     "text": [
      "<class 'str'>\n",
      "<class 'dict'>\n",
      "Ibrahim\n"
     ]
    }
   ],
   "source": [
    "import json\n",
    "json_data = '{\"Student\": \"Ibrahim\"}'\n",
    "python_data = json.loads(json_data)\n",
    "print(type(json_data))\n",
    "print(type(python_data))\n",
    "print(python_data['Student'])"
   ]
  },
  {
   "cell_type": "code",
   "execution_count": 4,
   "id": "a05c6e6d-6fb5-4538-94b2-b9bc27797d40",
   "metadata": {},
   "outputs": [
    {
     "name": "stdout",
     "output_type": "stream",
     "text": [
      "<class 'str'>\n",
      "Response is not valid JSON.\n",
      "Raw response text: <!DOCTYPE html><html lang=\"en\"><head>\n",
      "    <meta charset=\"utf-8\">\n",
      "    <title>Coding Ninjas</title>\n",
      "\n",
      "    <meta name=\"google-site-verification\" content=\"ASe_HQRsu8j61tGt95RROjXi07M380nMuoJ0Mu9rytk\">\n",
      "    <meta name=\"title\" content=\"Coding Ninjas\">\n",
      "    <meta name=\"author\" content=\"Coding Ninjas\">\n",
      "    <meta property=\"og:title\" content=\"Coding Ninjas\">\n",
      "    <meta name=\"description\" content=\"Best Programming Institute in India\">\n",
      "    <meta property=\"og:description\" content=\"Best Programming Institute in I\n"
     ]
    }
   ],
   "source": [
    "import json\n",
    "print(type(response.text))\n",
    "import json\n",
    "\n",
    "# Check if the response is actually JSON\n",
    "try:\n",
    "    python_data = response.json()  # This is safer than json.loads(response.text)\n",
    "    print(type(python_data))\n",
    "except json.JSONDecodeError:\n",
    "    print(\"Response is not valid JSON.\")\n",
    "    print(\"Raw response text:\", response.text[:500])  # Print first 500 chars for inspection\n"
   ]
  },
  {
   "cell_type": "code",
   "execution_count": null,
   "id": "62fbcf00-5f25-464f-a1dd-2b102d6ffa6e",
   "metadata": {},
   "outputs": [],
   "source": []
  },
  {
   "cell_type": "markdown",
   "id": "54de401f-fe94-4243-b9a5-97b8bd347d04",
   "metadata": {},
   "source": [
    "# New API"
   ]
  },
  {
   "cell_type": "code",
   "execution_count": 5,
   "id": "c6f3cad5-62ac-46f9-b27a-1ecb396458b9",
   "metadata": {},
   "outputs": [
    {
     "data": {
      "text/plain": [
       "<Response [200]>"
      ]
     },
     "execution_count": 5,
     "metadata": {},
     "output_type": "execute_result"
    }
   ],
   "source": [
    "req = requests.get('https://dog.ceo/api/breeds/list/all')\n",
    "req"
   ]
  },
  {
   "cell_type": "code",
   "execution_count": 6,
   "id": "9529e2ae-bef3-42e9-947f-8918993ae4c1",
   "metadata": {},
   "outputs": [
    {
     "name": "stdout",
     "output_type": "stream",
     "text": [
      "<class 'dict'>\n",
      "affenpinscher : 0\n",
      "african : 0\n",
      "airedale : 0\n",
      "akita : 0\n",
      "appenzeller : 0\n",
      "australian : 2\n",
      "bakharwal : 1\n",
      "basenji : 0\n",
      "beagle : 0\n",
      "bluetick : 0\n",
      "borzoi : 0\n",
      "bouvier : 0\n",
      "boxer : 0\n",
      "brabancon : 0\n",
      "briard : 0\n",
      "buhund : 1\n",
      "bulldog : 3\n",
      "bullterrier : 1\n",
      "cattledog : 1\n",
      "cavapoo : 0\n",
      "chihuahua : 0\n",
      "chippiparai : 1\n",
      "chow : 0\n",
      "clumber : 0\n",
      "cockapoo : 0\n",
      "collie : 1\n",
      "coonhound : 0\n",
      "corgi : 1\n",
      "cotondetulear : 0\n",
      "dachshund : 0\n",
      "dalmatian : 0\n",
      "dane : 1\n",
      "danish : 1\n",
      "deerhound : 1\n",
      "dhole : 0\n",
      "dingo : 0\n",
      "doberman : 0\n",
      "elkhound : 1\n",
      "entlebucher : 0\n",
      "eskimo : 0\n",
      "finnish : 1\n",
      "frise : 1\n",
      "gaddi : 1\n",
      "germanshepherd : 0\n",
      "greyhound : 2\n",
      "groenendael : 0\n",
      "havanese : 0\n",
      "hound : 7\n",
      "husky : 0\n",
      "keeshond : 0\n",
      "kelpie : 0\n",
      "kombai : 0\n",
      "komondor : 0\n",
      "kuvasz : 0\n",
      "labradoodle : 0\n",
      "labrador : 0\n",
      "leonberg : 0\n",
      "lhasa : 0\n",
      "malamute : 0\n",
      "malinois : 0\n",
      "maltese : 0\n",
      "mastiff : 4\n",
      "mexicanhairless : 0\n",
      "mix : 0\n",
      "mountain : 2\n",
      "mudhol : 1\n",
      "newfoundland : 0\n",
      "otterhound : 0\n",
      "ovcharka : 1\n",
      "papillon : 0\n",
      "pariah : 1\n",
      "pekinese : 0\n",
      "pembroke : 0\n",
      "pinscher : 1\n",
      "pitbull : 0\n",
      "pointer : 2\n",
      "pomeranian : 0\n",
      "poodle : 4\n",
      "pug : 0\n",
      "puggle : 0\n",
      "pyrenees : 0\n",
      "rajapalayam : 1\n",
      "redbone : 0\n",
      "retriever : 4\n",
      "ridgeback : 1\n",
      "rottweiler : 0\n",
      "saluki : 0\n",
      "samoyed : 0\n",
      "schipperke : 0\n",
      "schnauzer : 2\n",
      "segugio : 1\n",
      "setter : 3\n",
      "sharpei : 0\n",
      "sheepdog : 3\n",
      "shiba : 0\n",
      "shihtzu : 0\n",
      "spaniel : 7\n",
      "spitz : 2\n",
      "springer : 1\n",
      "stbernard : 0\n",
      "terrier : 23\n",
      "tervuren : 0\n",
      "vizsla : 0\n",
      "waterdog : 1\n",
      "weimaraner : 0\n",
      "whippet : 0\n",
      "wolfhound : 1\n"
     ]
    }
   ],
   "source": [
    "# print(req.text)\n",
    "python_data = req.json()\n",
    "print(type(python_data))\n",
    "\n",
    "for key, val in python_data['message'].items():\n",
    "    print(key, ':', len(val))"
   ]
  },
  {
   "cell_type": "code",
   "execution_count": null,
   "id": "d5fc49be-1076-4261-9778-87971b9263ad",
   "metadata": {},
   "outputs": [],
   "source": []
  },
  {
   "cell_type": "code",
   "execution_count": 7,
   "id": "51a6a7d9-e5c8-4b08-b66e-1b897b91ae15",
   "metadata": {},
   "outputs": [
    {
     "name": "stdout",
     "output_type": "stream",
     "text": [
      "410\n",
      "<bound method Response.json of <Response [410]>>\n",
      "https://api.openaq.org/v1/cities\n"
     ]
    }
   ],
   "source": [
    "a = requests.get('https://api.openaq.org/v1/cities')\n",
    "print(a.status_code)\n",
    "print(a.json)\n",
    "print(a.url)"
   ]
  },
  {
   "cell_type": "code",
   "execution_count": 8,
   "id": "e637f5fb-c7fa-48d6-ae0c-346961b30a65",
   "metadata": {},
   "outputs": [
    {
     "name": "stdout",
     "output_type": "stream",
     "text": [
      "Here's a joke for you:\n",
      "Why did the invisible man turn down the job offer?\n",
      "He couldn't see himself doing it\n"
     ]
    }
   ],
   "source": [
    "import requests\n",
    "\n",
    "# Step 1: Define the API endpoint\n",
    "url = \"https://official-joke-api.appspot.com/random_joke\"\n",
    "\n",
    "# Step 2: Send a GET request\n",
    "response = requests.get(url)\n",
    "\n",
    "# Step 3: Check if the request was successful\n",
    "if response.status_code == 200:\n",
    "    # Step 4: Parse the JSON response\n",
    "    joke_data = response.json()\n",
    "    \n",
    "    # Step 5: Access and print the joke\n",
    "    print(\"Here's a joke for you:\")\n",
    "    print(f\"{joke_data['setup']}\")\n",
    "    print(f\"{joke_data['punchline']}\")\n",
    "else:\n",
    "    print(\"Failed to retrieve joke. Status code:\", response.status_code)\n"
   ]
  },
  {
   "cell_type": "code",
   "execution_count": 9,
   "id": "1e0f5d10-3b28-4ae7-babf-affd3f6df336",
   "metadata": {},
   "outputs": [
    {
     "name": "stdout",
     "output_type": "stream",
     "text": [
      "200\n",
      "Why did the invisible man turn down the job offer?\n",
      "He couldn't see himself doing it\n"
     ]
    }
   ],
   "source": [
    "url = \"https://catfact.ninja/fact\"\n",
    "a = requests.get(url, params={})\n",
    "print(a.status_code)\n",
    "data = response.json()\n",
    "print(data['setup'])\n",
    "print(data['punchline'])"
   ]
  },
  {
   "cell_type": "code",
   "execution_count": 10,
   "id": "d9f3c98e-d95f-4295-96c8-d166256df9ad",
   "metadata": {
    "scrolled": true
   },
   "outputs": [
    {
     "name": "stdout",
     "output_type": "stream",
     "text": [
      "🌡️ Temperature in Bangalore: 24.2°C\n",
      "🌥️ Condition: Partly cloudy\n",
      "💨 Wind: 24.1 kph\n",
      "{'location': {'name': 'Bangalore', 'region': 'Karnataka', 'country': 'India', 'lat': 12.983, 'lon': 77.583, 'tz_id': 'Asia/Kolkata', 'localtime_epoch': 1755697415, 'localtime': '2025-08-20 19:13'}, 'current': {'last_updated_epoch': 1755696600, 'last_updated': '2025-08-20 19:00', 'temp_c': 24.2, 'temp_f': 75.6, 'is_day': 0, 'condition': {'text': 'Partly cloudy', 'icon': '//cdn.weatherapi.com/weather/64x64/night/116.png', 'code': 1003}, 'wind_mph': 15.0, 'wind_kph': 24.1, 'wind_degree': 262, 'wind_dir': 'W', 'pressure_mb': 1013.0, 'pressure_in': 29.91, 'precip_mm': 0.0, 'precip_in': 0.0, 'humidity': 78, 'cloud': 50, 'feelslike_c': 25.9, 'feelslike_f': 78.6, 'windchill_c': 22.6, 'windchill_f': 72.7, 'heatindex_c': 24.8, 'heatindex_f': 76.6, 'dewpoint_c': 17.2, 'dewpoint_f': 63.0, 'vis_km': 6.0, 'vis_miles': 3.0, 'uv': 0.0, 'gust_mph': 21.8, 'gust_kph': 35.1, 'short_rad': 0, 'diff_rad': 0, 'dni': 0, 'gti': 0}}\n",
      "last_updated_epoch: 1755696600\n",
      "last_updated: 2025-08-20 19:00\n",
      "temp_c: 24.2\n",
      "temp_f: 75.6\n",
      "is_day: 0\n",
      "condition: {'text': 'Partly cloudy', 'icon': '//cdn.weatherapi.com/weather/64x64/night/116.png', 'code': 1003}\n",
      "wind_mph: 15.0\n",
      "wind_kph: 24.1\n",
      "wind_degree: 262\n",
      "wind_dir: W\n",
      "pressure_mb: 1013.0\n",
      "pressure_in: 29.91\n",
      "precip_mm: 0.0\n",
      "precip_in: 0.0\n",
      "humidity: 78\n",
      "cloud: 50\n",
      "feelslike_c: 25.9\n",
      "feelslike_f: 78.6\n",
      "windchill_c: 22.6\n",
      "windchill_f: 72.7\n",
      "heatindex_c: 24.8\n",
      "heatindex_f: 76.6\n",
      "dewpoint_c: 17.2\n",
      "dewpoint_f: 63.0\n",
      "vis_km: 6.0\n",
      "vis_miles: 3.0\n",
      "uv: 0.0\n",
      "gust_mph: 21.8\n",
      "gust_kph: 35.1\n",
      "short_rad: 0\n",
      "diff_rad: 0\n",
      "dni: 0\n",
      "gti: 0\n"
     ]
    }
   ],
   "source": [
    "\n",
    "import requests\n",
    "\n",
    "# Step 1: Sign up at https://www.weatherapi.com/ and get your free API key\n",
    "\n",
    "api_key = \"d2ce5c12852b424c83d124326252008\"  # Replace with your actual key\n",
    "city = \"12.9716,77.5946\"\n",
    "\n",
    "# Step 2: Define the endpoint\n",
    "url = f\"http://api.weatherapi.com/v1/current.json?key={api_key}&q={city}\"\n",
    "\n",
    "# Step 3: Make the request\n",
    "response = requests.get(url)\n",
    "\n",
    "# Step 4: Parse and display the result\n",
    "if response.status_code == 200:\n",
    "    data = response.json()\n",
    "    print(f\"🌡️ Temperature in Bangalore: {data['current']['temp_c']}°C\")\n",
    "    print(f\"🌥️ Condition: {data['current']['condition']['text']}\")\n",
    "    print(f\"💨 Wind: {data['current']['wind_kph']} kph\")\n",
    "else:\n",
    "    print(\"Failed to fetch weather data:\", response.status_code)\n",
    "print(data)\n",
    "\n",
    "data_location = data['location']\n",
    "\n",
    "for key, val in data['current'].items():\n",
    "    print(f\"{key}: {val}\")\n"
   ]
  },
  {
   "cell_type": "code",
   "execution_count": null,
   "id": "12d8bd9d-a507-413e-a2b7-5e681e91948f",
   "metadata": {},
   "outputs": [],
   "source": []
  },
  {
   "cell_type": "markdown",
   "id": "e3ed42fa-3a14-4f68-8aef-637039313b8c",
   "metadata": {},
   "source": [
    "# Post"
   ]
  },
  {
   "cell_type": "code",
   "execution_count": 14,
   "id": "3f576e6c-5f7d-4691-b36d-42d09daa8d45",
   "metadata": {},
   "outputs": [
    {
     "name": "stdout",
     "output_type": "stream",
     "text": [
      "<Response [200]>\n",
      "200\n",
      "{\n",
      "  \"args\": {}, \n",
      "  \"data\": \"\", \n",
      "  \"files\": {}, \n",
      "  \"form\": {\n",
      "    \"key1\": \"val2\"\n",
      "  }, \n",
      "  \"headers\": {\n",
      "    \"Accept\": \"*/*\", \n",
      "    \"Accept-Encoding\": \"gzip, deflate, br, zstd\", \n",
      "    \"Content-Length\": \"9\", \n",
      "    \"Content-Type\": \"application/x-www-form-urlencoded\", \n",
      "    \"Host\": \"httpbin.org\", \n",
      "    \"User-Agent\": \"python-requests/2.32.3\", \n",
      "    \"X-Amzn-Trace-Id\": \"Root=1-68a5d2d7-29ff030552cded5b05922c64\"\n",
      "  }, \n",
      "  \"json\": null, \n",
      "  \"origin\": \"152.57.100.13\", \n",
      "  \"url\": \"http://httpbin.org/post\"\n",
      "}\n",
      "\n"
     ]
    }
   ],
   "source": [
    "response = requests.post('http://httpbin.org/post', data = {\n",
    "                                                            'key1': 'val1', \n",
    "                                                            'key1': 'val2'  \n",
    "                                                          })\n",
    "print(response)\n",
    "print(response.status_code)\n",
    "print(response.text)"
   ]
  },
  {
   "cell_type": "code",
   "execution_count": null,
   "id": "0ea9255d-1869-47fa-93b0-cde5b2947a3c",
   "metadata": {},
   "outputs": [],
   "source": [
    "\n",
    "# Zomato \n",
    "\n",
    "import requests\n",
    "basic_api='https://developers.zomato.com/api/v2.1'\n",
    "params={'city_id':1}\n",
    "user_key = \"deacdd5cb34d052c59e8491eb2699851\"\n",
    "header={\"User-agent\": \"curl/7.43.0\", 'Accept': 'application/json', 'user-key': user_key}\n",
    "response=requests.get(basic_api+'/cuisines', headers=header, params=params)\n",
    "data = response.json()\n",
    "for i in range(len(data['cuisines'])):\n",
    "  if(data['cuisines'][i]['cuisine']['cuisine_name'] == 'Mexican'):\n",
    "    print(data['cuisines'][i]['cuisine']['cuisine_id'])\n"
   ]
  },
  {
   "cell_type": "code",
   "execution_count": null,
   "id": "2ae9ba0a-ecca-4a2f-ad75-ffcec6cdcbdc",
   "metadata": {},
   "outputs": [],
   "source": [
    "print(1)"
   ]
  }
 ],
 "metadata": {
  "kernelspec": {
   "display_name": "Python [conda env:base] *",
   "language": "python",
   "name": "conda-base-py"
  },
  "language_info": {
   "codemirror_mode": {
    "name": "ipython",
    "version": 3
   },
   "file_extension": ".py",
   "mimetype": "text/x-python",
   "name": "python",
   "nbconvert_exporter": "python",
   "pygments_lexer": "ipython3",
   "version": "3.13.5"
  }
 },
 "nbformat": 4,
 "nbformat_minor": 5
}
