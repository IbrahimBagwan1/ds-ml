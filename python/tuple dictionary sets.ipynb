{
 "cells": [
  {
   "cell_type": "markdown",
   "id": "6b26dc0c-eec0-484b-a3fe-b5ba70d075b9",
   "metadata": {},
   "source": [
    "## Tuple"
   ]
  },
  {
   "cell_type": "code",
   "execution_count": 1,
   "id": "e9871c18-62b4-4377-9267-a0aa0114e290",
   "metadata": {},
   "outputs": [
    {
     "name": "stdout",
     "output_type": "stream",
     "text": [
      "(3, 4)\n",
      "<class 'tuple'>\n"
     ]
    }
   ],
   "source": [
    "tup = 3,4\n",
    "print(tup)\n",
    "print(type(tup))"
   ]
  },
  {
   "cell_type": "code",
   "execution_count": 7,
   "id": "01ec3d6c-b903-4fed-9cb9-cc61cbf74963",
   "metadata": {},
   "outputs": [
    {
     "name": "stdout",
     "output_type": "stream",
     "text": [
      "3\n",
      "4\n",
      "<class 'int'> <class 'int'>\n"
     ]
    }
   ],
   "source": [
    "i,j = 3,4\n",
    "print(i)\n",
    "print(j)\n",
    "print(type(i) , type(j))"
   ]
  },
  {
   "cell_type": "code",
   "execution_count": 8,
   "id": "a0925308-ea53-4de7-bf88-ab035a45b870",
   "metadata": {},
   "outputs": [
    {
     "data": {
      "text/plain": [
       "3"
      ]
     },
     "execution_count": 8,
     "metadata": {},
     "output_type": "execute_result"
    }
   ],
   "source": [
    "tup[0]"
   ]
  },
  {
   "cell_type": "code",
   "execution_count": 10,
   "id": "22531436-f3ce-4468-8f02-e44383056b48",
   "metadata": {},
   "outputs": [],
   "source": [
    "# tup[0]=7 # these are immutable we can't change them,\n",
    "# you cannot add, delete, change the tuple"
   ]
  },
  {
   "cell_type": "code",
   "execution_count": 11,
   "id": "54090daa-c1c4-4df3-bba1-f1a2f360e6f3",
   "metadata": {},
   "outputs": [],
   "source": [
    "del(tup) # tuple deleted"
   ]
  },
  {
   "cell_type": "code",
   "execution_count": 18,
   "id": "ec2283b5-c92a-4725-9652-9a2a9d3da530",
   "metadata": {},
   "outputs": [
    {
     "name": "stdout",
     "output_type": "stream",
     "text": [
      "1\n",
      "2\n",
      "3\n",
      "4\n",
      "<class 'tuple'>\n"
     ]
    }
   ],
   "source": [
    "# for loop works fine with this\n",
    "a = 1,2,3,4\n",
    "b=(5,6)\n",
    "for i in a:\n",
    "    print(i)\n",
    "print(type(a))"
   ]
  },
  {
   "cell_type": "code",
   "execution_count": 19,
   "id": "5989de18-243b-49dc-8204-3758267fb023",
   "metadata": {},
   "outputs": [
    {
     "data": {
      "text/plain": [
       "True"
      ]
     },
     "execution_count": 19,
     "metadata": {},
     "output_type": "execute_result"
    }
   ],
   "source": [
    "1 in a "
   ]
  },
  {
   "cell_type": "code",
   "execution_count": 20,
   "id": "9bb3d438-9351-414e-9aec-8e8b4f72d0f3",
   "metadata": {},
   "outputs": [
    {
     "data": {
      "text/plain": [
       "4"
      ]
     },
     "execution_count": 20,
     "metadata": {},
     "output_type": "execute_result"
    }
   ],
   "source": [
    "len(a)"
   ]
  },
  {
   "cell_type": "code",
   "execution_count": 21,
   "id": "eb250818-5476-4953-a588-17e98c6c5337",
   "metadata": {},
   "outputs": [],
   "source": [
    "# concatenation: yes\n",
    "c = a + b\n",
    "d = (a,b)"
   ]
  },
  {
   "cell_type": "code",
   "execution_count": 23,
   "id": "f35de07d-f9c6-428d-b178-dd5db55583a9",
   "metadata": {},
   "outputs": [
    {
     "name": "stdout",
     "output_type": "stream",
     "text": [
      "(1, 2, 3, 4, 5, 6)\n",
      "((1, 2, 3, 4), (5, 6))\n"
     ]
    }
   ],
   "source": [
    "print(c)\n",
    "print(d)"
   ]
  },
  {
   "cell_type": "code",
   "execution_count": 25,
   "id": "5df4df64-4df2-47aa-b8be-1861ad7dbddc",
   "metadata": {},
   "outputs": [
    {
     "data": {
      "text/plain": [
       "(1, 2, 3, 4, 1, 2, 3, 4, 1, 2, 3, 4, 1, 2, 3, 4)"
      ]
     },
     "execution_count": 25,
     "metadata": {},
     "output_type": "execute_result"
    }
   ],
   "source": [
    "e = a * 4\n",
    "e"
   ]
  },
  {
   "cell_type": "code",
   "execution_count": 27,
   "id": "24f235e5-ff79-4e35-bf6d-3d33137f8a5a",
   "metadata": {},
   "outputs": [
    {
     "name": "stdout",
     "output_type": "stream",
     "text": [
      "1\n"
     ]
    },
    {
     "data": {
      "text/plain": [
       "4"
      ]
     },
     "execution_count": 27,
     "metadata": {},
     "output_type": "execute_result"
    }
   ],
   "source": [
    "print(min(a))\n",
    "max(a)"
   ]
  },
  {
   "cell_type": "code",
   "execution_count": 29,
   "id": "c2ea4399-6252-437b-ac5e-67860eda276e",
   "metadata": {},
   "outputs": [
    {
     "ename": "TypeError",
     "evalue": "'>' not supported between instances of 'tuple' and 'int'",
     "output_type": "error",
     "traceback": [
      "\u001b[1;31m---------------------------------------------------------------------------\u001b[0m",
      "\u001b[1;31mTypeError\u001b[0m                                 Traceback (most recent call last)",
      "Cell \u001b[1;32mIn[29], line 2\u001b[0m\n\u001b[0;32m      1\u001b[0m z \u001b[38;5;241m=\u001b[39m (\u001b[38;5;241m2\u001b[39m,\u001b[38;5;241m3\u001b[39m,(\u001b[38;5;241m4\u001b[39m,\u001b[38;5;241m5\u001b[39m))\n\u001b[1;32m----> 2\u001b[0m \u001b[38;5;28mmax\u001b[39m(z)\n",
      "\u001b[1;31mTypeError\u001b[0m: '>' not supported between instances of 'tuple' and 'int'"
     ]
    }
   ],
   "source": [
    "z = (2,3,(4,5))\n",
    "max(z) # we cannot compare an int to tuple"
   ]
  },
  {
   "cell_type": "code",
   "execution_count": 35,
   "id": "1521e1ab-f237-4625-aef7-faeb0ed32123",
   "metadata": {},
   "outputs": [
    {
     "name": "stdout",
     "output_type": "stream",
     "text": [
      "(1, 2, 3, 4, 5, 6)\n"
     ]
    }
   ],
   "source": [
    "li = [1,2,3,4,5,6]\n",
    "ab = tuple(li)\n",
    "print(ab)"
   ]
  },
  {
   "cell_type": "code",
   "execution_count": 36,
   "id": "b307e290-f99e-4262-8c09-94c704a29263",
   "metadata": {},
   "outputs": [
    {
     "name": "stdout",
     "output_type": "stream",
     "text": [
      "15\n"
     ]
    }
   ],
   "source": [
    "# variable length input\n",
    "def sum(a,b, *more):\n",
    "    sum =0\n",
    "    sum = sum + a + b\n",
    "    for i in more:\n",
    "        sum = sum + i\n",
    "    return sum\n",
    "val = sum(1,2,3,4,5)\n",
    "print(val)"
   ]
  },
  {
   "cell_type": "code",
   "execution_count": 38,
   "id": "5ba6288a-9354-43c4-bf1b-341d6c8e837c",
   "metadata": {},
   "outputs": [
    {
     "name": "stdout",
     "output_type": "stream",
     "text": [
      "24\n",
      "4\n"
     ]
    }
   ],
   "source": [
    "# variable length output\n",
    "\n",
    "def sum_out(a,b):\n",
    "    return a+b, a-b\n",
    "\n",
    "val1 , val2 = sum_out(14,10)\n",
    "print(val1)\n",
    "print(val2)"
   ]
  },
  {
   "cell_type": "code",
   "execution_count": 40,
   "id": "186bfe76-9268-411f-bb89-489c5cc17a37",
   "metadata": {},
   "outputs": [
    {
     "name": "stdout",
     "output_type": "stream",
     "text": [
      "(24, 4, 140, 1.4)\n"
     ]
    }
   ],
   "source": [
    "# variable length output\n",
    "\n",
    "def sum_many(a,b):\n",
    "    return a+b, a-b, a*b, a/b\n",
    "\n",
    "val1  = sum_many(14,10)\n",
    "print(val1) # all of them gets stored in a tuple,if you want to store them separately,you need to give those many variables to take it like val1,val2....."
   ]
  },
  {
   "cell_type": "code",
   "execution_count": null,
   "id": "8f7181c5-290f-422d-b7ff-0e89571f8b24",
   "metadata": {},
   "outputs": [],
   "source": []
  },
  {
   "cell_type": "markdown",
   "id": "e929cc78-5885-4a29-b72b-b431874288cb",
   "metadata": {},
   "source": [
    "## Dictionary"
   ]
  },
  {
   "cell_type": "code",
   "execution_count": 76,
   "id": "32a6a801-2700-45d0-971c-b2166ba2f2b0",
   "metadata": {},
   "outputs": [
    {
     "name": "stdout",
     "output_type": "stream",
     "text": [
      "{'apple': 60, 'banana': 40, 'cherry': 40, 'date': 20, 'fig': 40, 'grape': 20}\n"
     ]
    }
   ],
   "source": [
    "string_list = [\n",
    "    \"apple\", \"banana\", \"cherry\", \"apple\",\n",
    "    \"date\", \"banana\", \"fig\", \"grape\",\n",
    "    \"cherry\", \"apple\", \"fig\"\n",
    "] \n",
    "a = {}\n",
    "\n",
    "for i in string_list:\n",
    "    if i in a: \n",
    "        a[i] +=1\n",
    "    else:\n",
    "        a[i]=1\n",
    "print(a)"
   ]
  },
  {
   "cell_type": "code",
   "execution_count": 48,
   "id": "b0bf1568-c136-4575-8f3d-77776d0f2ab4",
   "metadata": {},
   "outputs": [
    {
     "data": {
      "text/plain": [
       "11"
      ]
     },
     "execution_count": 48,
     "metadata": {},
     "output_type": "execute_result"
    }
   ],
   "source": [
    "len(string_list)"
   ]
  },
  {
   "cell_type": "code",
   "execution_count": 65,
   "id": "f34bac90-e332-41ea-99fc-ad20025fe6aa",
   "metadata": {},
   "outputs": [],
   "source": [
    "b = a.copy()"
   ]
  },
  {
   "cell_type": "code",
   "execution_count": 66,
   "id": "f9eb7e69-c2cb-450b-bfc9-b33587679762",
   "metadata": {},
   "outputs": [
    {
     "data": {
      "text/plain": [
       "{1: 'a', 2: 3, 'z': 9}"
      ]
     },
     "execution_count": 66,
     "metadata": {},
     "output_type": "execute_result"
    }
   ],
   "source": [
    "c = dict([(1,\"a\"), (2,3), ('z',9)])\n",
    "c"
   ]
  },
  {
   "cell_type": "code",
   "execution_count": 67,
   "id": "ba066cbf-008e-45d0-ae35-48b99ea02171",
   "metadata": {},
   "outputs": [
    {
     "data": {
      "text/plain": [
       "{1: 0, 2: 0, 3: 0}"
      ]
     },
     "execution_count": 67,
     "metadata": {},
     "output_type": "execute_result"
    }
   ],
   "source": [
    "d= dict.fromkeys([1,2,3], 0)\n",
    "d # dictionary are mutable"
   ]
  },
  {
   "cell_type": "code",
   "execution_count": 68,
   "id": "4fb68753-206d-409f-a6e8-7810c86160dc",
   "metadata": {},
   "outputs": [
    {
     "data": {
      "text/plain": [
       "1"
      ]
     },
     "execution_count": 68,
     "metadata": {},
     "output_type": "execute_result"
    }
   ],
   "source": [
    "b.get('apple')"
   ]
  },
  {
   "cell_type": "code",
   "execution_count": 69,
   "id": "a3fbc3b9-be76-4dd5-b283-8b012afc69eb",
   "metadata": {},
   "outputs": [
    {
     "data": {
      "text/plain": [
       "1"
      ]
     },
     "execution_count": 69,
     "metadata": {},
     "output_type": "execute_result"
    }
   ],
   "source": [
    "b['apple']"
   ]
  },
  {
   "cell_type": "code",
   "execution_count": 71,
   "id": "b4c10084-6a9d-4a22-a6dc-c7afc7ea10c5",
   "metadata": {},
   "outputs": [
    {
     "ename": "KeyError",
     "evalue": "'yellow'",
     "output_type": "error",
     "traceback": [
      "\u001b[1;31m---------------------------------------------------------------------------\u001b[0m",
      "\u001b[1;31mKeyError\u001b[0m                                  Traceback (most recent call last)",
      "Cell \u001b[1;32mIn[71], line 1\u001b[0m\n\u001b[1;32m----> 1\u001b[0m b[\u001b[38;5;124m'\u001b[39m\u001b[38;5;124myellow\u001b[39m\u001b[38;5;124m'\u001b[39m]  \u001b[38;5;66;03m# this gives error\u001b[39;00m\n\u001b[0;32m      2\u001b[0m b\u001b[38;5;241m.\u001b[39mget(\u001b[38;5;124m'\u001b[39m\u001b[38;5;124myellow\u001b[39m\u001b[38;5;124m'\u001b[39m)\n",
      "\u001b[1;31mKeyError\u001b[0m: 'yellow'"
     ]
    }
   ],
   "source": [
    "b['yellow']  # this gives error\n",
    "b.get('yellow') # dosen't gives error"
   ]
  },
  {
   "cell_type": "code",
   "execution_count": 72,
   "id": "a02dee65-636d-471a-8b60-19c733e03ea5",
   "metadata": {},
   "outputs": [
    {
     "data": {
      "text/plain": [
       "True"
      ]
     },
     "execution_count": 72,
     "metadata": {},
     "output_type": "execute_result"
    }
   ],
   "source": [
    "'banana' in b"
   ]
  },
  {
   "cell_type": "code",
   "execution_count": 73,
   "id": "2b5d356a-512c-4230-b53f-77ad72fabef9",
   "metadata": {},
   "outputs": [
    {
     "data": {
      "text/plain": [
       "False"
      ]
     },
     "execution_count": 73,
     "metadata": {},
     "output_type": "execute_result"
    }
   ],
   "source": [
    "'yellow' in b"
   ]
  },
  {
   "cell_type": "code",
   "execution_count": 77,
   "id": "c44a7a1d-2c5a-4cdc-ace2-8b8764e71aee",
   "metadata": {},
   "outputs": [
    {
     "name": "stdout",
     "output_type": "stream",
     "text": [
      "{'apple': 60, 'banana': 40, 'cherry': 40, 'date': 20, 'fig': 40, 'grape': 20}\n",
      "{'apple': 1, 'banana': 1, 'cherry': 1, 'date': 1, 'fig': 1, 'grape': 1}\n"
     ]
    }
   ],
   "source": [
    "print(a)\n",
    "print(b)"
   ]
  },
  {
   "cell_type": "code",
   "execution_count": 78,
   "id": "239266ce-8f1f-486e-90b5-80412c54ad1a",
   "metadata": {},
   "outputs": [
    {
     "data": {
      "text/plain": [
       "{'apple': 60, 'banana': 40, 'cherry': 40, 'date': 20, 'fig': 40, 'grape': 20}"
      ]
     },
     "execution_count": 78,
     "metadata": {},
     "output_type": "execute_result"
    }
   ],
   "source": [
    "b.update(a)\n",
    "b"
   ]
  },
  {
   "cell_type": "code",
   "execution_count": 79,
   "id": "ee12dece-ba35-459b-9ed6-47eda5ace015",
   "metadata": {},
   "outputs": [
    {
     "data": {
      "text/plain": [
       "20"
      ]
     },
     "execution_count": 79,
     "metadata": {},
     "output_type": "execute_result"
    }
   ],
   "source": [
    "b.pop('grape')"
   ]
  },
  {
   "cell_type": "code",
   "execution_count": 80,
   "id": "f97440c1-8427-4e5b-87cf-200adab2d76f",
   "metadata": {},
   "outputs": [
    {
     "data": {
      "text/plain": [
       "{'apple': 60, 'banana': 40, 'cherry': 40, 'date': 20, 'fig': 40}"
      ]
     },
     "execution_count": 80,
     "metadata": {},
     "output_type": "execute_result"
    }
   ],
   "source": [
    "b"
   ]
  },
  {
   "cell_type": "code",
   "execution_count": 81,
   "id": "b0040065-fff1-494d-a0fc-07a526a5bdb7",
   "metadata": {},
   "outputs": [],
   "source": [
    "del(b['apple'])"
   ]
  },
  {
   "cell_type": "code",
   "execution_count": 82,
   "id": "14a5f1b1-32d4-4ff8-bad9-c9f16d0ad59f",
   "metadata": {},
   "outputs": [
    {
     "data": {
      "text/plain": [
       "{'banana': 40, 'cherry': 40, 'date': 20, 'fig': 40}"
      ]
     },
     "execution_count": 82,
     "metadata": {},
     "output_type": "execute_result"
    }
   ],
   "source": [
    "b"
   ]
  },
  {
   "cell_type": "code",
   "execution_count": 83,
   "id": "5ab478bc-32cd-4ce2-9cc3-c7cd5ab1f869",
   "metadata": {},
   "outputs": [],
   "source": [
    "\n",
    "del(b)"
   ]
  },
  {
   "cell_type": "code",
   "execution_count": 84,
   "id": "1f068639-bf2c-4308-91fe-a4e9d2e11eb2",
   "metadata": {},
   "outputs": [
    {
     "ename": "NameError",
     "evalue": "name 'b' is not defined",
     "output_type": "error",
     "traceback": [
      "\u001b[1;31m---------------------------------------------------------------------------\u001b[0m",
      "\u001b[1;31mNameError\u001b[0m                                 Traceback (most recent call last)",
      "Cell \u001b[1;32mIn[84], line 1\u001b[0m\n\u001b[1;32m----> 1\u001b[0m b\n",
      "\u001b[1;31mNameError\u001b[0m: name 'b' is not defined"
     ]
    }
   ],
   "source": [
    "b"
   ]
  },
  {
   "cell_type": "code",
   "execution_count": 98,
   "id": "41419d15-f60d-49b1-b3ef-894ee32220e8",
   "metadata": {},
   "outputs": [
    {
     "name": "stdin",
     "output_type": "stream",
     "text": [
      "Enter the Frequency:  1\n"
     ]
    },
    {
     "name": "stdout",
     "output_type": "stream",
     "text": [
      "zebra\n",
      "rhino\n",
      "{'lion': 3, 'tiger': 2, 'elephant': 2, 'zebra': 1, 'giraffe': 2, 'rhino': 1}\n"
     ]
    }
   ],
   "source": [
    "# print all words with frequency K\n",
    "\n",
    "string_list = [\n",
    "    \"lion\", \"tiger\", \"elephant\", \"lion\",\n",
    "    \"zebra\", \"tiger\", \"giraffe\", \"rhino\",\n",
    "    \"elephant\", \"lion\", \"giraffe\"\n",
    "]\n",
    "\n",
    "v = {}\n",
    "k = int(input(\"Enter the Frequency: \"))\n",
    "\n",
    "for i in string_list:\n",
    "    if i in v: \n",
    "        v[i] +=1\n",
    "    else:\n",
    "        v[i]=1\n",
    "        \n",
    "for i in v.keys():\n",
    "    if(v[i]==k):\n",
    "        print(i)\n",
    "\n",
    "\n",
    "print(v)\n"
   ]
  },
  {
   "cell_type": "code",
   "execution_count": 101,
   "id": "97022a1c-7e82-49c4-ad1a-251548045ad8",
   "metadata": {},
   "outputs": [
    {
     "name": "stdin",
     "output_type": "stream",
     "text": [
      "Enter the Frequency:  3\n"
     ]
    },
    {
     "name": "stdout",
     "output_type": "stream",
     "text": [
      "lion\n",
      "{'lion': 3, 'tiger': 2, 'elephant': 2, 'zebra': 1, 'giraffe': 2, 'rhino': 1}\n"
     ]
    }
   ],
   "source": [
    "# print all words with frequency K\n",
    "# same code in short\n",
    "\n",
    "string_list = [\n",
    "    \"lion\", \"tiger\", \"elephant\", \"lion\",\n",
    "    \"zebra\", \"tiger\", \"giraffe\", \"rhino\",\n",
    "    \"elephant\", \"lion\", \"giraffe\"\n",
    "]\n",
    "\n",
    "m = {}\n",
    "k = int(input(\"Enter the Frequency: \"))\n",
    "\n",
    "for i in string_list:\n",
    "     m[i] = m.get(i,0) +1\n",
    "        \n",
    "for i in m.keys():\n",
    "    if(m[i]==k):\n",
    "        print(i)\n",
    "\n",
    "\n",
    "print(v)\n"
   ]
  },
  {
   "cell_type": "code",
   "execution_count": null,
   "id": "52baea48-2841-4c8f-9749-23f05a1aedb9",
   "metadata": {},
   "outputs": [],
   "source": []
  },
  {
   "cell_type": "markdown",
   "id": "2a15629c-dea8-4052-ac26-ed79f85c9879",
   "metadata": {},
   "source": [
    "## Sets"
   ]
  },
  {
   "cell_type": "code",
   "execution_count": 102,
   "id": "f49b9a37-09be-49bb-a00e-d72272f99d75",
   "metadata": {},
   "outputs": [],
   "source": [
    "# the same as maths sets"
   ]
  },
  {
   "cell_type": "markdown",
   "id": "174dfa3e-2bfe-48b0-9035-36a9e63ab51d",
   "metadata": {},
   "source": [
    "### Elements are unique"
   ]
  },
  {
   "cell_type": "code",
   "execution_count": 108,
   "id": "05de67f3-05fa-45e4-9774-59a2fb227346",
   "metadata": {},
   "outputs": [
    {
     "name": "stdout",
     "output_type": "stream",
     "text": [
      "<class 'set'>\n"
     ]
    }
   ],
   "source": [
    "# sets are like dictionary but they don't have values\n",
    "st = {1,2,3,3,12,43,122}\n",
    "\n",
    "print(type(st))"
   ]
  },
  {
   "cell_type": "code",
   "execution_count": 109,
   "id": "98cdf169-d4f8-4358-a6e7-122fd263c619",
   "metadata": {},
   "outputs": [
    {
     "data": {
      "text/plain": [
       "True"
      ]
     },
     "execution_count": 109,
     "metadata": {},
     "output_type": "execute_result"
    }
   ],
   "source": [
    "2 in st"
   ]
  },
  {
   "cell_type": "code",
   "execution_count": 110,
   "id": "a4f2ebfc-4107-4490-ba29-57ed3b6aa2ec",
   "metadata": {},
   "outputs": [
    {
     "name": "stdout",
     "output_type": "stream",
     "text": [
      "1\n",
      "2\n",
      "3\n",
      "122\n",
      "43\n",
      "12\n"
     ]
    }
   ],
   "source": [
    "for v in st: # there is no order\n",
    "    print(v)"
   ]
  },
  {
   "cell_type": "code",
   "execution_count": 111,
   "id": "c94b1009-cfe9-4c3b-82f1-310c4b36a8f5",
   "metadata": {},
   "outputs": [],
   "source": [
    "st.add(\"Ibrahim\")"
   ]
  },
  {
   "cell_type": "code",
   "execution_count": 115,
   "id": "64bdefe4-2e07-4789-b9f4-7e3898143027",
   "metadata": {},
   "outputs": [],
   "source": [
    "st.add((23,3))\n",
    "st.add(12.32)"
   ]
  },
  {
   "cell_type": "code",
   "execution_count": 116,
   "id": "a48070e6-af96-4460-b236-a9eb75e0c156",
   "metadata": {},
   "outputs": [
    {
     "name": "stdout",
     "output_type": "stream",
     "text": [
      "{1, 2, 3, 12, 12.32, 43, (23, 3), 'Ibrahim', 122}\n"
     ]
    }
   ],
   "source": [
    "print(st)"
   ]
  },
  {
   "cell_type": "code",
   "execution_count": 117,
   "id": "b7476d39-75ba-4257-8c19-939f5799f887",
   "metadata": {},
   "outputs": [
    {
     "name": "stdout",
     "output_type": "stream",
     "text": [
      "{1, 2, 3, 43, 12, 12.32, (23, 3), 'Ibrahim', 122}\n"
     ]
    }
   ],
   "source": [
    "st2 = {1,2}\n",
    "st2.update(st)\n",
    "print(st2)"
   ]
  },
  {
   "cell_type": "code",
   "execution_count": 118,
   "id": "d0714bdf-62e7-4eec-b08c-d0e8b58cb084",
   "metadata": {},
   "outputs": [],
   "source": [
    "st2.remove(3)"
   ]
  },
  {
   "cell_type": "code",
   "execution_count": 119,
   "id": "667eaf55-0a4f-46b9-82c0-ec3d2dbd2efc",
   "metadata": {},
   "outputs": [
    {
     "ename": "KeyError",
     "evalue": "1000",
     "output_type": "error",
     "traceback": [
      "\u001b[1;31m---------------------------------------------------------------------------\u001b[0m",
      "\u001b[1;31mKeyError\u001b[0m                                  Traceback (most recent call last)",
      "Cell \u001b[1;32mIn[119], line 1\u001b[0m\n\u001b[1;32m----> 1\u001b[0m st2\u001b[38;5;241m.\u001b[39mremove(\u001b[38;5;241m1000\u001b[39m)\n",
      "\u001b[1;31mKeyError\u001b[0m: 1000"
     ]
    }
   ],
   "source": [
    "st2.remove(1000)"
   ]
  },
  {
   "cell_type": "code",
   "execution_count": 120,
   "id": "aa6689be-9dab-4cc2-838b-4f133f1982db",
   "metadata": {},
   "outputs": [],
   "source": [
    "st2.discard(1000)"
   ]
  },
  {
   "cell_type": "code",
   "execution_count": 122,
   "id": "113c5aa8-d302-40e7-baa8-437eb9b5c026",
   "metadata": {},
   "outputs": [
    {
     "data": {
      "text/plain": [
       "2"
      ]
     },
     "execution_count": 122,
     "metadata": {},
     "output_type": "execute_result"
    }
   ],
   "source": [
    "st2.pop()"
   ]
  },
  {
   "cell_type": "code",
   "execution_count": 123,
   "id": "fc888f74-46d4-4897-a110-aa7dfd7226b2",
   "metadata": {},
   "outputs": [],
   "source": [
    "# other inbuilt functions on sets\n",
    "# intersection, union, difference, symmetric_differenc, \n",
    "# a.issubset(b), a.issuperset(b), a.isdisjoint(b)"
   ]
  },
  {
   "cell_type": "code",
   "execution_count": 127,
   "id": "3e5ce0ba-b0bd-426c-9917-e55501020403",
   "metadata": {},
   "outputs": [
    {
     "name": "stdout",
     "output_type": "stream",
     "text": [
      "{1, 2, 3, 4, 5, 6}\n",
      "21\n"
     ]
    }
   ],
   "source": [
    "# sum of unique numbers in list\n",
    "\n",
    "nums = [1,2,3,3,3,4,5,6,6,2,1]\n",
    "\n",
    "ans = set(nums)\n",
    "print(ans)\n",
    "sumi=0\n",
    "for i in ans:\n",
    "    sumi += i\n",
    "print(sumi)"
   ]
  },
  {
   "cell_type": "code",
   "execution_count": 128,
   "id": "e82d14ba-df2e-43e1-9782-0374625db26c",
   "metadata": {},
   "outputs": [
    {
     "name": "stdin",
     "output_type": "stream",
     "text": [
      " 3\n",
      " 1 2 3\n",
      " 1\n"
     ]
    },
    {
     "name": "stdout",
     "output_type": "stream",
     "text": [
      "2\n"
     ]
    }
   ],
   "source": [
    "def count_pairs_with_diff_k(arr, k):\n",
    "    freq = {}\n",
    "    count = 0\n",
    "\n",
    "    for num in arr:\n",
    "        # Count pairs where num - k or num + k already exists\n",
    "        count += freq.get(num - k, 0)\n",
    "        count += freq.get(num + k, 0)\n",
    "\n",
    "        # Update frequency of current number\n",
    "        freq[num] = freq.get(num, 0) + 1\n",
    "\n",
    "    return count\n",
    "\n",
    "# Input\n",
    "n = int(input())\n",
    "arr = list(map(int, input().split()))\n",
    "k = int(input())\n",
    "\n",
    "# Output\n",
    "print(count_pairs_with_diff_k(arr, k))\n"
   ]
  }
 ],
 "metadata": {
  "kernelspec": {
   "display_name": "Python [conda env:base] *",
   "language": "python",
   "name": "conda-base-py"
  },
  "language_info": {
   "codemirror_mode": {
    "name": "ipython",
    "version": 3
   },
   "file_extension": ".py",
   "mimetype": "text/x-python",
   "name": "python",
   "nbconvert_exporter": "python",
   "pygments_lexer": "ipython3",
   "version": "3.13.5"
  }
 },
 "nbformat": 4,
 "nbformat_minor": 5
}
