{
 "cells": [
  {
   "cell_type": "markdown",
   "id": "6b26dc0c-eec0-484b-a3fe-b5ba70d075b9",
   "metadata": {},
   "source": [
    "## Tuple"
   ]
  },
  {
   "cell_type": "code",
   "execution_count": 1,
   "id": "e9871c18-62b4-4377-9267-a0aa0114e290",
   "metadata": {},
   "outputs": [
    {
     "name": "stdout",
     "output_type": "stream",
     "text": [
      "(3, 4)\n",
      "<class 'tuple'>\n"
     ]
    }
   ],
   "source": [
    "tup = 3,4\n",
    "print(tup)\n",
    "print(type(tup))"
   ]
  },
  {
   "cell_type": "code",
   "execution_count": 7,
   "id": "01ec3d6c-b903-4fed-9cb9-cc61cbf74963",
   "metadata": {},
   "outputs": [
    {
     "name": "stdout",
     "output_type": "stream",
     "text": [
      "3\n",
      "4\n",
      "<class 'int'> <class 'int'>\n"
     ]
    }
   ],
   "source": [
    "i,j = 3,4\n",
    "print(i)\n",
    "print(j)\n",
    "print(type(i) , type(j))"
   ]
  },
  {
   "cell_type": "code",
   "execution_count": 8,
   "id": "a0925308-ea53-4de7-bf88-ab035a45b870",
   "metadata": {},
   "outputs": [
    {
     "data": {
      "text/plain": [
       "3"
      ]
     },
     "execution_count": 8,
     "metadata": {},
     "output_type": "execute_result"
    }
   ],
   "source": [
    "tup[0]"
   ]
  },
  {
   "cell_type": "code",
   "execution_count": 10,
   "id": "22531436-f3ce-4468-8f02-e44383056b48",
   "metadata": {},
   "outputs": [],
   "source": [
    "# tup[0]=7 # these are immutable we can't change them,\n",
    "# you cannot add, delete, change the tuple"
   ]
  },
  {
   "cell_type": "code",
   "execution_count": 11,
   "id": "54090daa-c1c4-4df3-bba1-f1a2f360e6f3",
   "metadata": {},
   "outputs": [],
   "source": [
    "del(tup) # tuple deleted"
   ]
  },
  {
   "cell_type": "code",
   "execution_count": 18,
   "id": "ec2283b5-c92a-4725-9652-9a2a9d3da530",
   "metadata": {},
   "outputs": [
    {
     "name": "stdout",
     "output_type": "stream",
     "text": [
      "1\n",
      "2\n",
      "3\n",
      "4\n",
      "<class 'tuple'>\n"
     ]
    }
   ],
   "source": [
    "# for loop works fine with this\n",
    "a = 1,2,3,4\n",
    "b=(5,6)\n",
    "for i in a:\n",
    "    print(i)\n",
    "print(type(a))"
   ]
  },
  {
   "cell_type": "code",
   "execution_count": 19,
   "id": "5989de18-243b-49dc-8204-3758267fb023",
   "metadata": {},
   "outputs": [
    {
     "data": {
      "text/plain": [
       "True"
      ]
     },
     "execution_count": 19,
     "metadata": {},
     "output_type": "execute_result"
    }
   ],
   "source": [
    "1 in a "
   ]
  },
  {
   "cell_type": "code",
   "execution_count": 20,
   "id": "9bb3d438-9351-414e-9aec-8e8b4f72d0f3",
   "metadata": {},
   "outputs": [
    {
     "data": {
      "text/plain": [
       "4"
      ]
     },
     "execution_count": 20,
     "metadata": {},
     "output_type": "execute_result"
    }
   ],
   "source": [
    "len(a)"
   ]
  },
  {
   "cell_type": "code",
   "execution_count": 21,
   "id": "eb250818-5476-4953-a588-17e98c6c5337",
   "metadata": {},
   "outputs": [],
   "source": [
    "# concatenation: yes\n",
    "c = a + b\n",
    "d = (a,b)"
   ]
  },
  {
   "cell_type": "code",
   "execution_count": 23,
   "id": "f35de07d-f9c6-428d-b178-dd5db55583a9",
   "metadata": {},
   "outputs": [
    {
     "name": "stdout",
     "output_type": "stream",
     "text": [
      "(1, 2, 3, 4, 5, 6)\n",
      "((1, 2, 3, 4), (5, 6))\n"
     ]
    }
   ],
   "source": [
    "print(c)\n",
    "print(d)"
   ]
  },
  {
   "cell_type": "code",
   "execution_count": 25,
   "id": "5df4df64-4df2-47aa-b8be-1861ad7dbddc",
   "metadata": {},
   "outputs": [
    {
     "data": {
      "text/plain": [
       "(1, 2, 3, 4, 1, 2, 3, 4, 1, 2, 3, 4, 1, 2, 3, 4)"
      ]
     },
     "execution_count": 25,
     "metadata": {},
     "output_type": "execute_result"
    }
   ],
   "source": [
    "e = a * 4\n",
    "e"
   ]
  },
  {
   "cell_type": "code",
   "execution_count": 27,
   "id": "24f235e5-ff79-4e35-bf6d-3d33137f8a5a",
   "metadata": {},
   "outputs": [
    {
     "name": "stdout",
     "output_type": "stream",
     "text": [
      "1\n"
     ]
    },
    {
     "data": {
      "text/plain": [
       "4"
      ]
     },
     "execution_count": 27,
     "metadata": {},
     "output_type": "execute_result"
    }
   ],
   "source": [
    "print(min(a))\n",
    "max(a)"
   ]
  },
  {
   "cell_type": "code",
   "execution_count": 29,
   "id": "c2ea4399-6252-437b-ac5e-67860eda276e",
   "metadata": {},
   "outputs": [
    {
     "ename": "TypeError",
     "evalue": "'>' not supported between instances of 'tuple' and 'int'",
     "output_type": "error",
     "traceback": [
      "\u001b[1;31m---------------------------------------------------------------------------\u001b[0m",
      "\u001b[1;31mTypeError\u001b[0m                                 Traceback (most recent call last)",
      "Cell \u001b[1;32mIn[29], line 2\u001b[0m\n\u001b[0;32m      1\u001b[0m z \u001b[38;5;241m=\u001b[39m (\u001b[38;5;241m2\u001b[39m,\u001b[38;5;241m3\u001b[39m,(\u001b[38;5;241m4\u001b[39m,\u001b[38;5;241m5\u001b[39m))\n\u001b[1;32m----> 2\u001b[0m \u001b[38;5;28mmax\u001b[39m(z)\n",
      "\u001b[1;31mTypeError\u001b[0m: '>' not supported between instances of 'tuple' and 'int'"
     ]
    }
   ],
   "source": [
    "z = (2,3,(4,5))\n",
    "max(z) # we cannot compare an int to tuple"
   ]
  },
  {
   "cell_type": "code",
   "execution_count": 35,
   "id": "1521e1ab-f237-4625-aef7-faeb0ed32123",
   "metadata": {},
   "outputs": [
    {
     "name": "stdout",
     "output_type": "stream",
     "text": [
      "(1, 2, 3, 4, 5, 6)\n"
     ]
    }
   ],
   "source": [
    "li = [1,2,3,4,5,6]\n",
    "ab = tuple(li)\n",
    "print(ab)"
   ]
  },
  {
   "cell_type": "code",
   "execution_count": 36,
   "id": "b307e290-f99e-4262-8c09-94c704a29263",
   "metadata": {},
   "outputs": [
    {
     "name": "stdout",
     "output_type": "stream",
     "text": [
      "15\n"
     ]
    }
   ],
   "source": [
    "# variable length input\n",
    "def sum(a,b, *more):\n",
    "    sum =0\n",
    "    sum = sum + a + b\n",
    "    for i in more:\n",
    "        sum = sum + i\n",
    "    return sum\n",
    "val = sum(1,2,3,4,5)\n",
    "print(val)"
   ]
  },
  {
   "cell_type": "code",
   "execution_count": 38,
   "id": "5ba6288a-9354-43c4-bf1b-341d6c8e837c",
   "metadata": {},
   "outputs": [
    {
     "name": "stdout",
     "output_type": "stream",
     "text": [
      "24\n",
      "4\n"
     ]
    }
   ],
   "source": [
    "# variable length output\n",
    "\n",
    "def sum_out(a,b):\n",
    "    return a+b, a-b\n",
    "\n",
    "val1 , val2 = sum_out(14,10)\n",
    "print(val1)\n",
    "print(val2)"
   ]
  },
  {
   "cell_type": "code",
   "execution_count": 40,
   "id": "186bfe76-9268-411f-bb89-489c5cc17a37",
   "metadata": {},
   "outputs": [
    {
     "name": "stdout",
     "output_type": "stream",
     "text": [
      "(24, 4, 140, 1.4)\n"
     ]
    }
   ],
   "source": [
    "# variable length output\n",
    "\n",
    "def sum_many(a,b):\n",
    "    return a+b, a-b, a*b, a/b\n",
    "\n",
    "val1  = sum_many(14,10)\n",
    "print(val1) # all of them gets stored in a tuple,if you want to store them separately,you need to give those many variables to take it like val1,val2....."
   ]
  },
  {
   "cell_type": "code",
   "execution_count": null,
   "id": "8f7181c5-290f-422d-b7ff-0e89571f8b24",
   "metadata": {},
   "outputs": [],
   "source": []
  },
  {
   "cell_type": "markdown",
   "id": "e929cc78-5885-4a29-b72b-b431874288cb",
   "metadata": {},
   "source": [
    "## Dictionary"
   ]
  },
  {
   "cell_type": "code",
   "execution_count": 76,
   "id": "32a6a801-2700-45d0-971c-b2166ba2f2b0",
   "metadata": {},
   "outputs": [
    {
     "name": "stdout",
     "output_type": "stream",
     "text": [
      "{'apple': 60, 'banana': 40, 'cherry': 40, 'date': 20, 'fig': 40, 'grape': 20}\n"
     ]
    }
   ],
   "source": [
    "string_list = [\n",
    "    \"apple\", \"banana\", \"cherry\", \"apple\",\n",
    "    \"date\", \"banana\", \"fig\", \"grape\",\n",
    "    \"cherry\", \"apple\", \"fig\"\n",
    "] \n",
    "a = {}\n",
    "\n",
    "for i in string_list:\n",
    "    if i in a: \n",
    "        a[i] +=1\n",
    "    else:\n",
    "        a[i]=1\n",
    "print(a)"
   ]
  },
  {
   "cell_type": "code",
   "execution_count": 48,
   "id": "b0bf1568-c136-4575-8f3d-77776d0f2ab4",
   "metadata": {},
   "outputs": [
    {
     "data": {
      "text/plain": [
       "11"
      ]
     },
     "execution_count": 48,
     "metadata": {},
     "output_type": "execute_result"
    }
   ],
   "source": [
    "len(string_list)"
   ]
  },
  {
   "cell_type": "code",
   "execution_count": 65,
   "id": "f34bac90-e332-41ea-99fc-ad20025fe6aa",
   "metadata": {},
   "outputs": [],
   "source": [
    "b = a.copy()"
   ]
  },
  {
   "cell_type": "code",
   "execution_count": 66,
   "id": "f9eb7e69-c2cb-450b-bfc9-b33587679762",
   "metadata": {},
   "outputs": [
    {
     "data": {
      "text/plain": [
       "{1: 'a', 2: 3, 'z': 9}"
      ]
     },
     "execution_count": 66,
     "metadata": {},
     "output_type": "execute_result"
    }
   ],
   "source": [
    "c = dict([(1,\"a\"), (2,3), ('z',9)])\n",
    "c"
   ]
  },
  {
   "cell_type": "code",
   "execution_count": 67,
   "id": "ba066cbf-008e-45d0-ae35-48b99ea02171",
   "metadata": {},
   "outputs": [
    {
     "data": {
      "text/plain": [
       "{1: 0, 2: 0, 3: 0}"
      ]
     },
     "execution_count": 67,
     "metadata": {},
     "output_type": "execute_result"
    }
   ],
   "source": [
    "d= dict.fromkeys([1,2,3], 0)\n",
    "d # dictionary are mutable"
   ]
  },
  {
   "cell_type": "code",
   "execution_count": 68,
   "id": "4fb68753-206d-409f-a6e8-7810c86160dc",
   "metadata": {},
   "outputs": [
    {
     "data": {
      "text/plain": [
       "1"
      ]
     },
     "execution_count": 68,
     "metadata": {},
     "output_type": "execute_result"
    }
   ],
   "source": [
    "b.get('apple')"
   ]
  },
  {
   "cell_type": "code",
   "execution_count": 69,
   "id": "a3fbc3b9-be76-4dd5-b283-8b012afc69eb",
   "metadata": {},
   "outputs": [
    {
     "data": {
      "text/plain": [
       "1"
      ]
     },
     "execution_count": 69,
     "metadata": {},
     "output_type": "execute_result"
    }
   ],
   "source": [
    "b['apple']"
   ]
  },
  {
   "cell_type": "code",
   "execution_count": 71,
   "id": "b4c10084-6a9d-4a22-a6dc-c7afc7ea10c5",
   "metadata": {},
   "outputs": [
    {
     "ename": "KeyError",
     "evalue": "'yellow'",
     "output_type": "error",
     "traceback": [
      "\u001b[1;31m---------------------------------------------------------------------------\u001b[0m",
      "\u001b[1;31mKeyError\u001b[0m                                  Traceback (most recent call last)",
      "Cell \u001b[1;32mIn[71], line 1\u001b[0m\n\u001b[1;32m----> 1\u001b[0m b[\u001b[38;5;124m'\u001b[39m\u001b[38;5;124myellow\u001b[39m\u001b[38;5;124m'\u001b[39m]  \u001b[38;5;66;03m# this gives error\u001b[39;00m\n\u001b[0;32m      2\u001b[0m b\u001b[38;5;241m.\u001b[39mget(\u001b[38;5;124m'\u001b[39m\u001b[38;5;124myellow\u001b[39m\u001b[38;5;124m'\u001b[39m)\n",
      "\u001b[1;31mKeyError\u001b[0m: 'yellow'"
     ]
    }
   ],
   "source": [
    "b['yellow']  # this gives error\n",
    "b.get('yellow') # dosen't gives error"
   ]
  },
  {
   "cell_type": "code",
   "execution_count": 72,
   "id": "a02dee65-636d-471a-8b60-19c733e03ea5",
   "metadata": {},
   "outputs": [
    {
     "data": {
      "text/plain": [
       "True"
      ]
     },
     "execution_count": 72,
     "metadata": {},
     "output_type": "execute_result"
    }
   ],
   "source": [
    "'banana' in b"
   ]
  },
  {
   "cell_type": "code",
   "execution_count": 73,
   "id": "2b5d356a-512c-4230-b53f-77ad72fabef9",
   "metadata": {},
   "outputs": [
    {
     "data": {
      "text/plain": [
       "False"
      ]
     },
     "execution_count": 73,
     "metadata": {},
     "output_type": "execute_result"
    }
   ],
   "source": [
    "'yellow' in b"
   ]
  },
  {
   "cell_type": "code",
   "execution_count": null,
   "id": "c44a7a1d-2c5a-4cdc-ace2-8b8764e71aee",
   "metadata": {},
   "outputs": [],
   "source": []
  }
 ],
 "metadata": {
  "kernelspec": {
   "display_name": "Python [conda env:base] *",
   "language": "python",
   "name": "conda-base-py"
  },
  "language_info": {
   "codemirror_mode": {
    "name": "ipython",
    "version": 3
   },
   "file_extension": ".py",
   "mimetype": "text/x-python",
   "name": "python",
   "nbconvert_exporter": "python",
   "pygments_lexer": "ipython3",
   "version": "3.13.5"
  }
 },
 "nbformat": 4,
 "nbformat_minor": 5
}
