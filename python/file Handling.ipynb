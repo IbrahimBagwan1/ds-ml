{
 "cells": [
  {
   "cell_type": "code",
   "execution_count": 30,
   "id": "c147372e-125c-413f-ac20-d24791c2e251",
   "metadata": {},
   "outputs": [
    {
     "name": "stdout",
     "output_type": "stream",
     "text": [
      "<class 'str'>\n",
      "[]\n"
     ]
    }
   ],
   "source": [
    "file_obj = open(\"data.txt\", 'r', encoding='utf-8')\n",
    "content = file_obj.read()\n",
    "print(type(content))"
   ]
  },
  {
   "cell_type": "code",
   "execution_count": 38,
   "id": "0090d1f9-56cf-45ac-b9fc-5fd84ad59252",
   "metadata": {},
   "outputs": [
    {
     "name": "stdout",
     "output_type": "stream",
     "text": [
      "49\n",
      "<class 'list'>\n",
      "1. Belief in Allah – the one, unique, and merciful Creator.\n",
      "\n"
     ]
    }
   ],
   "source": [
    "file_obj = open(\"data.txt\", 'r', encoding='utf-8')\n",
    "line_by_line = file_obj.readlines()\n",
    "print(len(line_by_line))\n",
    "print(type(line_by_line))\n",
    "file_obj.close()\n",
    "print(line_by_line[4])"
   ]
  },
  {
   "cell_type": "code",
   "execution_count": 43,
   "id": "250e4597-e1e9-4362-b1b7-ce971183ed86",
   "metadata": {},
   "outputs": [
    {
     "name": "stdout",
     "output_type": "stream",
     "text": [
      "10901\n"
     ]
    }
   ],
   "source": [
    "with open(\"year2017.csv\", 'r', encoding='utf-8') as f:\n",
    "    details = f.readlines()\n",
    "\n",
    "print(len(details))"
   ]
  },
  {
   "cell_type": "code",
   "execution_count": 53,
   "id": "afa7b224-2064-4cb1-83b4-787cc6eb513e",
   "metadata": {},
   "outputs": [
    {
     "name": "stdout",
     "output_type": "stream",
     "text": [
      "<class '_csv.reader'>\n"
     ]
    }
   ],
   "source": [
    "import csv\n",
    "with open(\"year2017.csv\", 'r', encoding='utf-8') as f:\n",
    "    reading = csv.reader(f)\n",
    "  \n",
    "\n",
    "    print(type(reading))"
   ]
  },
  {
   "cell_type": "code",
   "execution_count": 6,
   "id": "eb1f0e27-7f9c-406e-a4a8-9b818124585c",
   "metadata": {},
   "outputs": [
    {
     "name": "stdout",
     "output_type": "stream",
     "text": [
      "<class '_csv.reader'>\n"
     ]
    }
   ],
   "source": [
    "import csv\n",
    "with open(\"year2017.csv\", 'r', encoding='utf-8') as f:\n",
    "    reading = csv.reader(f, delimiter= ',', skipinitialspace = True)\n",
    "    \n",
    "\n",
    "    print(type(reading))"
   ]
  },
  {
   "cell_type": "code",
   "execution_count": 4,
   "id": "4871c3c1-0873-4fc0-b517-5ffa1d3ac3e6",
   "metadata": {},
   "outputs": [
    {
     "name": "stdout",
     "output_type": "stream",
     "text": [
      "<class 'list'>\n"
     ]
    }
   ],
   "source": [
    "import csv\n",
    "with open(\"year2017.csv\", 'r', encoding='utf-8') as f:\n",
    "    reading = csv.reader(f, delimiter= ',', skipinitialspace = True)\n",
    "\n",
    "    file_list= list(reading)\n",
    "    print(type(file_list))\n"
   ]
  },
  {
   "cell_type": "code",
   "execution_count": 5,
   "id": "a418121d-690a-4fec-94ae-195ab47ff339",
   "metadata": {},
   "outputs": [],
   "source": [
    "import csv\n",
    "with open(\"year2017.csv\", 'r', encoding='utf-8') as f:\n",
    "    reading = csv.reader(f, skipinitialspace=True)\n",
    "\n",
    "    file_list= list(reading)\n",
    "\n",
    "killed = [] \n",
    "killed_sum = 0\n",
    "for row in file_list[1:]:\n",
    "    killed.append(row[9])\n",
    "\n"
   ]
  },
  {
   "cell_type": "code",
   "execution_count": 2,
   "id": "7df4b1a9-90e7-407b-ac61-e56d25ca6873",
   "metadata": {},
   "outputs": [
    {
     "name": "stdout",
     "output_type": "stream",
     "text": [
      "26445\n"
     ]
    }
   ],
   "source": [
    "import csv\n",
    "with open(\"year2017.csv\", 'r', encoding='utf-8') as f:\n",
    "    reading = csv.reader(f, skipinitialspace=True)\n",
    "\n",
    "    file_list= list(reading)\n",
    "\n",
    "killed = [] \n",
    "killed_sum = 0\n",
    "val = ''\n",
    "    \n",
    "for row in file_list[1:]:\n",
    "    if( row[9] != val):\n",
    "        killed.append(int(float(row[9])))\n",
    "    \n",
    "print(sum(killed))\n"
   ]
  },
  {
   "cell_type": "code",
   "execution_count": 10,
   "id": "11ec2117-42fe-496c-b659-9ec149140d1f",
   "metadata": {},
   "outputs": [
    {
     "name": "stdout",
     "output_type": "stream",
     "text": [
      "{'Afghanistan': 6092, 'Sudan': 82, 'Democratic Republic of the Congo': 596, 'Turkey': 222, 'Syria': 2026, 'Pakistan': 1076, 'Italy': 0, 'Somalia': 1912, 'Yemen': 762, 'Bahrain': 6, 'Myanmar': 218, 'Burundi': 20, 'Iraq': 6476, 'Egypt': 877, 'Burkina Faso': 53, 'India': 465, 'Algeria': 12, 'United States': 95, 'Philippines': 496, 'Greece': 0, 'Mali': 361, 'Libya': 289, 'Central African Republic': 601, 'Nigeria': 1805, 'Lebanon': 17, 'Mexico': 23, 'Cameroon': 228, 'Ethiopia': 67, 'Kyrgyzstan': 0, 'Serbia': 0, 'Sweden': 5, 'Thailand': 72, 'Iran': 39, 'France': 7, 'United Kingdom': 42, 'West Bank and Gaza Strip': 50, 'Ukraine': 40, 'Paraguay': 4, 'Colombia': 84, 'Malaysia': 4, 'Russia': 61, 'Kosovo': 0, 'South Africa': 21, 'Chile': 0, 'Kenya': 126, 'Israel': 3, 'Saudi Arabia': 31, 'China': 16, 'Nepal': 4, 'Ecuador': 0, 'Niger': 148, 'Venezuela': 5, 'South Sudan': 581, 'Canada': 6, 'Bangladesh': 25, 'Tajikistan': 1, 'Angola': 7, 'Ireland': 0, 'Peru': 8, 'Dominican Republic': 2, 'Poland': 0, 'Jordan': 4, 'Azerbaijan': 5, 'Mozambique': 22, 'Indonesia': 20, 'Germany': 1, 'Brazil': 0, 'Macedonia': 0, 'Tunisia': 5, 'Uganda': 7, 'Chad': 62, 'Finland': 2, 'Australia': 4, 'Norway': 0, 'Vietnam': 0, 'Tanzania': 8, 'Sierra Leone': 0, 'Sri Lanka': 1, 'Maldives': 1, 'Belgium': 2, 'Rwanda': 2, 'Honduras': 2, 'Czech Republic': 0, 'Malta': 1, 'Gabon': 0, 'Laos': 1, 'Djibouti': 0, 'Austria': 2, 'Zambia': 0, 'Argentina': 0, 'Papua New Guinea': 0, 'Zimbabwe': 0, 'Ivory Coast': 3, 'Spain': 21, 'Taiwan': 0, 'Jamaica': 0, 'Albania': 0, 'Liberia': 0, 'Georgia': 0, 'Malawi': 0, 'Netherlands': 0, 'Latvia': 0}\n"
     ]
    }
   ],
   "source": [
    "import csv\n",
    "with open(\"year2017.csv\", 'r', encoding='utf-8') as f:\n",
    "    reading = csv.DictReader(f, skipinitialspace=True)\n",
    "\n",
    "    file_list = list(reading)\n",
    "country_killed = {}\n",
    "\n",
    "for row in file_list:\n",
    "    key = row['Country']\n",
    "    value = row['Killed']\n",
    "\n",
    "    if value != '':\n",
    "        value = int(float(value))\n",
    "    else:\n",
    "        value = 0\n",
    "        \n",
    "    if key in country_killed:\n",
    "        country_killed[key] += value\n",
    "    else:\n",
    "        country_killed[key] = value\n",
    "\n",
    "print(country_killed)\n",
    "\n",
    "    "
   ]
  }
 ],
 "metadata": {
  "kernelspec": {
   "display_name": "Python [conda env:base] *",
   "language": "python",
   "name": "conda-base-py"
  },
  "language_info": {
   "codemirror_mode": {
    "name": "ipython",
    "version": 3
   },
   "file_extension": ".py",
   "mimetype": "text/x-python",
   "name": "python",
   "nbconvert_exporter": "python",
   "pygments_lexer": "ipython3",
   "version": "3.13.5"
  }
 },
 "nbformat": 4,
 "nbformat_minor": 5
}
