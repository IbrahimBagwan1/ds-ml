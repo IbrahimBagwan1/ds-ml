{
 "cells": [
  {
   "cell_type": "code",
   "execution_count": 1,
   "id": "0d815964-b786-4fcd-90a3-444d47119ed0",
   "metadata": {},
   "outputs": [
    {
     "name": "stdout",
     "output_type": "stream",
     "text": [
      "50\n"
     ]
    }
   ],
   "source": [
    "def sum(a,b):\n",
    "    return a+b\n",
    "\n",
    "print(sum(45,5))"
   ]
  },
  {
   "cell_type": "code",
   "execution_count": 5,
   "id": "3b8dfc9f-1e62-41d6-a27b-64073dec370b",
   "metadata": {},
   "outputs": [
    {
     "data": {
      "text/plain": [
       "9"
      ]
     },
     "execution_count": 5,
     "metadata": {},
     "output_type": "execute_result"
    }
   ],
   "source": [
    "def change_int(n):\n",
    "    b = n*10-1+15\n",
    "    return b\n",
    "a=9\n",
    "change_int(a)\n",
    "a"
   ]
  },
  {
   "cell_type": "code",
   "execution_count": 8,
   "id": "59dcd57d-04d2-4e4a-97a2-9d1565429c18",
   "metadata": {},
   "outputs": [
    {
     "data": {
      "text/plain": [
       "[3, 2, 3]"
      ]
     },
     "execution_count": 8,
     "metadata": {},
     "output_type": "execute_result"
    }
   ],
   "source": [
    "def change_list(li):\n",
    "    li[0]= li[0]+2\n",
    "\n",
    "li = [1,2,3]\n",
    "change_list(li)\n",
    "li"
   ]
  },
  {
   "cell_type": "code",
   "execution_count": 9,
   "id": "5e66c3ee-aae7-4d52-86b4-38204f511378",
   "metadata": {},
   "outputs": [
    {
     "data": {
      "text/plain": [
       "'abc'"
      ]
     },
     "execution_count": 9,
     "metadata": {},
     "output_type": "execute_result"
    }
   ],
   "source": [
    "def change_str(sent):\n",
    "    sent = 'def'\n",
    "\n",
    "sent = 'abc'\n",
    "change_str(sent)\n",
    "sent"
   ]
  },
  {
   "cell_type": "code",
   "execution_count": 12,
   "id": "130c467e-21e3-4f70-b8af-f2f739ef50f0",
   "metadata": {},
   "outputs": [
    {
     "name": "stdout",
     "output_type": "stream",
     "text": [
      "6\n",
      "3\n"
     ]
    }
   ],
   "source": [
    "# default function parameters\n",
    "def sum(a,b,c=0):\n",
    "    return a+b+c\n",
    "\n",
    "print(sum(1,2,3))\n",
    "print(sum(1,2))"
   ]
  }
 ],
 "metadata": {
  "kernelspec": {
   "display_name": "Python [conda env:base] *",
   "language": "python",
   "name": "conda-base-py"
  },
  "language_info": {
   "codemirror_mode": {
    "name": "ipython",
    "version": 3
   },
   "file_extension": ".py",
   "mimetype": "text/x-python",
   "name": "python",
   "nbconvert_exporter": "python",
   "pygments_lexer": "ipython3",
   "version": "3.13.5"
  }
 },
 "nbformat": 4,
 "nbformat_minor": 5
}
