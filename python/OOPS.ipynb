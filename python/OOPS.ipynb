{
 "cells": [
  {
   "cell_type": "code",
   "execution_count": 2,
   "id": "9156c225-89ba-4721-9e45-e46e509b809d",
   "metadata": {},
   "outputs": [
    {
     "name": "stdout",
     "output_type": "stream",
     "text": [
      "<class 'int'>\n"
     ]
    }
   ],
   "source": [
    "a = 10\n",
    "print(type(a)) # it is of class int"
   ]
  },
  {
   "cell_type": "code",
   "execution_count": 3,
   "id": "1537fdd0-420b-4ffb-a901-cd08cb9c5c10",
   "metadata": {},
   "outputs": [
    {
     "name": "stdout",
     "output_type": "stream",
     "text": [
      "<class 'float'>\n"
     ]
    }
   ],
   "source": [
    "b = 12.22\n",
    "print(type(b)) # it is class of float"
   ]
  },
  {
   "cell_type": "code",
   "execution_count": 4,
   "id": "8e909b75-d641-41dc-b6de-9199958cd9b8",
   "metadata": {},
   "outputs": [],
   "source": [
    "class Student:\n",
    "    pass\n",
    "\n",
    "s1 = Student()\n",
    "s2 = Student()\n",
    "s3 = Student()\n",
    "   "
   ]
  },
  {
   "cell_type": "code",
   "execution_count": 7,
   "id": "686be643-faa9-4171-bb48-db293019f28b",
   "metadata": {},
   "outputs": [],
   "source": [
    "s1.name = \"Ibrahim\"\n",
    "s1.rollno = 404"
   ]
  },
  {
   "cell_type": "code",
   "execution_count": 8,
   "id": "c7ea3415-61d7-4cd9-a7fb-807834309108",
   "metadata": {},
   "outputs": [],
   "source": [
    "s2.age = 20"
   ]
  },
  {
   "cell_type": "code",
   "execution_count": 9,
   "id": "1b222e53-9bd0-456c-b19f-bcc607ca6226",
   "metadata": {},
   "outputs": [],
   "source": [
    "s3.rollno = 401"
   ]
  },
  {
   "cell_type": "code",
   "execution_count": 11,
   "id": "44158203-4b1c-4650-b978-4b18248903ad",
   "metadata": {},
   "outputs": [
    {
     "name": "stdout",
     "output_type": "stream",
     "text": [
      "{'name': 'Ibrahim', 'rollno': 404}\n",
      "{'age': 20}\n",
      "{'rollno': 401}\n"
     ]
    }
   ],
   "source": [
    "print(s1.__dict__)\n",
    "print(s2.__dict__)\n",
    "print(s3.__dict__)"
   ]
  },
  {
   "cell_type": "code",
   "execution_count": 12,
   "id": "9af133a9-7bbc-4e6d-893a-636513e6eb2b",
   "metadata": {},
   "outputs": [
    {
     "name": "stdout",
     "output_type": "stream",
     "text": [
      "{}\n"
     ]
    }
   ],
   "source": [
    "s4 = Student()\n",
    "print(s4.__dict__)"
   ]
  },
  {
   "cell_type": "code",
   "execution_count": 14,
   "id": "e97f865c-e6ae-4ac0-999e-cc929c6cf857",
   "metadata": {},
   "outputs": [
    {
     "data": {
      "text/plain": [
       "False"
      ]
     },
     "execution_count": 14,
     "metadata": {},
     "output_type": "execute_result"
    }
   ],
   "source": [
    "hasattr(s1, \"name\")\n",
    "hasattr(s2, \"name\")"
   ]
  },
  {
   "cell_type": "code",
   "execution_count": 17,
   "id": "26b59784-945c-40cc-84c2-475f90690385",
   "metadata": {},
   "outputs": [
    {
     "name": "stdout",
     "output_type": "stream",
     "text": [
      "Ibrahim\n",
      "test\n"
     ]
    }
   ],
   "source": [
    "print(getattr(s1, \"name\"))\n",
    "print(getattr(s2, \"name\", \"test\"))"
   ]
  },
  {
   "cell_type": "code",
   "execution_count": 18,
   "id": "dca6727a-e86c-45c7-9d0c-01e104b4ef6b",
   "metadata": {},
   "outputs": [
    {
     "name": "stdout",
     "output_type": "stream",
     "text": [
      "{'rollno': 404}\n"
     ]
    }
   ],
   "source": [
    "delattr(s1, \"name\")\n",
    "print(s1.__dict__)"
   ]
  },
  {
   "cell_type": "code",
   "execution_count": 19,
   "id": "3dbadbe7-c9b3-49ec-8484-1f1870067953",
   "metadata": {},
   "outputs": [
    {
     "name": "stdout",
     "output_type": "stream",
     "text": [
      "{'rollno': 404, 'name': 'Ibrahim'}\n"
     ]
    }
   ],
   "source": [
    "setattr(s1, \"name\", \"Ibrahim\")\n",
    "print(s1.__dict__)"
   ]
  },
  {
   "cell_type": "code",
   "execution_count": 20,
   "id": "5031b3a3-03a3-4acb-acf6-37426065cae6",
   "metadata": {},
   "outputs": [
    {
     "name": "stdout",
     "output_type": "stream",
     "text": [
      "{'__module__': '__main__', '__firstlineno__': 1, '__static_attributes__': (), '__dict__': <attribute '__dict__' of 'Student' objects>, '__weakref__': <attribute '__weakref__' of 'Student' objects>, '__doc__': None, 'totalStudents': 40}\n"
     ]
    }
   ],
   "source": [
    "Student.totalStudents = 40\n",
    "print(Student.__dict__)"
   ]
  },
  {
   "cell_type": "code",
   "execution_count": 21,
   "id": "a6fcf77b-a34e-4113-ba68-4f7f0a2f33a2",
   "metadata": {},
   "outputs": [
    {
     "name": "stdout",
     "output_type": "stream",
     "text": [
      "{'__module__': '__main__', '__firstlineno__': 1, 'totalStudents': 20, 'classTeacherName': 'Komal', '__static_attributes__': (), '__dict__': <attribute '__dict__' of 'Student' objects>, '__weakref__': <attribute '__weakref__' of 'Student' objects>, '__doc__': None}\n"
     ]
    }
   ],
   "source": [
    "class Student:\n",
    "    # class attributes\n",
    "    totalStudents = 20\n",
    "    classTeacherName = \"Komal\"\n",
    "\n",
    "print(Student.__dict__)"
   ]
  },
  {
   "cell_type": "code",
   "execution_count": 22,
   "id": "f11a98f5-87f0-4b96-b32f-944919790f0c",
   "metadata": {},
   "outputs": [],
   "source": [
    "s1 = Student()\n",
    "s2 = Student()"
   ]
  },
  {
   "cell_type": "code",
   "execution_count": 23,
   "id": "9399b931-64bf-46b7-be0f-b5940fa23c23",
   "metadata": {},
   "outputs": [
    {
     "name": "stdout",
     "output_type": "stream",
     "text": [
      "{}\n",
      "{}\n"
     ]
    }
   ],
   "source": [
    "print(s1.__dict__)\n",
    "print(s2.__dict__)"
   ]
  },
  {
   "cell_type": "code",
   "execution_count": 25,
   "id": "3d31675d-5dd6-4723-83b1-ef733ec7e497",
   "metadata": {},
   "outputs": [
    {
     "name": "stdout",
     "output_type": "stream",
     "text": [
      "20\n",
      "20\n",
      "20\n"
     ]
    }
   ],
   "source": [
    "print(Student.totalStudents)\n",
    "print(s1.totalStudents)\n",
    "print(s2.totalStudents)"
   ]
  },
  {
   "cell_type": "code",
   "execution_count": 26,
   "id": "324ea1fe-f907-49b8-8179-e4e9079c9a82",
   "metadata": {},
   "outputs": [
    {
     "name": "stdout",
     "output_type": "stream",
     "text": [
      "{}\n",
      "{}\n"
     ]
    }
   ],
   "source": [
    "print(s1.__dict__)\n",
    "print(s2.__dict__)"
   ]
  },
  {
   "cell_type": "code",
   "execution_count": 27,
   "id": "38c552ce-2c09-422d-8e34-c26b9bf2f420",
   "metadata": {},
   "outputs": [
    {
     "name": "stdout",
     "output_type": "stream",
     "text": [
      "30\n",
      "30\n",
      "30\n"
     ]
    }
   ],
   "source": [
    "Student.totalStudents = 30\n",
    "print(Student.totalStudents)\n",
    "print(s1.totalStudents)\n",
    "print(s2.totalStudents)"
   ]
  },
  {
   "cell_type": "code",
   "execution_count": 28,
   "id": "b32ca4c8-20c8-47a8-98b3-9cf7a03307e9",
   "metadata": {},
   "outputs": [
    {
     "name": "stdout",
     "output_type": "stream",
     "text": [
      "30\n",
      "40\n",
      "30\n"
     ]
    }
   ],
   "source": [
    "s1.totalStudents = 40\n",
    "print(Student.totalStudents)\n",
    "print(s1.totalStudents)\n",
    "print(s2.totalStudents)"
   ]
  },
  {
   "cell_type": "code",
   "execution_count": 30,
   "id": "94f9ddc5-2522-42c6-b1c8-c33a92fdc2ac",
   "metadata": {},
   "outputs": [
    {
     "name": "stdout",
     "output_type": "stream",
     "text": [
      "{'totalStudents': 40}\n",
      "{}\n"
     ]
    }
   ],
   "source": [
    "print(s1.__dict__) # the class instance is now stored as object instance with the updated value\n",
    "print(s2.__dict__)"
   ]
  },
  {
   "cell_type": "code",
   "execution_count": 89,
   "id": "10cc7049-e5e3-4358-9921-18a1f8ee643a",
   "metadata": {},
   "outputs": [],
   "source": [
    "class Student:\n",
    "    # class attributes\n",
    "    __totalStudents = 20\n",
    "    classTeacherName = \"Komal\"\n",
    "\n",
    "    @classmethod\n",
    "    def getTotalStudents(cls):\n",
    "        return Student.__totalStudents\n",
    "    \n",
    "    def __init__(self, name, rn, age =20):\n",
    "        self.__name = name\n",
    "        self.age = age\n",
    "        self.rollno = rn\n",
    "    \n",
    "    # instance Methods\n",
    "    def getName(self):\n",
    "        return self.__name\n",
    "    \n",
    "    def printHello(self):\n",
    "        print(\"Hello\")\n",
    "        \n",
    "    def printm(self, str):\n",
    "        print(\"Hi,\", str)\n",
    "\n",
    "    def addName(self, name, password):\n",
    "        if password != 121 : \n",
    "            return \n",
    "        if name == '' : \n",
    "            return \n",
    "        self.__name = name\n",
    "\n",
    "    def printName(self):\n",
    "        print(self.__name)\n",
    "        \n",
    "s1 = Student(\"Ibrahim \", 16, 20)\n",
    "s2 = Student(\"Kamran\",  18, 20)\n",
    "s3 = Student(\"Manjunath\",  23 )"
   ]
  },
  {
   "cell_type": "code",
   "execution_count": 92,
   "id": "fa92dde7-5ceb-48b9-9f90-7fb8911220e9",
   "metadata": {},
   "outputs": [
    {
     "data": {
      "text/plain": [
       "20"
      ]
     },
     "execution_count": 92,
     "metadata": {},
     "output_type": "execute_result"
    }
   ],
   "source": [
    "Student.getTotalStudents()\n"
   ]
  },
  {
   "cell_type": "code",
   "execution_count": 93,
   "id": "98185211-7ace-4465-967e-d56a962d7175",
   "metadata": {},
   "outputs": [],
   "source": [
    "s1.addName(\"ibr\", 121)"
   ]
  },
  {
   "cell_type": "code",
   "execution_count": 94,
   "id": "aa19ce9a-cd31-40e9-955d-6d6400449d12",
   "metadata": {},
   "outputs": [
    {
     "name": "stdout",
     "output_type": "stream",
     "text": [
      "ibr\n"
     ]
    }
   ],
   "source": [
    "print(s1._Student__name)"
   ]
  },
  {
   "cell_type": "code",
   "execution_count": 95,
   "id": "08266352-bbf3-4a62-89d1-301e199d7780",
   "metadata": {},
   "outputs": [
    {
     "name": "stdout",
     "output_type": "stream",
     "text": [
      "{'_Student__name': 'ibr', 'age': 20, 'rollno': 16}\n",
      "{'_Student__name': 'Kamran', 'age': 20, 'rollno': 18}\n",
      "{'_Student__name': 'Manjunath', 'age': 20, 'rollno': 23}\n",
      "ibr\n"
     ]
    }
   ],
   "source": [
    "print(s1.__dict__)\n",
    "print(s2.__dict__)\n",
    "print(s3.__dict__)\n",
    "print(s1.getName())"
   ]
  },
  {
   "cell_type": "code",
   "execution_count": 96,
   "id": "1b771b42-1aab-4d0e-9611-a675dd6502da",
   "metadata": {},
   "outputs": [],
   "source": [
    "s1.name = \"Ibrahim\""
   ]
  },
  {
   "cell_type": "code",
   "execution_count": 97,
   "id": "3751c78d-0f57-4f31-b9ba-f4b2eca325a6",
   "metadata": {},
   "outputs": [
    {
     "name": "stdout",
     "output_type": "stream",
     "text": [
      "ibr\n"
     ]
    }
   ],
   "source": [
    "s1.printName()"
   ]
  },
  {
   "cell_type": "code",
   "execution_count": 98,
   "id": "cab49873-3633-47e8-986d-8302509d7875",
   "metadata": {},
   "outputs": [
    {
     "name": "stdout",
     "output_type": "stream",
     "text": [
      "Hello\n",
      "Hi, Ibrahim\n"
     ]
    }
   ],
   "source": [
    "s1.printHello()\n",
    "s1.printm(s1.name)"
   ]
  }
 ],
 "metadata": {
  "kernelspec": {
   "display_name": "Python [conda env:base] *",
   "language": "python",
   "name": "conda-base-py"
  },
  "language_info": {
   "codemirror_mode": {
    "name": "ipython",
    "version": 3
   },
   "file_extension": ".py",
   "mimetype": "text/x-python",
   "name": "python",
   "nbconvert_exporter": "python",
   "pygments_lexer": "ipython3",
   "version": "3.13.5"
  }
 },
 "nbformat": 4,
 "nbformat_minor": 5
}
