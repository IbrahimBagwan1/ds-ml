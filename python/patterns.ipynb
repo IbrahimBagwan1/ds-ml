{
 "cells": [
  {
   "cell_type": "code",
   "execution_count": 7,
   "id": "b767d95a-1450-4669-ac8e-38c177218228",
   "metadata": {},
   "outputs": [
    {
     "name": "stdout",
     "output_type": "stream",
     "text": [
      "*\n",
      "**\n",
      "***\n"
     ]
    }
   ],
   "source": [
    "# Trangular Pattern\n",
    "\n",
    "for i in range(3):\n",
    "    for j in range(3):\n",
    "        if j<=i:\n",
    "            print(\"*\", end=\"\")\n",
    "    print()"
   ]
  },
  {
   "cell_type": "code",
   "execution_count": 10,
   "id": "dc9ad198-fef7-4f69-989f-b8bebc74dc38",
   "metadata": {},
   "outputs": [
    {
     "name": "stdin",
     "output_type": "stream",
     "text": [
      "Enter the Number:  5\n"
     ]
    },
    {
     "name": "stdout",
     "output_type": "stream",
     "text": [
      "1\n",
      "23\n",
      "345\n",
      "4567\n",
      "56789\n"
     ]
    }
   ],
   "source": [
    "# Pattern 2\n",
    "\n",
    "num = int(input(\"Enter the Number: \"))\n",
    "i=1\n",
    "while(i <= num):\n",
    "    j = 1\n",
    "    p = i\n",
    "    while(j<=i):\n",
    "        print(p, end=\"\")\n",
    "        j=j+1\n",
    "        p=p+1\n",
    "    i=i+1\n",
    "    print()"
   ]
  },
  {
   "cell_type": "code",
   "execution_count": 28,
   "id": "681432c8-1092-4964-8268-a6876571c53b",
   "metadata": {},
   "outputs": [
    {
     "name": "stdin",
     "output_type": "stream",
     "text": [
      "Enter the Number:  4\n"
     ]
    },
    {
     "name": "stdout",
     "output_type": "stream",
     "text": [
      "ABCD\n",
      "ABCD\n",
      "ABCD\n",
      "ABCD\n"
     ]
    }
   ],
   "source": [
    "\n",
    "k = int(input(\"Enter the Number: \"))\n",
    "\n",
    "x = ord('A')\n",
    "intNum = x +k -1\n",
    "charNum = chr(intNum)\n",
    "charNum\n",
    "\n",
    "for i in range(1,k+1):\n",
    "    for j in range(1,k+1):\n",
    "        print(chr(x+j-1), end=\"\")\n",
    "    print()"
   ]
  },
  {
   "cell_type": "code",
   "execution_count": null,
   "id": "a4f7ea47-b969-4854-81dc-c59ea56aaf02",
   "metadata": {},
   "outputs": [],
   "source": []
  }
 ],
 "metadata": {
  "kernelspec": {
   "display_name": "Python [conda env:base] *",
   "language": "python",
   "name": "conda-base-py"
  },
  "language_info": {
   "codemirror_mode": {
    "name": "ipython",
    "version": 3
   },
   "file_extension": ".py",
   "mimetype": "text/x-python",
   "name": "python",
   "nbconvert_exporter": "python",
   "pygments_lexer": "ipython3",
   "version": "3.13.5"
  }
 },
 "nbformat": 4,
 "nbformat_minor": 5
}
