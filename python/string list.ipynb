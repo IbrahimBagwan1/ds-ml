{
 "cells": [
  {
   "cell_type": "code",
   "execution_count": 64,
   "id": "a87cf589-9306-48aa-85e9-6721881425ee",
   "metadata": {},
   "outputs": [],
   "source": [
    "import string\n"
   ]
  },
  {
   "cell_type": "code",
   "execution_count": 65,
   "id": "7086a848-589a-40d2-974a-64ebdcb89599",
   "metadata": {},
   "outputs": [
    {
     "name": "stdout",
     "output_type": "stream",
     "text": [
      "Ibrahim\n",
      "<class 'str'>\n",
      "<class 'str'>\n",
      "r\n"
     ]
    }
   ],
   "source": [
    "s = \"Ibrahim\"\n",
    "print(s)\n",
    "a = 'a'\n",
    "print(type(s))\n",
    "print(type(a))\n",
    "print(s[2])"
   ]
  },
  {
   "cell_type": "code",
   "execution_count": 66,
   "id": "63a93db2-78c4-4a76-9c19-d724ba2cae6d",
   "metadata": {},
   "outputs": [
    {
     "name": "stdout",
     "output_type": "stream",
     "text": [
      "I\n",
      "b\n",
      "r\n",
      "a\n",
      "h\n",
      "i\n",
      "m\n"
     ]
    }
   ],
   "source": [
    "for i in range(len(s)):\n",
    "    print(s[i])"
   ]
  },
  {
   "cell_type": "code",
   "execution_count": 67,
   "id": "cac7ab2c-73d6-4f5f-84dd-e4e0ea29b2e4",
   "metadata": {},
   "outputs": [
    {
     "name": "stdout",
     "output_type": "stream",
     "text": [
      "[7, 6]\n"
     ]
    }
   ],
   "source": [
    "names = [\"ibrahim\", \"maryam\"]\n",
    "length = [len(name) for name in names]\n",
    "print(length)\n",
    "# anything can be written in this language..."
   ]
  },
  {
   "cell_type": "code",
   "execution_count": 68,
   "id": "7ba26c33-d2fc-48f8-a190-64e701e4cec0",
   "metadata": {},
   "outputs": [],
   "source": [
    "# string slicing : it can done using indexing as done above, we can access as element of arrays."
   ]
  },
  {
   "cell_type": "code",
   "execution_count": 69,
   "id": "6204a883-a5c7-4f0b-8538-104535e6ed61",
   "metadata": {},
   "outputs": [
    {
     "name": "stdout",
     "output_type": "stream",
     "text": [
      " this is Ibrahim's Pen\n",
      "<class 'str'>\n",
      "this is Ibrahim's Pen\n",
      "both we can do\n"
     ]
    }
   ],
   "source": [
    "pen = \" this is Ibrahim's Pen\"\n",
    "print(pen)\n",
    "print(type(pen))\n",
    "\n",
    "pen2 = 'this is Ibrahim\\'s Pen'\n",
    "print(pen2)\n",
    "\n",
    "print(\"both we can do\")"
   ]
  },
  {
   "cell_type": "code",
   "execution_count": 70,
   "id": "f38cbda2-7dbd-4ac0-bc16-846da40a61c3",
   "metadata": {},
   "outputs": [
    {
     "data": {
      "text/plain": [
       "['this', 'is', 'a', 'list']"
      ]
     },
     "execution_count": 70,
     "metadata": {},
     "output_type": "execute_result"
    }
   ],
   "source": [
    "a = \"this is a list\"\n",
    "a.split()"
   ]
  },
  {
   "cell_type": "code",
   "execution_count": 71,
   "id": "96663997-5622-414a-aba8-17afb8e1e033",
   "metadata": {},
   "outputs": [
    {
     "data": {
      "text/plain": [
       "['helping ', ' good nature']"
      ]
     },
     "execution_count": 71,
     "metadata": {},
     "output_type": "execute_result"
    }
   ],
   "source": [
    "good = \"helping is good nature\"\n",
    "good.split('is')\n"
   ]
  },
  {
   "cell_type": "code",
   "execution_count": 72,
   "id": "ce507656-03ce-4ced-bced-6dc5c590b79b",
   "metadata": {},
   "outputs": [
    {
     "data": {
      "text/plain": [
       "'is is a Pen'"
      ]
     },
     "execution_count": 72,
     "metadata": {},
     "output_type": "execute_result"
    }
   ],
   "source": [
    "# string slicing\n",
    "string = \"this is a Pen\"\n",
    "string[2:]"
   ]
  },
  {
   "cell_type": "code",
   "execution_count": 73,
   "id": "3cfee8b4-5171-4b9d-9d8c-f6804b207813",
   "metadata": {},
   "outputs": [
    {
     "data": {
      "text/plain": [
       "'this is a Pen'"
      ]
     },
     "execution_count": 73,
     "metadata": {},
     "output_type": "execute_result"
    }
   ],
   "source": [
    "string[:]"
   ]
  },
  {
   "cell_type": "code",
   "execution_count": 74,
   "id": "b7b7519f-a1df-4fb6-a920-622fa3b071d6",
   "metadata": {},
   "outputs": [
    {
     "data": {
      "text/plain": [
       "'i sa'"
      ]
     },
     "execution_count": 74,
     "metadata": {},
     "output_type": "execute_result"
    }
   ],
   "source": [
    "string[2:9:2]"
   ]
  },
  {
   "cell_type": "code",
   "execution_count": 75,
   "id": "c06c329e-0dad-45eb-b1d1-701fc269c370",
   "metadata": {},
   "outputs": [
    {
     "data": {
      "text/plain": [
       "'s is a Pe'"
      ]
     },
     "execution_count": 75,
     "metadata": {},
     "output_type": "execute_result"
    }
   ],
   "source": [
    "string[3:-1]"
   ]
  },
  {
   "cell_type": "code",
   "execution_count": 76,
   "id": "d9547e2d-d1ad-4c17-81dc-6f520a3dff28",
   "metadata": {},
   "outputs": [
    {
     "data": {
      "text/plain": [
       "'P'"
      ]
     },
     "execution_count": 76,
     "metadata": {},
     "output_type": "execute_result"
    }
   ],
   "source": [
    "string[-3:-2]"
   ]
  },
  {
   "cell_type": "code",
   "execution_count": 77,
   "id": "32b0b2f8-debb-48d3-8372-77f099b48d96",
   "metadata": {},
   "outputs": [
    {
     "name": "stdin",
     "output_type": "stream",
     "text": [
      "Enter the Sentence:  asdf\n"
     ]
    },
    {
     "name": "stdout",
     "output_type": "stream",
     "text": [
      "No change\n"
     ]
    }
   ],
   "source": [
    "# using the find inbuilt function\n",
    "\n",
    "sent = input(\"Enter the Sentence: \")\n",
    "a = 'x'\n",
    "b = 'y'\n",
    "p = sent.find(a)\n",
    "if p != -1:\n",
    "    ans = sent[:p] + b + sent[p+1:]\n",
    "    print(ans)\n",
    "else : print(\"No change\")"
   ]
  },
  {
   "cell_type": "code",
   "execution_count": 78,
   "id": "13fc6759-6872-418e-9ecb-9aee196d552d",
   "metadata": {},
   "outputs": [
    {
     "name": "stdin",
     "output_type": "stream",
     "text": [
      "Enter the Sentence:  dfasx\n"
     ]
    },
    {
     "name": "stdout",
     "output_type": "stream",
     "text": [
      "dfasy\n"
     ]
    }
   ],
   "source": [
    "# using the find inbuilt function\n",
    "\n",
    "sent = input(\"Enter the Sentence: \")\n",
    "a = 'x'\n",
    "b = 'y'\n",
    "# ans\n",
    "for i in range(len(sent)):\n",
    "    if sent[i] == a:\n",
    "        ans = sent[:i] + b + sent[i+1:] \n",
    "        sent = ans\n",
    "print(ans)"
   ]
  },
  {
   "cell_type": "code",
   "execution_count": 79,
   "id": "a0112051-e9da-41f3-b6fd-f501f8a128e3",
   "metadata": {},
   "outputs": [
    {
     "name": "stdout",
     "output_type": "stream",
     "text": [
      "abc\n",
      "ab\n",
      "ac\n",
      "a\n",
      "bc\n",
      "b\n",
      "c\n",
      "\n"
     ]
    }
   ],
   "source": [
    "# printing substring of a string \n",
    "def substr( a, ans, idx):\n",
    "    if idx==len(a):\n",
    "        print(ans)\n",
    "        return\n",
    "    substr(a,ans+ a[idx], idx+1)\n",
    "    substr(a,ans, idx+1)\n",
    "\n",
    "if __name__ == \"__main__\": \n",
    "    s = 'abc'\n",
    "    substr(s,\"\", 0)\n"
   ]
  },
  {
   "cell_type": "markdown",
   "id": "e3b21902-5901-4819-a275-dc82e6c5dd0f",
   "metadata": {},
   "source": [
    "## List"
   ]
  },
  {
   "cell_type": "code",
   "execution_count": null,
   "id": "4d1b2e9f-38a9-477a-bcbb-97475d5e468a",
   "metadata": {},
   "outputs": [],
   "source": [
    "# List\n",
    "a = list([1,2,3,4])\n",
    "print(a)"
   ]
  },
  {
   "cell_type": "code",
   "execution_count": 81,
   "id": "81d2fa0a-e4d8-487a-be42-dd795b4dba8b",
   "metadata": {},
   "outputs": [
    {
     "name": "stdout",
     "output_type": "stream",
     "text": [
      "<class 'list'>\n",
      "[1, 2, 3, 4]\n"
     ]
    }
   ],
   "source": [
    "a = [1,2,3,4]\n",
    "print(type(a))\n",
    "print(a)"
   ]
  },
  {
   "cell_type": "code",
   "execution_count": 82,
   "id": "ae4d6ff7-6a67-44dd-82f0-04d0c175e530",
   "metadata": {},
   "outputs": [
    {
     "data": {
      "text/plain": [
       "[0, 0, 0, 0, 0, 0, 0, 0, 0, 0]"
      ]
     },
     "execution_count": 82,
     "metadata": {},
     "output_type": "execute_result"
    }
   ],
   "source": [
    "a = [0 for i in range(10)]\n",
    "a"
   ]
  },
  {
   "cell_type": "code",
   "execution_count": 83,
   "id": "0c72339c-650c-40fa-b753-fd0cd294b1eb",
   "metadata": {},
   "outputs": [
    {
     "data": {
      "text/plain": [
       "[1, 4, 9, 16, 25, 36, 49, 64, 81, 100]"
      ]
     },
     "execution_count": 83,
     "metadata": {},
     "output_type": "execute_result"
    }
   ],
   "source": [
    "b = [i*i for i in range(1,11)]\n",
    "b"
   ]
  },
  {
   "cell_type": "code",
   "execution_count": 84,
   "id": "2184ff8e-e300-4e16-a857-ff84a6eb932c",
   "metadata": {},
   "outputs": [
    {
     "name": "stdout",
     "output_type": "stream",
     "text": [
      "[1, 2, 3, 4, 5, 6, 2, 1]\n",
      "8\n"
     ]
    },
    {
     "data": {
      "text/plain": [
       "[2, 3, 4, 5]"
      ]
     },
     "execution_count": 84,
     "metadata": {},
     "output_type": "execute_result"
    }
   ],
   "source": [
    "list1 = [1,2,3,4]\n",
    "list2 = [5,6,2,1]\n",
    "print(list1+list2)\n",
    "print(len(list1) + len(list2))\n",
    "for i in range(len(list1)):\n",
    "    list1[i] =  list1[i]+1\n",
    "list1"
   ]
  },
  {
   "cell_type": "code",
   "execution_count": 85,
   "id": "58a9063b-a22a-44e6-b96a-b3dc33676813",
   "metadata": {},
   "outputs": [
    {
     "data": {
      "text/plain": [
       "[2, 3, 4, 55, 5, 100]"
      ]
     },
     "execution_count": 85,
     "metadata": {},
     "output_type": "execute_result"
    }
   ],
   "source": [
    "list1.append(100)\n",
    "list1.insert(3,55)\n",
    "list1"
   ]
  },
  {
   "cell_type": "code",
   "execution_count": 86,
   "id": "ab1e1500-6a25-439f-a72e-0d063b210c3f",
   "metadata": {},
   "outputs": [
    {
     "data": {
      "text/plain": [
       "[5, 6, 2, 1, 2, 3, 4, 55, 5, 100]"
      ]
     },
     "execution_count": 86,
     "metadata": {},
     "output_type": "execute_result"
    }
   ],
   "source": [
    "list2.extend(list1)\n",
    "list2"
   ]
  },
  {
   "cell_type": "code",
   "execution_count": 93,
   "id": "32ca11ff-a460-4141-86c9-06e8270427c0",
   "metadata": {},
   "outputs": [
    {
     "data": {
      "text/plain": [
       "[5]"
      ]
     },
     "execution_count": 93,
     "metadata": {},
     "output_type": "execute_result"
    }
   ],
   "source": [
    "list2.pop()\n",
    "list2.remove(2)\n",
    "list2"
   ]
  },
  {
   "cell_type": "code",
   "execution_count": 94,
   "id": "7c7b17a3-c484-4f38-b655-906500f1d3a9",
   "metadata": {},
   "outputs": [
    {
     "data": {
      "text/plain": [
       "[]"
      ]
     },
     "execution_count": 94,
     "metadata": {},
     "output_type": "execute_result"
    }
   ],
   "source": [
    "list2.pop(0)\n",
    "list2"
   ]
  },
  {
   "cell_type": "code",
   "execution_count": 101,
   "id": "79485003-cee4-4382-bd35-06316b95820f",
   "metadata": {},
   "outputs": [
    {
     "data": {
      "text/plain": [
       "[3]"
      ]
     },
     "execution_count": 101,
     "metadata": {},
     "output_type": "execute_result"
    }
   ],
   "source": [
    "del(list1[0])\n",
    "list1"
   ]
  },
  {
   "cell_type": "code",
   "execution_count": 103,
   "id": "6ca8f8d1-9d11-437b-9f28-4f62cc6148ae",
   "metadata": {},
   "outputs": [
    {
     "data": {
      "text/plain": [
       "[1, 2, 3, 4, 5]"
      ]
     },
     "execution_count": 103,
     "metadata": {},
     "output_type": "execute_result"
    }
   ],
   "source": [
    "li = [5,4,3,2,1]\n",
    "li.sort()\n",
    "li"
   ]
  },
  {
   "cell_type": "code",
   "execution_count": 104,
   "id": "d968c38e-ff71-4680-a9c5-681267482362",
   "metadata": {},
   "outputs": [
    {
     "data": {
      "text/plain": [
       "5"
      ]
     },
     "execution_count": 104,
     "metadata": {},
     "output_type": "execute_result"
    }
   ],
   "source": [
    "max(li)"
   ]
  },
  {
   "cell_type": "code",
   "execution_count": 109,
   "id": "60228d34-3ccf-4458-8fc7-5d9519c1f894",
   "metadata": {},
   "outputs": [
    {
     "data": {
      "text/plain": [
       "1"
      ]
     },
     "execution_count": 109,
     "metadata": {},
     "output_type": "execute_result"
    }
   ],
   "source": [
    "li[0]"
   ]
  },
  {
   "cell_type": "code",
   "execution_count": 110,
   "id": "1765e588-0037-469f-876c-491abfecb0ec",
   "metadata": {},
   "outputs": [
    {
     "data": {
      "text/plain": [
       "0"
      ]
     },
     "execution_count": 110,
     "metadata": {},
     "output_type": "execute_result"
    }
   ],
   "source": [
    "li.index(1)"
   ]
  },
  {
   "cell_type": "code",
   "execution_count": 6,
   "id": "b6da37bb-d60d-4658-8ab9-605b8df7222a",
   "metadata": {},
   "outputs": [
    {
     "name": "stdin",
     "output_type": "stream",
     "text": [
      "Enter the Number of Elements:  5\n"
     ]
    },
    {
     "name": "stdout",
     "output_type": "stream",
     "text": [
      "Enter the Element 1 :"
     ]
    },
    {
     "name": "stdin",
     "output_type": "stream",
     "text": [
      " 5\n"
     ]
    },
    {
     "name": "stdout",
     "output_type": "stream",
     "text": [
      "Enter the Element 2 :"
     ]
    },
    {
     "name": "stdin",
     "output_type": "stream",
     "text": [
      " 4\n"
     ]
    },
    {
     "name": "stdout",
     "output_type": "stream",
     "text": [
      "Enter the Element 3 :"
     ]
    },
    {
     "name": "stdin",
     "output_type": "stream",
     "text": [
      " 3\n"
     ]
    },
    {
     "name": "stdout",
     "output_type": "stream",
     "text": [
      "Enter the Element 4 :"
     ]
    },
    {
     "name": "stdin",
     "output_type": "stream",
     "text": [
      " 2\n"
     ]
    },
    {
     "name": "stdout",
     "output_type": "stream",
     "text": [
      "Enter the Element 5 :"
     ]
    },
    {
     "name": "stdin",
     "output_type": "stream",
     "text": [
      " 1\n"
     ]
    },
    {
     "name": "stdout",
     "output_type": "stream",
     "text": [
      "[5, 4, 3, 2, 1]\n",
      "[1, 2, 3, 4, 5]\n"
     ]
    }
   ],
   "source": [
    "# taking input for list\n",
    "n = int(input(\"Enter the Number of Elements: \"))\n",
    "li = []\n",
    "for i in range(n):\n",
    "    print(\"Enter the Element\",i+1,\":\", end=\"\")\n",
    "    ele = int(input())\n",
    "    li.append(ele)\n",
    "print(li)\n",
    "li.sort()\n",
    "print(li)"
   ]
  },
  {
   "cell_type": "code",
   "execution_count": 8,
   "id": "05131596-a232-4a88-adca-76f28efd5335",
   "metadata": {},
   "outputs": [
    {
     "name": "stdin",
     "output_type": "stream",
     "text": [
      " 3 2 1 5 2 1\n"
     ]
    },
    {
     "data": {
      "text/plain": [
       "[3, 2, 1, 5, 2, 1]"
      ]
     },
     "execution_count": 8,
     "metadata": {},
     "output_type": "execute_result"
    }
   ],
   "source": [
    "l = [int(s) for s in input().split()]\n",
    "l\n"
   ]
  },
  {
   "cell_type": "code",
   "execution_count": 10,
   "id": "812a98cb-d11b-4de0-8ecb-9caf677914c1",
   "metadata": {},
   "outputs": [],
   "source": [
    "# list slicing is somewhat same as string slicing\n"
   ]
  },
  {
   "cell_type": "code",
   "execution_count": 13,
   "id": "355be013-a3df-4aee-8d30-5c5f6accfd20",
   "metadata": {},
   "outputs": [
    {
     "name": "stdout",
     "output_type": "stream",
     "text": [
      "2\n",
      "3\n"
     ]
    }
   ],
   "source": [
    "# 2D List\n",
    "li2 = [[1,2,3],[5,6,7]]\n",
    "print(len(li2))\n",
    "print(len(li2[0]))"
   ]
  },
  {
   "cell_type": "code",
   "execution_count": 5,
   "id": "38998a7e-8461-451e-b17f-f638687b8d47",
   "metadata": {},
   "outputs": [
    {
     "name": "stdin",
     "output_type": "stream",
     "text": [
      " 3 3\n",
      " 1 1 1\n",
      " 1 1 1\n",
      " 1 1 1\n"
     ]
    },
    {
     "name": "stdout",
     "output_type": "stream",
     "text": [
      "[[1, 1, 1], [1, 1, 1], [1, 1, 1]]\n"
     ]
    }
   ],
   "source": [
    "size = input().split()\n",
    "m = int(size[0])\n",
    "n = int(size[1])\n",
    "li = []\n",
    "for i in range(m):\n",
    "    next_row = [int(i) for i in input().split()]\n",
    "    if(len(next_row)!=n):\n",
    "        print(\"Invalid Length Row Input Given, Re-enter it: \");\n",
    "        break\n",
    "    else: li.append(next_row);\n",
    "\n",
    "print(li)"
   ]
  },
  {
   "cell_type": "code",
   "execution_count": 16,
   "id": "52c0b2ec-d057-452d-865e-c81545f8676f",
   "metadata": {},
   "outputs": [
    {
     "name": "stdin",
     "output_type": "stream",
     "text": [
      " 4 4\n"
     ]
    },
    {
     "name": "stdout",
     "output_type": "stream",
     "text": [
      "[[0, 1, 2, 3], [4, 5, 6, 7], [8, 9, 10, 11], [12, 13, 14, 15]]\n"
     ]
    }
   ],
   "source": [
    "sizes = input().split()\n",
    "m = int(sizes[0])\n",
    "n = int(sizes[1])\n",
    "l_ld = [int(i) for i in range(m*n)]\n",
    "li=[]\n",
    "for i in range(m):\n",
    "    startIdx = n*i\n",
    "    endIdx = n * (i+1)\n",
    "    next_row = l_ld[startIdx:endIdx]\n",
    "    li.append(next_row)\n",
    "    \n",
    "print(li)"
   ]
  },
  {
   "cell_type": "code",
   "execution_count": 32,
   "id": "6b854276-e953-466f-adf3-dd1ec2609333",
   "metadata": {},
   "outputs": [
    {
     "data": {
      "text/plain": [
       "[[0, 1, 2, 3, 4, 5, 6, 7, 8, 9],\n",
       " [0, 1, 2, 3, 4, 5, 6, 7, 8, 9],\n",
       " [0, 1, 2, 3, 4, 5, 6, 7, 8, 9],\n",
       " [0, 1, 2, 3, 4, 5, 6, 7, 8, 9],\n",
       " [0, 1, 2, 3, 4, 5, 6, 7, 8, 9],\n",
       " [0, 1, 2, 3, 4, 5, 6, 7, 8, 9],\n",
       " [0, 1, 2, 3, 4, 5, 6, 7, 8, 9],\n",
       " [0, 1, 2, 3, 4, 5, 6, 7, 8, 9],\n",
       " [0, 1, 2, 3, 4, 5, 6, 7, 8, 9],\n",
       " [0, 1, 2, 3, 4, 5, 6, 7, 8, 9]]"
      ]
     },
     "execution_count": 32,
     "metadata": {},
     "output_type": "execute_result"
    }
   ],
   "source": [
    "a = [[j for j in range(10)] for i in range(10)]\n",
    "a"
   ]
  },
  {
   "cell_type": "code",
   "execution_count": 33,
   "id": "a2a0d177-e7c8-4915-8186-a88cd0eb2132",
   "metadata": {},
   "outputs": [
    {
     "data": {
      "text/plain": [
       "[0, 10, 20, 30, 40, 50, 60, 70, 80, 90]"
      ]
     },
     "execution_count": 33,
     "metadata": {},
     "output_type": "execute_result"
    }
   ],
   "source": [
    "listt = []\n",
    "for i in range(10):\n",
    "    sum =0;\n",
    "    for j in range(10):\n",
    "        sum = sum+ a[j][i]\n",
    "    listt.append(sum)        \n",
    "listt"
   ]
  },
  {
   "cell_type": "code",
   "execution_count": null,
   "id": "1c0e1435-bb2b-4d0b-a4f2-316709bc2e17",
   "metadata": {},
   "outputs": [],
   "source": []
  }
 ],
 "metadata": {
  "kernelspec": {
   "display_name": "Python [conda env:base] *",
   "language": "python",
   "name": "conda-base-py"
  },
  "language_info": {
   "codemirror_mode": {
    "name": "ipython",
    "version": 3
   },
   "file_extension": ".py",
   "mimetype": "text/x-python",
   "name": "python",
   "nbconvert_exporter": "python",
   "pygments_lexer": "ipython3",
   "version": "3.13.5"
  }
 },
 "nbformat": 4,
 "nbformat_minor": 5
}
