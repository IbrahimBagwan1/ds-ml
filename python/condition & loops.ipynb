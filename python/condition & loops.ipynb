{
 "cells": [
  {
   "cell_type": "code",
   "execution_count": 1,
   "id": "ff0516d9-ce50-4854-8980-152032c31080",
   "metadata": {},
   "outputs": [
    {
     "name": "stdout",
     "output_type": "stream",
     "text": [
      "False\n",
      "True\n",
      "True\n"
     ]
    }
   ],
   "source": [
    "# boolean\n",
    "ans = True\n",
    "nums = False\n",
    "\n",
    "print(ans and nums)\n",
    "print(ans or nums)\n",
    "print(not(ans and nums))"
   ]
  },
  {
   "cell_type": "code",
   "execution_count": 2,
   "id": "37d790cd-0ebc-4499-a912-5a564fa4b88d",
   "metadata": {},
   "outputs": [
    {
     "name": "stdout",
     "output_type": "stream",
     "text": [
      "You cannot Apply for a Driving Licencse\n"
     ]
    }
   ],
   "source": [
    "# if else\n",
    "a = 17\n",
    "if(a>=18 and a<=62):\n",
    "    print(\"You can Apply for a Driving License\")\n",
    "else:\n",
    "    print(\"You cannot Apply for a Driving Licencse\")"
   ]
  },
  {
   "cell_type": "code",
   "execution_count": 3,
   "id": "0cfb1749-f340-4c0f-92c4-b41e1afdcb7e",
   "metadata": {},
   "outputs": [
    {
     "name": "stdin",
     "output_type": "stream",
     "text": [
      "Enter the Number:  5\n"
     ]
    },
    {
     "name": "stdout",
     "output_type": "stream",
     "text": [
      "5\n",
      "4\n",
      "3\n",
      "2\n",
      "1\n"
     ]
    }
   ],
   "source": [
    "# while loop\n",
    "iterate = int(input(\"Enter the Number: \"))\n",
    "while iterate != 0:\n",
    "    print(iterate)\n",
    "    iterate = iterate-1"
   ]
  },
  {
   "cell_type": "code",
   "execution_count": 14,
   "id": "48c3eec9-4fda-48f1-9554-e2371907ca3f",
   "metadata": {},
   "outputs": [
    {
     "name": "stdin",
     "output_type": "stream",
     "text": [
      "Enter the Number 12\n"
     ]
    },
    {
     "name": "stdout",
     "output_type": "stream",
     "text": [
      "The Number that Divide 12 are: \n",
      "2\n",
      "3\n"
     ]
    }
   ],
   "source": [
    "# Prime Number\n",
    "import math\n",
    "prime = int(input(\"Enter the Number\"))\n",
    "li = []\n",
    "for i in range(2, int(math.sqrt(prime))+1):\n",
    "    if(prime % i == 0):\n",
    "            li.append(i)\n",
    "if li:\n",
    "    print(\"The Number that Divide\",prime, \"are: \")\n",
    "    for ele in li:\n",
    "        print(ele)\n",
    "else :\n",
    "    print(\"The Number is Prime\")"
   ]
  },
  {
   "cell_type": "code",
   "execution_count": null,
   "id": "185dc614-55cb-4f32-a05e-6967c3598f75",
   "metadata": {},
   "outputs": [],
   "source": []
  }
 ],
 "metadata": {
  "kernelspec": {
   "display_name": "Python [conda env:base] *",
   "language": "python",
   "name": "conda-base-py"
  },
  "language_info": {
   "codemirror_mode": {
    "name": "ipython",
    "version": 3
   },
   "file_extension": ".py",
   "mimetype": "text/x-python",
   "name": "python",
   "nbconvert_exporter": "python",
   "pygments_lexer": "ipython3",
   "version": "3.13.5"
  }
 },
 "nbformat": 4,
 "nbformat_minor": 5
}
