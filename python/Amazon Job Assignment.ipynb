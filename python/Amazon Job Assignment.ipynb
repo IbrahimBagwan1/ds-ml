{
 "cells": [
  {
   "cell_type": "code",
   "execution_count": 44,
   "id": "719fe038-7e03-4c11-8fab-35fec693219b",
   "metadata": {},
   "outputs": [
    {
     "name": "stdout",
     "output_type": "stream",
     "text": [
      "The Total Jobs Opening in Bangalore are:  66\n",
      "The Total Jobs Opening in Seatle are:  1856\n"
     ]
    }
   ],
   "source": [
    "import csv\n",
    "import pandas as pd\n",
    "with open(\"amazon_jobs_dataset.csv\", 'r', encoding='utf-8') as file_obj:\n",
    "    file_dict = csv.DictReader(file_obj, skipinitialspace = True)\n",
    "    file_list = list(file_dict)\n",
    "\n",
    "count_bangalore=0\n",
    "count_seatle = 0\n",
    "# print(file_list[1])\n",
    "\n",
    "for row in file_list:\n",
    "    if row['location']=='IN, KA, Bangalore ':\n",
    "        count_bangalore +=1\n",
    "    elif  row['location']=='US, WA, Seattle ':\n",
    "        count_seatle +=1\n",
    "        \n",
    "print(\"The Total Jobs Opening in Bangalore are: \", count_bangalore)\n",
    "print(\"The Total Jobs Opening in Seatle are: \", count_seatle)"
   ]
  },
  {
   "cell_type": "code",
   "execution_count": 45,
   "id": "f20fdbdf-49ce-4411-bca6-8141f23855f7",
   "metadata": {},
   "outputs": [
    {
     "name": "stdout",
     "output_type": "stream",
     "text": [
      "The Total Jobs Opening in Bangalore are:  66\n",
      "The Total Jobs Opening in Seatle are:  1856\n"
     ]
    }
   ],
   "source": [
    "import csv\n",
    "import pandas as pd\n",
    "\n",
    "count_bangalore=0\n",
    "count_seatle = 0\n",
    "\n",
    "with open(\"amazon_jobs_dataset.csv\", 'r', encoding='utf-8') as file_obj:\n",
    "    file_dict = csv.DictReader(file_obj, skipinitialspace = True)\n",
    "\n",
    "    for row in file_dict:\n",
    "        if row['location']=='IN, KA, Bangalore ':\n",
    "            count_bangalore +=1\n",
    "        elif  row['location']=='US, WA, Seattle ':\n",
    "            count_seatle +=1\n",
    "        \n",
    "print(\"The Total Jobs Opening in Bangalore are: \", count_bangalore)\n",
    "print(\"The Total Jobs Opening in Seatle are: \", count_seatle)"
   ]
  },
  {
   "cell_type": "code",
   "execution_count": 64,
   "id": "bb78ceb8-2db8-4301-a739-46da5cf12375",
   "metadata": {},
   "outputs": [
    {
     "name": "stdout",
     "output_type": "stream",
     "text": [
      "The Total Jobs Opening for Software Development Manager are:  763\n"
     ]
    }
   ],
   "source": [
    "# no of Software Development Managers\n",
    "\n",
    "import csv\n",
    "software_count =0\n",
    "with open(\"amazon_jobs_dataset.csv\", 'r', encoding='utf-8') as file_obj:\n",
    "    file_dict = csv.DictReader(file_obj, skipinitialspace = True)\n",
    "    file_list = list(file_dict)\n",
    "\n",
    "for row in file_list:\n",
    "    if row['Title'].strip() =='Software Development Engineer':\n",
    "        software_count +=1\n",
    "        \n",
    "print(\"The Total Jobs Opening for Software Development Manager are: \", software_count)\n",
    "\n"
   ]
  },
  {
   "cell_type": "code",
   "execution_count": 93,
   "id": "92fe9d98-cd20-4f9a-989a-15b095013193",
   "metadata": {},
   "outputs": [
    {
     "name": "stdout",
     "output_type": "stream",
     "text": [
      "{'March': 13, 'February': 790, 'January': 907}\n",
      "The Most Job Openings in the month in the Year 2018 Is:  January\n",
      "That is the Total Number is:  907\n"
     ]
    }
   ],
   "source": [
    "# find the month having most job opening in the year 2018\n",
    "\n",
    "import csv\n",
    "\n",
    "with open(\"amazon_jobs_dataset.csv\", 'r', encoding='utf-8') as file_obj:\n",
    "    file_dict = csv.DictReader(file_obj, skipinitialspace = True)\n",
    "    file_list = list(file_dict)\n",
    "most_frequent = {}\n",
    "\n",
    "# date is given : March  1, 2018\n",
    "\n",
    "for row in file_list:\n",
    "    date = row['Posting_date'].strip()\n",
    "\n",
    "    month_date, year = date.split(',')\n",
    "    parts = month_date.split()\n",
    "    month = parts[0]\n",
    "    \n",
    "    year = year.strip()\n",
    "    \n",
    "    if year=='2018':\n",
    "        if month in most_frequent :\n",
    "            most_frequent[month] +=1\n",
    "        else:\n",
    "            most_frequent[month]=1\n",
    "\n",
    "\n",
    "\n",
    "print(most_frequent)\n",
    "most_month =max(most_frequent, key=most_frequent.get)\n",
    "print(\"The Most Job Openings in the month in the Year 2018 Is: \",most_month )\n",
    "print(\"That is the Total Number is: \", most_frequent[most_month])"
   ]
  }
 ],
 "metadata": {
  "kernelspec": {
   "display_name": "Python [conda env:base] *",
   "language": "python",
   "name": "conda-base-py"
  },
  "language_info": {
   "codemirror_mode": {
    "name": "ipython",
    "version": 3
   },
   "file_extension": ".py",
   "mimetype": "text/x-python",
   "name": "python",
   "nbconvert_exporter": "python",
   "pygments_lexer": "ipython3",
   "version": "3.13.5"
  }
 },
 "nbformat": 4,
 "nbformat_minor": 5
}
