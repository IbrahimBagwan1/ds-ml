{
 "cells": [
  {
   "cell_type": "code",
   "execution_count": 2,
   "id": "cdfc9d81-b616-41dd-b7d5-2bf77810edfd",
   "metadata": {},
   "outputs": [],
   "source": [
    "import requests\n",
    "import json"
   ]
  },
  {
   "cell_type": "code",
   "execution_count": 11,
   "id": "5b0926eb-2dc0-4c1e-9b50-5614e4c934e3",
   "metadata": {},
   "outputs": [
    {
     "name": "stdout",
     "output_type": "stream",
     "text": [
      "401\n"
     ]
    }
   ],
   "source": [
    "from requests.auth import HTTPBasicAuth\n",
    "\n",
    "a = requests.get('https://api.github.com/user', auth= ('User_ID', 'Password'))\n",
    "print(a.status_code)"
   ]
  },
  {
   "cell_type": "code",
   "execution_count": 13,
   "id": "b9f98924-1859-4a15-a0f4-bdf7dfd9b8e8",
   "metadata": {},
   "outputs": [],
   "source": [
    "# creating a repo on github by python code\n",
    "\n",
    "import json\n",
    "info = {'name': 'test_repo', 'description': 'Created via API call', 'auto_init': 'true'}\n",
    "a = requests.post('https://api.github.com/user/repos', auth =('User_id', 'Password'), data = json.dumps(info))\n"
   ]
  }
 ],
 "metadata": {
  "kernelspec": {
   "display_name": "Python [conda env:base] *",
   "language": "python",
   "name": "conda-base-py"
  },
  "language_info": {
   "codemirror_mode": {
    "name": "ipython",
    "version": 3
   },
   "file_extension": ".py",
   "mimetype": "text/x-python",
   "name": "python",
   "nbconvert_exporter": "python",
   "pygments_lexer": "ipython3",
   "version": "3.13.5"
  }
 },
 "nbformat": 4,
 "nbformat_minor": 5
}
